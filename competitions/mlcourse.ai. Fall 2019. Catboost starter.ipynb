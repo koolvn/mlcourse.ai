{
 "cells": [
  {
   "cell_type": "markdown",
   "metadata": {},
   "source": [
    "<center>\n",
    "<img src=\"https://habrastorage.org/files/fd4/502/43d/fd450243dd604b81b9713213a247aa20.jpg\" />\n",
    "</center> \n",
    "     \n",
    "## <center>  [mlcourse.ai](https://mlcourse.ai) – Open Machine Learning Course \n",
    "\n",
    "#### <center> Author: [Yury Kashnitsky](https://yorko.github.io) (@yorko) \n",
    "\n",
    "# <center>Assignment #2. Fall 2019\n",
    "## <center> Part 2. Gradient boosting"
   ]
  },
  {
   "cell_type": "markdown",
   "metadata": {},
   "source": [
    "**In this assignment, you're asked to beat a baseline in the [\"Flight delays\" competition](https://www.kaggle.com/c/flight-delays-fall-2018).**\n",
    "\n",
    "This time we decided to share a pretty decent CatBoost baseline, you'll have to improve the provided solution.\n",
    "\n",
    "Prior to working on the assignment, you'd better check out the corresponding course material:\n",
    " 1. [Classification, Decision Trees and k Nearest Neighbors](https://nbviewer.jupyter.org/github/Yorko/mlcourse_open/blob/master/jupyter_english/topic03_decision_trees_kNN/topic3_decision_trees_kNN.ipynb?flush_cache=true), the same as an interactive web-based [Kaggle Kernel](https://www.kaggle.com/kashnitsky/topic-3-decision-trees-and-knn) \n",
    " 2. Ensembles:\n",
    "  - [Bagging](https://nbviewer.jupyter.org/github/Yorko/mlcourse_open/blob/master/jupyter_english/topic05_ensembles_random_forests/topic5_part1_bagging.ipynb?flush_cache=true), the same as a [Kaggle Kernel](https://www.kaggle.com/kashnitsky/topic-5-ensembles-part-1-bagging)\n",
    "  - [Random Forest](https://nbviewer.jupyter.org/github/Yorko/mlcourse_open/blob/master/jupyter_english/topic05_ensembles_random_forests/topic5_part2_random_forest.ipynb?flush_cache=true), the same as a [Kaggle Kernel](https://www.kaggle.com/kashnitsky/topic-5-ensembles-part-2-random-forest)\n",
    "  - [Feature Importance](https://nbviewer.jupyter.org/github/Yorko/mlcourse_open/blob/master/jupyter_english/topic05_ensembles_random_forests/topic5_part3_feature_importance.ipynb?flush_cache=true), the same as a [Kaggle Kernel](https://www.kaggle.com/kashnitsky/topic-5-ensembles-part-3-feature-importance)\n",
    " 3. - [Gradient boosting](https://nbviewer.jupyter.org/github/Yorko/mlcourse_open/blob/master/jupyter_english/topic10_boosting/topic10_gradient_boosting.ipynb?flush_cache=true), the same as a [Kaggle Kernel](https://www.kaggle.com/kashnitsky/topic-10-gradient-boosting) \n",
    "   - Logistic regression, Random Forest, and LightGBM in the \"Kaggle Forest Cover Type Prediction\" competition: [Kernel](https://www.kaggle.com/kashnitsky/topic-10-practice-with-logit-rf-and-lightgbm) \n",
    " 4. You can also practice with demo assignments, which are simpler and already shared with solutions:\n",
    "  - \"Decision trees with a toy task and the UCI Adult dataset\": [assignment](https://www.kaggle.com/kashnitsky/a3-demo-decision-trees) + [solution](https://www.kaggle.com/kashnitsky/a3-demo-decision-trees-solution)\n",
    "  - \"Logistic Regression and Random Forest in the credit scoring problem\": [assignment](https://www.kaggle.com/kashnitsky/assignment-5-logit-and-rf-for-credit-scoring) + [solution](https://www.kaggle.com/kashnitsky/a5-demo-logit-and-rf-for-credit-scoring-sol)\n",
    " 5. There are also 7 video lectures on trees, forests, boosting and their applications: [mlcourse.ai/video](https://mlcourse.ai/video) \n",
    " 6. mlcourse.ai tutorials on [categorical feature encoding](https://www.kaggle.com/waydeherman/tutorial-categorical-encoding) (by Wayde Herman) and [CatBoost](https://www.kaggle.com/mitribunskiy/tutorial-catboost-overview) (by Mikhail Tribunskiy)\n",
    " 7. Last but not the least: [Public Kernels](https://www.kaggle.com/c/flight-delays-fall-2018/notebooks) in this competition\n",
    "\n",
    "### Your task is to:\n",
    " 1. beat **\"A2 baseline (10 credits)\"** on Public LB (**0.75914** LB score)\n",
    " 2. rename your [team](https://www.kaggle.com/c/flight-delays-fall-2018/team) in full accordance with A1 and the [course rating](https://docs.google.com/spreadsheets/d/15e1K0tg5ponA5R6YQkZfihrShTDLAKf5qeKaoVCiuhQ/) (to appear on 16.09.2019)\n",
    " \n",
    "This task is intended to be relatively easy. Here you are not required to upload your reproducible solution.\n",
    " \n",
    "### <center> Deadline for A2: 2019 October 6, 20:59 CET (London time)"
   ]
  },
  {
   "cell_type": "code",
   "execution_count": 1,
   "metadata": {
    "pycharm": {
     "is_executing": false
    }
   },
   "outputs": [],
   "source": [
    "import warnings\n",
    "import numpy as np\n",
    "import pandas as pd\n",
    "from pathlib import Path\n",
    "from sklearn.model_selection import train_test_split\n",
    "from sklearn.metrics import roc_auc_score\n",
    "from catboost import CatBoostClassifier"
   ]
  },
  {
   "cell_type": "markdown",
   "metadata": {},
   "source": [
    "**Read the data**"
   ]
  },
  {
   "cell_type": "code",
   "execution_count": 2,
   "metadata": {
    "pycharm": {
     "is_executing": false
    }
   },
   "outputs": [],
   "source": [
    "# PATH_TO_DATA = Path('../input/flight-delays-fall-2018/')\n",
    "PATH_TO_DATA = Path('./data/')"
   ]
  },
  {
   "cell_type": "code",
   "execution_count": 3,
   "metadata": {
    "pycharm": {
     "is_executing": false
    }
   },
   "outputs": [],
   "source": [
    "train_df = pd.read_csv(PATH_TO_DATA / 'flight_delays_train.csv')"
   ]
  },
  {
   "cell_type": "code",
   "execution_count": 4,
   "metadata": {
    "pycharm": {
     "is_executing": false
    }
   },
   "outputs": [
    {
     "data": {
      "text/plain": "  Month DayofMonth DayOfWeek  DepTime UniqueCarrier Origin Dest  Distance  \\\n0   c-8       c-21       c-7     1934            AA    ATL  DFW       732   \n1   c-4       c-20       c-3     1548            US    PIT  MCO       834   \n2   c-9        c-2       c-5     1422            XE    RDU  CLE       416   \n3  c-11       c-25       c-6     1015            OO    DEN  MEM       872   \n4  c-10        c-7       c-6     1828            WN    MDW  OMA       423   \n\n  dep_delayed_15min  \n0                 N  \n1                 N  \n2                 N  \n3                 N  \n4                 Y  ",
      "text/html": "<div>\n<style scoped>\n    .dataframe tbody tr th:only-of-type {\n        vertical-align: middle;\n    }\n\n    .dataframe tbody tr th {\n        vertical-align: top;\n    }\n\n    .dataframe thead th {\n        text-align: right;\n    }\n</style>\n<table border=\"1\" class=\"dataframe\">\n  <thead>\n    <tr style=\"text-align: right;\">\n      <th></th>\n      <th>Month</th>\n      <th>DayofMonth</th>\n      <th>DayOfWeek</th>\n      <th>DepTime</th>\n      <th>UniqueCarrier</th>\n      <th>Origin</th>\n      <th>Dest</th>\n      <th>Distance</th>\n      <th>dep_delayed_15min</th>\n    </tr>\n  </thead>\n  <tbody>\n    <tr>\n      <td>0</td>\n      <td>c-8</td>\n      <td>c-21</td>\n      <td>c-7</td>\n      <td>1934</td>\n      <td>AA</td>\n      <td>ATL</td>\n      <td>DFW</td>\n      <td>732</td>\n      <td>N</td>\n    </tr>\n    <tr>\n      <td>1</td>\n      <td>c-4</td>\n      <td>c-20</td>\n      <td>c-3</td>\n      <td>1548</td>\n      <td>US</td>\n      <td>PIT</td>\n      <td>MCO</td>\n      <td>834</td>\n      <td>N</td>\n    </tr>\n    <tr>\n      <td>2</td>\n      <td>c-9</td>\n      <td>c-2</td>\n      <td>c-5</td>\n      <td>1422</td>\n      <td>XE</td>\n      <td>RDU</td>\n      <td>CLE</td>\n      <td>416</td>\n      <td>N</td>\n    </tr>\n    <tr>\n      <td>3</td>\n      <td>c-11</td>\n      <td>c-25</td>\n      <td>c-6</td>\n      <td>1015</td>\n      <td>OO</td>\n      <td>DEN</td>\n      <td>MEM</td>\n      <td>872</td>\n      <td>N</td>\n    </tr>\n    <tr>\n      <td>4</td>\n      <td>c-10</td>\n      <td>c-7</td>\n      <td>c-6</td>\n      <td>1828</td>\n      <td>WN</td>\n      <td>MDW</td>\n      <td>OMA</td>\n      <td>423</td>\n      <td>Y</td>\n    </tr>\n  </tbody>\n</table>\n</div>"
     },
     "metadata": {},
     "output_type": "execute_result",
     "execution_count": 4
    }
   ],
   "source": [
    "train_df.head()"
   ]
  },
  {
   "cell_type": "code",
   "execution_count": 5,
   "metadata": {
    "pycharm": {
     "is_executing": false
    }
   },
   "outputs": [],
   "source": [
    "test_df = pd.read_csv(PATH_TO_DATA / 'flight_delays_test.csv')"
   ]
  },
  {
   "cell_type": "code",
   "execution_count": 6,
   "metadata": {
    "pycharm": {
     "is_executing": false
    }
   },
   "outputs": [
    {
     "name": "stdout",
     "text": [
      "<class 'pandas.core.frame.DataFrame'>\nRangeIndex: 100000 entries, 0 to 99999\nData columns (total 8 columns):\nMonth            100000 non-null object\nDayofMonth       100000 non-null object\nDayOfWeek        100000 non-null object\nDepTime          100000 non-null int64\nUniqueCarrier    100000 non-null object\nOrigin           100000 non-null object\nDest             100000 non-null object\nDistance         100000 non-null int64\ndtypes: int64(2), object(6)\nmemory usage: 6.1+ MB\n"
     ],
     "output_type": "stream"
    }
   ],
   "source": [
    "test_df.info()"
   ]
  },
  {
   "cell_type": "markdown",
   "metadata": {},
   "source": [
    "**Create only one feature - “flight” (this you need to improve - add more features)**"
   ]
  },
  {
   "cell_type": "code",
   "execution_count": 7,
   "metadata": {
    "pycharm": {
     "is_executing": false
    }
   },
   "outputs": [
    {
     "data": {
      "text/plain": "  Month DayofMonth DayOfWeek  DepTime UniqueCarrier Origin Dest  Distance  \\\n0   c-8       c-21       c-7     1934            AA    ATL  DFW       732   \n1   c-4       c-20       c-3     1548            US    PIT  MCO       834   \n2   c-9        c-2       c-5     1422            XE    RDU  CLE       416   \n\n  dep_delayed_15min     flight    CarrierRout Dep_hour  Dep_minute  \\\n0                 N  ATL-->DFW  AA: ATL-->DFW       19          34   \n1                 N  PIT-->MCO  US: PIT-->MCO       15          48   \n2                 N  RDU-->CLE  XE: RDU-->CLE       14          22   \n\n  Dep_hour_flag Weekend  Winter  Spring  Summer  Autumn  \n0             1       1       0       0       1       0  \n1             1       0       0       1       0       0  \n2             1       1       0       0       0       1  ",
      "text/html": "<div>\n<style scoped>\n    .dataframe tbody tr th:only-of-type {\n        vertical-align: middle;\n    }\n\n    .dataframe tbody tr th {\n        vertical-align: top;\n    }\n\n    .dataframe thead th {\n        text-align: right;\n    }\n</style>\n<table border=\"1\" class=\"dataframe\">\n  <thead>\n    <tr style=\"text-align: right;\">\n      <th></th>\n      <th>Month</th>\n      <th>DayofMonth</th>\n      <th>DayOfWeek</th>\n      <th>DepTime</th>\n      <th>UniqueCarrier</th>\n      <th>Origin</th>\n      <th>Dest</th>\n      <th>Distance</th>\n      <th>dep_delayed_15min</th>\n      <th>flight</th>\n      <th>CarrierRout</th>\n      <th>Dep_hour</th>\n      <th>Dep_minute</th>\n      <th>Dep_hour_flag</th>\n      <th>Weekend</th>\n      <th>Winter</th>\n      <th>Spring</th>\n      <th>Summer</th>\n      <th>Autumn</th>\n    </tr>\n  </thead>\n  <tbody>\n    <tr>\n      <td>0</td>\n      <td>c-8</td>\n      <td>c-21</td>\n      <td>c-7</td>\n      <td>1934</td>\n      <td>AA</td>\n      <td>ATL</td>\n      <td>DFW</td>\n      <td>732</td>\n      <td>N</td>\n      <td>ATL--&gt;DFW</td>\n      <td>AA: ATL--&gt;DFW</td>\n      <td>19</td>\n      <td>34</td>\n      <td>1</td>\n      <td>1</td>\n      <td>0</td>\n      <td>0</td>\n      <td>1</td>\n      <td>0</td>\n    </tr>\n    <tr>\n      <td>1</td>\n      <td>c-4</td>\n      <td>c-20</td>\n      <td>c-3</td>\n      <td>1548</td>\n      <td>US</td>\n      <td>PIT</td>\n      <td>MCO</td>\n      <td>834</td>\n      <td>N</td>\n      <td>PIT--&gt;MCO</td>\n      <td>US: PIT--&gt;MCO</td>\n      <td>15</td>\n      <td>48</td>\n      <td>1</td>\n      <td>0</td>\n      <td>0</td>\n      <td>1</td>\n      <td>0</td>\n      <td>0</td>\n    </tr>\n    <tr>\n      <td>2</td>\n      <td>c-9</td>\n      <td>c-2</td>\n      <td>c-5</td>\n      <td>1422</td>\n      <td>XE</td>\n      <td>RDU</td>\n      <td>CLE</td>\n      <td>416</td>\n      <td>N</td>\n      <td>RDU--&gt;CLE</td>\n      <td>XE: RDU--&gt;CLE</td>\n      <td>14</td>\n      <td>22</td>\n      <td>1</td>\n      <td>1</td>\n      <td>0</td>\n      <td>0</td>\n      <td>0</td>\n      <td>1</td>\n    </tr>\n  </tbody>\n</table>\n</div>"
     },
     "metadata": {},
     "output_type": "execute_result",
     "execution_count": 7
    }
   ],
   "source": [
    "train_df = pd.read_csv(PATH_TO_DATA / 'flight_delays_train.csv')\n",
    "test_df = pd.read_csv(PATH_TO_DATA / 'flight_delays_test.csv')\n",
    "\n",
    "train_df['flight'] = train_df['Origin'] + '-->' + train_df['Dest']\n",
    "test_df['flight'] = test_df['Origin'] + '-->' + test_df['Dest']\n",
    "\n",
    "train_df['CarrierRout'] = train_df['UniqueCarrier'] + ': ' + train_df['flight']\n",
    "test_df['CarrierRout'] = test_df['UniqueCarrier'] + ': ' + test_df['flight']\n",
    "\n",
    "train_df['Dep_hour'] =  train_df['DepTime']//100\n",
    "train_df['Dep_minute'] =  train_df['DepTime']%100\n",
    "train_df['Dep_minute'] = train_df['Dep_minute']#.astype('object')\n",
    "train_df['Dep_hour'].replace(to_replace=[24,25], value=0, inplace=True)\n",
    "train_df['Dep_hour'] = train_df['Dep_hour'].astype('object')\n",
    "\n",
    "test_df['Dep_hour'] =  test_df['DepTime']//100\n",
    "test_df['Dep_minute'] =  test_df['DepTime']%100\n",
    "test_df['Dep_minute'] = test_df['Dep_minute']#.astype('object')\n",
    "test_df['Dep_hour'].replace(to_replace=[24,25], value=0, inplace=True)\n",
    "test_df['Dep_hour'] = test_df['Dep_hour'].astype('object')\n",
    "\n",
    "# train_df['Distance'] = train_df['Distance'].apply(np.log)#.astype('object')\n",
    "# test_df['Distance'] = train_df['Distance'].apply(np.log)#.astype('object')\n",
    "\n",
    "train_df['Dep_hour_flag'] = ((train_df['Dep_hour'] >= 6) & (train_df['Dep_hour'] < 23)).astype('int').astype('object')\n",
    "test_df['Dep_hour_flag'] = ((test_df['Dep_hour'] >= 6) & (test_df['Dep_hour'] < 23)).astype('int').astype('object')\n",
    "\n",
    "# def seasons(month):\n",
    "#     if month in ['12', '1', '2']:\n",
    "#         return 'winter'\n",
    "#     elif month in ['3', '4', '5']:\n",
    "#         return 'spring'\n",
    "#     elif month in ['6', '7', '8']:\n",
    "#         return 'summer'\n",
    "#     elif month in ['9', '10', '11']:\n",
    "#         return 'autumn'\n",
    "# \n",
    "# train_df['Season'] = train_df['Month'].apply(lambda x: x.split('-')[1]).apply(seasons)\n",
    "# test_df['Season'] = test_df['Month'].apply(lambda x: x.split('-')[1]).apply(seasons)\n",
    "\n",
    "def weekend(day):\n",
    "    if day in ['5', '6', '7']:\n",
    "        return 1\n",
    "    else:\n",
    "        return 0\n",
    "\n",
    "train_df['Weekend'] = train_df['DayOfWeek'].apply(lambda x: x.split('-')[1]).apply(weekend).astype('object')\n",
    "test_df['Weekend'] = test_df['DayOfWeek'].apply(lambda x: x.split('-')[1]).apply(weekend).astype('object')\n",
    "\n",
    "# Carrier Quality\n",
    "\n",
    "# total_flights_by_carrier = train_df.groupby(['UniqueCarrier']).count().sort_values(by='dep_delayed_15min', ascending=False)['dep_delayed_15min']\n",
    "# \n",
    "# number_of_delays_by_carrier = train_df[train_df['dep_delayed_15min'] == 'Y'].groupby(['UniqueCarrier']).count().sort_values(by='dep_delayed_15min', ascending=False)['dep_delayed_15min']\n",
    "# \n",
    "# prcnt_of_delays = ((number_of_delays_by_carrier*100)/total_flights_by_carrier).sort_values(ascending=False)\n",
    "# prcnt_of_delays = prcnt_of_delays.reset_index().rename({'dep_delayed_15min':'% of delayed flights'}, axis=1)\n",
    "# \n",
    "# def carrier_quality(x):    \n",
    "#     if x <= 10:\n",
    "#         return 'Good'\n",
    "#     if 17.81 >= x > 10:\n",
    "#         return 'Average'\n",
    "#     else:\n",
    "#         return 'Bad'\n",
    "# \n",
    "# prcnt_of_delays['carrier_quality'] = prcnt_of_delays['% of delayed flights'].apply(carrier_quality)\n",
    "# \n",
    "# # test_df['carrier_quality'] = test_df['UniqueCarrier'][test_df['UniqueCarrier'].isin(train_df['UniqueCarrier']) == False]\n",
    "# prcnt_of_delays = prcnt_of_delays.append({'UniqueCarrier': '9E', '% of delayed flights': 15.506958, 'carrier_quality': 'Average'}, ignore_index=True)\n",
    "# \n",
    "# train_df = train_df.merge(prcnt_of_delays, on='UniqueCarrier').drop(['% of delayed flights'], axis=1)\n",
    "# test_df = test_df.merge(prcnt_of_delays, on='UniqueCarrier').drop(['% of delayed flights'], axis=1)\n",
    "\n",
    "# Seasons binary\n",
    "\n",
    "train_df['Winter'] = train_df['Month'].apply(lambda x: x.split('-')[1]).isin(['12', '1', '2']).astype(int)#.astype('object')\n",
    "test_df['Winter'] = test_df['Month'].apply(lambda x: x.split('-')[1]).isin(['12', '1', '2']).astype(int)#.astype('object')\n",
    "\n",
    "train_df['Spring'] = train_df['Month'].apply(lambda x: x.split('-')[1]).isin(['3', '4', '5']).astype(int)#.astype('object')\n",
    "test_df['Spring'] = test_df['Month'].apply(lambda x: x.split('-')[1]).isin(['3', '4', '5']).astype(int)#.astype('object')\n",
    "\n",
    "train_df['Summer'] = train_df['Month'].apply(lambda x: x.split('-')[1]).isin(['6', '7', '8']).astype(int)#.astype('object')\n",
    "test_df['Summer'] = test_df['Month'].apply(lambda x: x.split('-')[1]).isin(['6', '7', '8']).astype(int)#.astype('object')\n",
    "\n",
    "train_df['Autumn'] = train_df['Month'].apply(lambda x: x.split('-')[1]).isin(['9', '10', '11']).astype(int)#.astype('object')\n",
    "test_df['Autumn'] = test_df['Month'].apply(lambda x: x.split('-')[1]).isin(['9', '10', '11']).astype(int)#.astype('object')\n",
    "\n",
    "\n",
    "# def part_of_day(hour):\n",
    "#     if int(hour) in range(6,12,1):\n",
    "#         return 'morning'\n",
    "#     if int(hour) in range(12,18,1):\n",
    "#         return 'day'\n",
    "#     if int(hour) in range(18, 24):\n",
    "#         return 'evening'\n",
    "#     else:\n",
    "#         return 'night'\n",
    "# \n",
    "# train_df['PartOfTheDay'] = train_df['Dep_hour'].apply(part_of_day).astype('object')\n",
    "# test_df['PartOfTheDay'] = test_df['Dep_hour'].apply(part_of_day).astype('object')\n",
    "# \n",
    "\n",
    "# def distance_cat(distance):\n",
    "#     if int(distance) < 500:\n",
    "#         return 'near'\n",
    "#     if 500 <= int(distance) < 1000:\n",
    "#         return 'middle'\n",
    "#     if int(distance) >= 1000:\n",
    "#         return 'far'\n",
    "#     \n",
    "# # train_df['Distance'].mean()    \n",
    "# test_df['DistCat'] = test_df['Distance'].astype('object')#.apply(distance_cat)\n",
    "# train_df['DistCat'] = train_df['Distance'].astype('object')#.apply(distance_cat)\n",
    "\n",
    "# train_df['DepTime'] = train_df['DepTime'].astype('object')\n",
    "# test_df['DepTime'] = test_df['DepTime'].astype('object')\n",
    "\n",
    "\n",
    "# Carrier Quality\n",
    "\n",
    "total_flights_by_carrier = train_df.groupby(['UniqueCarrier']).count().sort_values(by='dep_delayed_15min', ascending=False)['dep_delayed_15min']\n",
    "\n",
    "number_of_delays_by_carrier = train_df[train_df['dep_delayed_15min'] == 'Y'].groupby(['UniqueCarrier']).count().sort_values(by='dep_delayed_15min', ascending=False)['dep_delayed_15min']\n",
    "\n",
    "prcnt_of_delays = ((number_of_delays_by_carrier*100)/total_flights_by_carrier).sort_values(ascending=True)\n",
    "prcnt_of_delays = prcnt_of_delays.reset_index().rename({'dep_delayed_15min':'% of delayed flights'}, axis=1)\n",
    "\n",
    "list_of_good_carriers = list(\n",
    "    prcnt_of_delays[\n",
    "        prcnt_of_delays['% of delayed flights'] < prcnt_of_delays['% of delayed flights'].median()]['UniqueCarrier'])\n",
    "\n",
    "# list_of_bad_carriers = list(\n",
    "#     prcnt_of_delays[\n",
    "#         prcnt_of_delays['% of delayed flights'] > prcnt_of_delays['% of delayed flights'].median()]['UniqueCarrier'])\n",
    "\n",
    "def carrier_quality(carrier):    \n",
    "    if carrier in list_of_good_carriers:\n",
    "        return 'Good'\n",
    "    # elif carrier in list_of_bad_carriers:\n",
    "    #     return 'Bad'\n",
    "    else:\n",
    "        return 'Average'\n",
    "\n",
    "train_df['CarrierQuality'] = train_df['UniqueCarrier'].apply(carrier_quality)\n",
    "test_df['CarrierQuality'] = test_df['UniqueCarrier'].apply(carrier_quality)\n",
    "\n",
    "test_df.head(3)"
   ]
  },
  {
   "cell_type": "code",
   "execution_count": 65,
   "outputs": [
    {
     "data": {
      "text/plain": "                         flight\nCarrierRout   DayOfWeek        \nAA: ABQ-->DFW c-1             9\n              c-2             3\n              c-3             6\n              c-4             6\n              c-5             4\n...                         ...\nYV: YUM-->PHX c-2             2\n              c-3             2\n              c-4             4\n              c-5             3\n              c-6             1\n\n[34744 rows x 1 columns]",
      "text/html": "<div>\n<style scoped>\n    .dataframe tbody tr th:only-of-type {\n        vertical-align: middle;\n    }\n\n    .dataframe tbody tr th {\n        vertical-align: top;\n    }\n\n    .dataframe thead th {\n        text-align: right;\n    }\n</style>\n<table border=\"1\" class=\"dataframe\">\n  <thead>\n    <tr style=\"text-align: right;\">\n      <th></th>\n      <th></th>\n      <th>flight</th>\n    </tr>\n    <tr>\n      <th>CarrierRout</th>\n      <th>DayOfWeek</th>\n      <th></th>\n    </tr>\n  </thead>\n  <tbody>\n    <tr>\n      <td rowspan=\"5\" valign=\"top\">AA: ABQ--&gt;DFW</td>\n      <td>c-1</td>\n      <td>9</td>\n    </tr>\n    <tr>\n      <td>c-2</td>\n      <td>3</td>\n    </tr>\n    <tr>\n      <td>c-3</td>\n      <td>6</td>\n    </tr>\n    <tr>\n      <td>c-4</td>\n      <td>6</td>\n    </tr>\n    <tr>\n      <td>c-5</td>\n      <td>4</td>\n    </tr>\n    <tr>\n      <td>...</td>\n      <td>...</td>\n      <td>...</td>\n    </tr>\n    <tr>\n      <td rowspan=\"5\" valign=\"top\">YV: YUM--&gt;PHX</td>\n      <td>c-2</td>\n      <td>2</td>\n    </tr>\n    <tr>\n      <td>c-3</td>\n      <td>2</td>\n    </tr>\n    <tr>\n      <td>c-4</td>\n      <td>4</td>\n    </tr>\n    <tr>\n      <td>c-5</td>\n      <td>3</td>\n    </tr>\n    <tr>\n      <td>c-6</td>\n      <td>1</td>\n    </tr>\n  </tbody>\n</table>\n<p>34744 rows × 1 columns</p>\n</div>"
     },
     "metadata": {},
     "output_type": "execute_result",
     "execution_count": 65
    }
   ],
   "source": [
    "train_df.groupby(['CarrierRout', 'DayOfWeek'])[['flight']].count()"
   ],
   "metadata": {
    "collapsed": false,
    "pycharm": {
     "name": "#%%\n",
     "is_executing": false
    }
   }
  },
  {
   "cell_type": "code",
   "execution_count": 9,
   "outputs": [
    {
     "data": {
      "text/plain": "Month             0\nDayofMonth        0\nDayOfWeek         0\nDepTime           0\nUniqueCarrier     0\nOrigin            0\nDest              0\nDistance          0\nflight            0\nCarrierRout       0\nDep_hour          0\nDep_minute        0\nDep_hour_flag     0\nWeekend           0\nWinter            0\nSpring            0\nSummer            0\nAutumn            0\nCarrierQuality    0\ndtype: int64"
     },
     "metadata": {},
     "output_type": "execute_result",
     "execution_count": 9
    }
   ],
   "source": [
    "test_df.isna().sum()"
   ],
   "metadata": {
    "collapsed": false,
    "pycharm": {
     "name": "#%%\n",
     "is_executing": false
    }
   }
  },
  {
   "cell_type": "code",
   "execution_count": 10,
   "metadata": {
    "pycharm": {
     "is_executing": false
    }
   },
   "outputs": [
    {
     "data": {
      "text/plain": "array([ True,  True,  True,  True,  True,  True,  True,  True,  True,\n        True,  True,  True,  True,  True,  True,  True,  True,  True,\n        True])"
     },
     "metadata": {},
     "output_type": "execute_result",
     "execution_count": 10
    }
   ],
   "source": [
    "train_df.drop('dep_delayed_15min', axis=1).columns == test_df.columns"
   ]
  },
  {
   "cell_type": "code",
   "execution_count": 11,
   "outputs": [
    {
     "data": {
      "text/plain": "True"
     },
     "metadata": {},
     "output_type": "execute_result",
     "execution_count": 11
    }
   ],
   "source": [
    "train_df.shape[0] == test_df.shape[0]"
   ],
   "metadata": {
    "collapsed": false,
    "pycharm": {
     "name": "#%%\n",
     "is_executing": false
    }
   }
  },
  {
   "cell_type": "code",
   "execution_count": 12,
   "outputs": [
    {
     "data": {
      "text/plain": "Month                object\nDayofMonth           object\nDayOfWeek            object\nDepTime               int64\nUniqueCarrier        object\nOrigin               object\nDest                 object\nDistance              int64\ndep_delayed_15min    object\nflight               object\nCarrierRout          object\nDep_hour             object\nDep_minute            int64\nDep_hour_flag        object\nWeekend              object\nWinter                int32\nSpring                int32\nSummer                int32\nAutumn                int32\nCarrierQuality       object\ndtype: object"
     },
     "metadata": {},
     "output_type": "execute_result",
     "execution_count": 12
    }
   ],
   "source": [
    "train_df.dtypes"
   ],
   "metadata": {
    "collapsed": false,
    "pycharm": {
     "name": "#%%\n",
     "is_executing": false
    }
   }
  },
  {
   "cell_type": "markdown",
   "metadata": {},
   "source": [
    "**Remember indexes of categorical features (to be passed to CatBoost)**"
   ]
  },
  {
   "cell_type": "code",
   "execution_count": 13,
   "metadata": {
    "pycharm": {
     "is_executing": false
    }
   },
   "outputs": [
    {
     "data": {
      "text/plain": "array([ 0,  1,  2,  4,  5,  6,  8,  9, 10, 12, 13, 18], dtype=int64)"
     },
     "metadata": {},
     "output_type": "execute_result",
     "execution_count": 13
    }
   ],
   "source": [
    "categ_feat_idx = np.where(train_df.drop('dep_delayed_15min', axis=1).dtypes == 'object')[0]\n",
    "categ_feat_idx"
   ]
  },
  {
   "cell_type": "code",
   "execution_count": 14,
   "metadata": {
    "pycharm": {
     "is_executing": false
    }
   },
   "outputs": [
    {
     "data": {
      "text/plain": "Index(['Month', 'DayofMonth', 'DayOfWeek', 'UniqueCarrier', 'Origin', 'Dest',\n       'flight', 'CarrierRout', 'Dep_hour', 'Dep_hour_flag', 'Weekend',\n       'CarrierQuality'],\n      dtype='object')"
     },
     "metadata": {},
     "output_type": "execute_result",
     "execution_count": 14
    }
   ],
   "source": [
    "train_df.drop('dep_delayed_15min', axis=1).columns[categ_feat_idx]"
   ]
  },
  {
   "cell_type": "markdown",
   "metadata": {},
   "source": [
    "**Allocate a hold-out set (a.k.a. a validation set) to validate the model**"
   ]
  },
  {
   "cell_type": "code",
   "execution_count": 15,
   "metadata": {
    "pycharm": {
     "is_executing": false
    }
   },
   "outputs": [],
   "source": [
    "X_train = train_df.drop('dep_delayed_15min', axis=1).values\n",
    "y_train = train_df['dep_delayed_15min'].map({'Y': 1, 'N': 0}).values\n",
    "X_test = test_df.values"
   ]
  },
  {
   "cell_type": "code",
   "execution_count": 16,
   "metadata": {
    "pycharm": {
     "is_executing": false
    }
   },
   "outputs": [],
   "source": [
    "X_train_part, X_valid, y_train_part, y_valid = train_test_split(X_train, y_train, \n",
    "                                                                test_size=0.3, \n",
    "                                                                random_state=17)"
   ]
  },
  {
   "cell_type": "markdown",
   "metadata": {},
   "source": [
    "**Train Catboost with default arguments, passing only the indexes of categorical features.**"
   ]
  },
  {
   "cell_type": "code",
   "execution_count": 17,
   "metadata": {
    "pycharm": {
     "is_executing": false
    }
   },
   "outputs": [],
   "source": [
    "ctb = CatBoostClassifier(random_seed=17, silent=True)"
   ]
  },
  {
   "cell_type": "code",
   "execution_count": 18,
   "metadata": {
    "pycharm": {
     "is_executing": false
    }
   },
   "outputs": [
    {
     "name": "stdout",
     "text": [
      "Wall time: 1min 38s\n"
     ],
     "output_type": "stream"
    },
    {
     "data": {
      "text/plain": "<catboost.core.CatBoostClassifier at 0x201e7babbc8>"
     },
     "metadata": {},
     "output_type": "execute_result",
     "execution_count": 18
    }
   ],
   "source": [
    "%%time\n",
    "ctb.fit(X_train_part, y_train_part,\n",
    "        cat_features=categ_feat_idx);"
   ]
  },
  {
   "cell_type": "code",
   "execution_count": 19,
   "metadata": {
    "pycharm": {
     "is_executing": false
    }
   },
   "outputs": [],
   "source": [
    "ctb_valid_pred = ctb.predict_proba(X_valid)[:, 1]"
   ]
  },
  {
   "cell_type": "markdown",
   "metadata": {},
   "source": [
    "**We got some 0.756 ROC AUC on the hold-out set.**"
   ]
  },
  {
   "cell_type": "code",
   "execution_count": 20,
   "metadata": {
    "pycharm": {
     "is_executing": false
    }
   },
   "outputs": [
    {
     "data": {
      "text/plain": "0.8082591206770892"
     },
     "metadata": {},
     "output_type": "execute_result",
     "execution_count": 20
    }
   ],
   "source": [
    "roc_auc_score(y_valid, ctb_valid_pred)"
   ]
  },
  {
   "cell_type": "markdown",
   "metadata": {},
   "source": [
    "**Train on the whole train set, make prediction on the test set. We got ~0.734 in the competition - \"Catboost starter\" baseline**"
   ]
  },
  {
   "cell_type": "code",
   "execution_count": 21,
   "metadata": {
    "pycharm": {
     "is_executing": false
    }
   },
   "outputs": [
    {
     "name": "stdout",
     "text": [
      "Wall time: 2min 21s\n"
     ],
     "output_type": "stream"
    },
    {
     "data": {
      "text/plain": "<catboost.core.CatBoostClassifier at 0x201e7babbc8>"
     },
     "metadata": {},
     "output_type": "execute_result",
     "execution_count": 21
    }
   ],
   "source": [
    "%%time\n",
    "ctb.fit(X_train, y_train,\n",
    "        cat_features=categ_feat_idx);"
   ]
  },
  {
   "cell_type": "code",
   "execution_count": 22,
   "metadata": {
    "pycharm": {
     "is_executing": false
    }
   },
   "outputs": [],
   "source": [
    "ctb_test_pred = ctb.predict_proba(X_test)[:, 1]"
   ]
  },
  {
   "cell_type": "code",
   "execution_count": 23,
   "metadata": {
    "pycharm": {
     "is_executing": false
    }
   },
   "outputs": [],
   "source": [
    "with warnings.catch_warnings():\n",
    "    warnings.simplefilter(\"ignore\")\n",
    "    \n",
    "    sample_sub = pd.read_csv(PATH_TO_DATA / 'sample_submission.csv', \n",
    "                             index_col='id')\n",
    "    sample_sub['dep_delayed_15min'] = ctb_test_pred\n",
    "    sample_sub.to_csv('ctb_pred.csv')"
   ]
  },
  {
   "cell_type": "code",
   "execution_count": 24,
   "outputs": [
    {
     "name": "stdout",
     "text": [
      "<class 'pandas.core.frame.DataFrame'>\nInt64Index: 100000 entries, 0 to 99999\nData columns (total 1 columns):\ndep_delayed_15min    100000 non-null float64\ndtypes: float64(1)\nmemory usage: 1.5 MB\n"
     ],
     "output_type": "stream"
    }
   ],
   "source": [
    "sample_sub.info()"
   ],
   "metadata": {
    "collapsed": false,
    "pycharm": {
     "name": "#%%\n",
     "is_executing": false
    }
   }
  },
  {
   "cell_type": "code",
   "execution_count": 25,
   "metadata": {
    "pycharm": {
     "is_executing": false
    }
   },
   "outputs": [
    {
     "name": "stderr",
     "text": [
      "\"head\" ­Ґ пў«пҐвбп ў­гваҐ­­Ґ© Ё«Ё ў­Ґи­Ґ©\nЄ®¬ ­¤®©, ЁбЇ®«­пҐ¬®© Їа®Ја ¬¬®© Ё«Ё Ї ЄҐв­л¬ д ©«®¬.\n"
     ],
     "output_type": "stream"
    }
   ],
   "source": [
    "!head ctb_pred.csv"
   ]
  },
  {
   "cell_type": "markdown",
   "metadata": {},
   "source": [
    "Now's your turn! Go and improve the model to beat **\"A2 baseline (10 credits)\"** - **0.75914** LB score. It's crucial to come up with some good features. \n",
    "\n",
    "For discussions, stick to the **#a2_kaggle_fall2019** thread in the **mlcourse_ai_news** [ODS Slack](http://opendatascience.slack.com) channel. Serhii Romanenko (@serhii_romanenko) will be there to help. \n",
    "\n",
    "Welcome to Kaggle!\n",
    "\n",
    "<img src='https://habrastorage.org/webt/fs/42/ms/fs42ms0r7qsoj-da4x7yfntwrbq.jpeg' width=50%>\n",
    "*from the [\"Nerd Laughing Loud\"](https://www.kaggle.com/general/76963) thread.*"
   ]
  }
 ],
 "metadata": {
  "kernelspec": {
   "display_name": "Python 3",
   "language": "python",
   "name": "python3"
  },
  "language_info": {
   "codemirror_mode": {
    "name": "ipython",
    "version": 3
   },
   "file_extension": ".py",
   "mimetype": "text/x-python",
   "name": "python",
   "nbconvert_exporter": "python",
   "pygments_lexer": "ipython3",
   "version": "3.7.3"
  },
  "pycharm": {
   "stem_cell": {
    "cell_type": "raw",
    "source": [],
    "metadata": {
     "collapsed": false
    }
   }
  }
 },
 "nbformat": 4,
 "nbformat_minor": 1
}