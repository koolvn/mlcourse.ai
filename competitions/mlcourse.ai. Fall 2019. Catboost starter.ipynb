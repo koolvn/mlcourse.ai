{
 "cells": [
  {
   "cell_type": "markdown",
   "metadata": {},
   "source": [
    "<center>\n",
    "<img src=\"https://habrastorage.org/files/fd4/502/43d/fd450243dd604b81b9713213a247aa20.jpg\" />\n",
    "</center> \n",
    "     \n",
    "## <center>  [mlcourse.ai](https://mlcourse.ai) – Open Machine Learning Course \n",
    "\n",
    "#### <center> Author: [Yury Kashnitsky](https://yorko.github.io) (@yorko) \n",
    "\n",
    "# <center>Assignment #2. Fall 2019\n",
    "## <center> Part 2. Gradient boosting"
   ]
  },
  {
   "cell_type": "markdown",
   "metadata": {},
   "source": [
    "**In this assignment, you're asked to beat a baseline in the [\"Flight delays\" competition](https://www.kaggle.com/c/flight-delays-fall-2018).**\n",
    "\n",
    "This time we decided to share a pretty decent CatBoost baseline, you'll have to improve the provided solution.\n",
    "\n",
    "Prior to working on the assignment, you'd better check out the corresponding course material:\n",
    " 1. [Classification, Decision Trees and k Nearest Neighbors](https://nbviewer.jupyter.org/github/Yorko/mlcourse_open/blob/master/jupyter_english/topic03_decision_trees_kNN/topic3_decision_trees_kNN.ipynb?flush_cache=true), the same as an interactive web-based [Kaggle Kernel](https://www.kaggle.com/kashnitsky/topic-3-decision-trees-and-knn) \n",
    " 2. Ensembles:\n",
    "  - [Bagging](https://nbviewer.jupyter.org/github/Yorko/mlcourse_open/blob/master/jupyter_english/topic05_ensembles_random_forests/topic5_part1_bagging.ipynb?flush_cache=true), the same as a [Kaggle Kernel](https://www.kaggle.com/kashnitsky/topic-5-ensembles-part-1-bagging)\n",
    "  - [Random Forest](https://nbviewer.jupyter.org/github/Yorko/mlcourse_open/blob/master/jupyter_english/topic05_ensembles_random_forests/topic5_part2_random_forest.ipynb?flush_cache=true), the same as a [Kaggle Kernel](https://www.kaggle.com/kashnitsky/topic-5-ensembles-part-2-random-forest)\n",
    "  - [Feature Importance](https://nbviewer.jupyter.org/github/Yorko/mlcourse_open/blob/master/jupyter_english/topic05_ensembles_random_forests/topic5_part3_feature_importance.ipynb?flush_cache=true), the same as a [Kaggle Kernel](https://www.kaggle.com/kashnitsky/topic-5-ensembles-part-3-feature-importance)\n",
    " 3. - [Gradient boosting](https://nbviewer.jupyter.org/github/Yorko/mlcourse_open/blob/master/jupyter_english/topic10_boosting/topic10_gradient_boosting.ipynb?flush_cache=true), the same as a [Kaggle Kernel](https://www.kaggle.com/kashnitsky/topic-10-gradient-boosting) \n",
    "   - Logistic regression, Random Forest, and LightGBM in the \"Kaggle Forest Cover Type Prediction\" competition: [Kernel](https://www.kaggle.com/kashnitsky/topic-10-practice-with-logit-rf-and-lightgbm) \n",
    " 4. You can also practice with demo assignments, which are simpler and already shared with solutions:\n",
    "  - \"Decision trees with a toy task and the UCI Adult dataset\": [assignment](https://www.kaggle.com/kashnitsky/a3-demo-decision-trees) + [solution](https://www.kaggle.com/kashnitsky/a3-demo-decision-trees-solution)\n",
    "  - \"Logistic Regression and Random Forest in the credit scoring problem\": [assignment](https://www.kaggle.com/kashnitsky/assignment-5-logit-and-rf-for-credit-scoring) + [solution](https://www.kaggle.com/kashnitsky/a5-demo-logit-and-rf-for-credit-scoring-sol)\n",
    " 5. There are also 7 video lectures on trees, forests, boosting and their applications: [mlcourse.ai/video](https://mlcourse.ai/video) \n",
    " 6. mlcourse.ai tutorials on [categorical feature encoding](https://www.kaggle.com/waydeherman/tutorial-categorical-encoding) (by Wayde Herman) and [CatBoost](https://www.kaggle.com/mitribunskiy/tutorial-catboost-overview) (by Mikhail Tribunskiy)\n",
    " 7. Last but not the least: [Public Kernels](https://www.kaggle.com/c/flight-delays-fall-2018/notebooks) in this competition\n",
    "\n",
    "### Your task is to:\n",
    " 1. beat **\"A2 baseline (10 credits)\"** on Public LB (**0.75914** LB score)\n",
    " 2. rename your [team](https://www.kaggle.com/c/flight-delays-fall-2018/team) in full accordance with A1 and the [course rating](https://docs.google.com/spreadsheets/d/15e1K0tg5ponA5R6YQkZfihrShTDLAKf5qeKaoVCiuhQ/) (to appear on 16.09.2019)\n",
    " \n",
    "This task is intended to be relatively easy. Here you are not required to upload your reproducible solution.\n",
    " \n",
    "### <center> Deadline for A2: 2019 October 6, 20:59 CET (London time)"
   ]
  },
  {
   "cell_type": "code",
   "execution_count": 1,
   "metadata": {
    "pycharm": {
     "is_executing": false
    }
   },
   "outputs": [],
   "source": [
    "import warnings\n",
    "import numpy as np\n",
    "import pandas as pd\n",
    "from pathlib import Path\n",
    "from sklearn.model_selection import train_test_split\n",
    "from sklearn.metrics import roc_auc_score\n",
    "from catboost import CatBoostClassifier"
   ]
  },
  {
   "cell_type": "markdown",
   "metadata": {},
   "source": [
    "**Read the data**"
   ]
  },
  {
   "cell_type": "code",
   "execution_count": 2,
   "metadata": {
    "pycharm": {
     "is_executing": false
    }
   },
   "outputs": [],
   "source": [
    "# PATH_TO_DATA = Path('../input/flight-delays-fall-2018/')\n",
    "PATH_TO_DATA = Path('./data/')"
   ]
  },
  {
   "cell_type": "markdown",
   "metadata": {},
   "source": [
    "**Create only one feature - “flight” (this you need to improve - add more features)**"
   ]
  },
  {
   "cell_type": "code",
   "execution_count": 185,
   "metadata": {
    "pycharm": {
     "is_executing": false
    }
   },
   "outputs": [
    {
     "name": "stdout",
     "output_type": "stream",
     "text": [
      "<class 'pandas.core.frame.DataFrame'>\n",
      "RangeIndex: 100000 entries, 0 to 99999\n",
      "Data columns (total 19 columns):\n",
      "Month                   100000 non-null object\n",
      "DayofMonth              100000 non-null object\n",
      "DayOfWeek               100000 non-null object\n",
      "DepTime                 100000 non-null int64\n",
      "UniqueCarrier           100000 non-null object\n",
      "Origin                  100000 non-null object\n",
      "Dest                    100000 non-null object\n",
      "Distance                100000 non-null int64\n",
      "DepHour                 100000 non-null int64\n",
      "DepMinute               100000 non-null int64\n",
      "flight                  100000 non-null object\n",
      "CarrierDestDist         100000 non-null object\n",
      "DayHour                 100000 non-null object\n",
      "CarrierOriginDepHour    100000 non-null object\n",
      "CarrierDepHour          100000 non-null object\n",
      "Season                  100000 non-null object\n",
      "CarrierOrigin           100000 non-null object\n",
      "CarrierRout             100000 non-null object\n",
      "CarrierRoutDepHour      100000 non-null object\n",
      "dtypes: int64(4), object(15)\n",
      "memory usage: 14.5+ MB\n"
     ]
    }
   ],
   "source": [
    "train_df = pd.read_csv(PATH_TO_DATA / 'flight_delays_train.csv')\n",
    "test_df = pd.read_csv(PATH_TO_DATA / 'flight_delays_test.csv')\n",
    "\n",
    "train_df['DepHour'] = train_df['DepTime']//100\n",
    "train_df['DepHour'].replace(to_replace=[24,25], value=0, inplace=True)\n",
    "# train_df['DepHour'] = train_df['DepHour'].astype('object')\n",
    "test_df['DepHour'] = test_df['DepTime']//100\n",
    "test_df['DepHour'].replace(to_replace=[24,25], value=0, inplace=True)\n",
    "# test_df['DepHour'] = test_df['DepHour'].astype('object')\n",
    "\n",
    "train_df['DepMinute'] = train_df['DepTime']%100\n",
    "# train_df['DepMinute'] = train_df['DepMinute'].astype('object')\n",
    "test_df['DepMinute'] = test_df['DepTime']%100\n",
    "# test_df['DepMinute'] = test_df['DepMinute'].astype('object')\n",
    "\n",
    "train_df['flight'] = train_df['Origin'] + '-->' + train_df['Dest']# + ':' + train_df['Distance'].astype('str')\n",
    "test_df['flight'] = test_df['Origin'] + '-->' + test_df['Dest']# + ':' + test_df['Distance'].astype('str')\n",
    "\n",
    "train_df['CarrierDestDist'] = train_df['UniqueCarrier'] + ': ' + train_df['Dest'] + ': ' + train_df['Distance'].astype('str')\n",
    "test_df['CarrierDestDist'] = test_df['UniqueCarrier'] + ': ' + test_df['Dest'] + ': ' + test_df['Distance'].astype('str')\n",
    "\n",
    "train_df['DayHour'] = train_df['DayOfWeek'] + ': ' + train_df['DepHour'].astype('str')\n",
    "test_df['DayHour'] = test_df['DayOfWeek'] + ': ' + test_df['DepHour'].astype('str')\n",
    "\n",
    "train_df['CarrierOriginDepHour'] = train_df['UniqueCarrier'] + ': ' + train_df['Origin'] + ': ' + train_df['DepHour'].astype('str')\n",
    "test_df['CarrierOriginDepHour'] = test_df['UniqueCarrier'] + ': ' + test_df['Origin'] + ': ' + test_df['DepHour'].astype('str')\n",
    "\n",
    "train_df['CarrierDepHour'] = train_df['UniqueCarrier'] + ': ' + train_df['DepHour'].astype('str')\n",
    "test_df['CarrierDepHour'] = test_df['UniqueCarrier'] + ': ' + test_df['DepHour'].astype('str')\n",
    "\n",
    "# train_df['CarrierDepTime'] = train_df['UniqueCarrier'] + ': ' + train_df['DepTime'].astype('str')\n",
    "# test_df['CarrierDepTime'] = test_df['UniqueCarrier'] + ': ' + test_df['DepTime'].astype('str')\n",
    "\n",
    "# train_df = train_df.drop(['DepTime'], axis=1)\n",
    "# test_df = test_df.drop(['DepTime'], axis=1)\n",
    "\n",
    "# train_df = train_df.drop(['UniqueCarrier', 'Dest', 'Distance', 'Origin', 'flight', 'Month', 'DayofMonth'], axis=1)\n",
    "# test_df = test_df.drop(['UniqueCarrier', 'Dest', 'Distance', 'Origin', 'flight', 'Month', 'DayofMonth'], axis=1)\n",
    "\n",
    "\n",
    "# Season category\n",
    "def seasons(month):\n",
    "    if month in ['12', '1', '2']:\n",
    "        return 'winter'\n",
    "    elif month in ['3', '4', '5']:\n",
    "        return 'spring'\n",
    "    elif month in ['6', '7', '8']:\n",
    "        return 'summer'\n",
    "    elif month in ['9', '10', '11']:\n",
    "        return 'autumn'\n",
    "train_df['Season'] = train_df['Month'].apply(lambda x: x.split('-')[1]).apply(seasons)\n",
    "test_df['Season'] = test_df['Month'].apply(lambda x: x.split('-')[1]).apply(seasons)\n",
    "\n",
    "\n",
    "train_df['CarrierOrigin'] = train_df['UniqueCarrier'] + ': ' + train_df['Origin']\n",
    "test_df['CarrierOrigin'] = test_df['UniqueCarrier'] + ': ' + test_df['Origin']\n",
    "\n",
    "# train_df['CarrierDest'] = train_df['UniqueCarrier'] + ': ' + train_df['Dest']\n",
    "# test_df['CarrierDest'] = test_df['UniqueCarrier'] + ': ' + test_df['Dest']\n",
    "\n",
    "train_df['CarrierRout'] = train_df['UniqueCarrier'] + ': ' + train_df['flight']\n",
    "test_df['CarrierRout'] = test_df['UniqueCarrier'] + ': ' + test_df['flight']\n",
    "\n",
    "# train_df['CarrierDistanceDepHour'] = train_df['UniqueCarrier'] + ': ' + train_df['Distance'].astype('str') + ': ' + train_df['DepHour'].astype('str')\n",
    "# test_df['CarrierDistanceDepHour'] = test_df['UniqueCarrier'] + ': ' + test_df['Distance'].astype('str') + ': ' + test_df['DepHour'].astype('str')\n",
    "\n",
    "train_df['CarrierRoutDepHour'] = train_df['UniqueCarrier'] + ': ' + train_df['flight'] + ': ' + train_df['DepHour'].astype('str')\n",
    "test_df['CarrierRoutDepHour'] = test_df['UniqueCarrier'] + ': ' + test_df['flight'] + ': ' + test_df['DepHour'].astype('str')\n",
    "\n",
    "# train_df['CarrierDistance'] = train_df['UniqueCarrier'] + ': ' + train_df['Distance'].astype('str')\n",
    "# test_df['CarrierDistance'] = test_df['UniqueCarrier'] + ': ' + test_df['Distance'].astype('str')\n",
    "\n",
    "# train_df['CarrierWeekDayDepHour'] = train_df['UniqueCarrier'] + ': ' + train_df['DayOfWeek'] + ': ' + train_df['DepHour'].astype('str')\n",
    "# test_df['CarrierWeekDayDepHour'] = test_df['UniqueCarrier'] + ': ' + test_df['DayOfWeek'] + ': ' + test_df['DepHour'].astype('str')\n",
    "\n",
    "# train_df['CarrierMonthDayDepHour'] = train_df['UniqueCarrier'] + ': ' + train_df['DayofMonth'] + ': ' + train_df['DepHour'].astype('str')\n",
    "# test_df['CarrierMonthDayDepHour'] = test_df['UniqueCarrier'] + ': ' + test_df['DayofMonth'] + ': ' + test_df['DepHour'].astype('str')\n",
    "\n",
    "# train_df['SeasonWDay'] = train_df['Season'] + train_df['DayOfWeek']\n",
    "# test_df['SeasonWDay'] = test_df['Season'] + test_df['DayOfWeek']\n",
    "\n",
    "# train_df['DepHour_flag'] = ((train_df['DepHour'] >= 6) & (train_df['DepHour'] < 23)).astype('int')\n",
    "# test_df['DepHour_flag'] = ((test_df['DepHour'] >= 6) & (test_df['DepHour'] < 23)).astype('int')\n",
    "\n",
    "# # Carrier Quality\n",
    "\n",
    "# total_flights_by_carrier = train_df.groupby(['UniqueCarrier']).count().sort_values(by='dep_delayed_15min', ascending=False)['dep_delayed_15min']\n",
    "\n",
    "# number_of_delays_by_carrier = train_df[train_df['dep_delayed_15min'] == 'Y'].groupby(['UniqueCarrier']).count().sort_values(by='dep_delayed_15min', ascending=False)['dep_delayed_15min']\n",
    "\n",
    "# prcnt_of_delays = ((number_of_delays_by_carrier*100)/total_flights_by_carrier).sort_values(ascending=True)\n",
    "# prcnt_of_delays = prcnt_of_delays.reset_index().rename({'dep_delayed_15min':'% of delayed flights'}, axis=1)\n",
    "\n",
    "# list_of_good_carriers = list(\n",
    "#     prcnt_of_delays[\n",
    "#         prcnt_of_delays['% of delayed flights'] < prcnt_of_delays['% of delayed flights'].median()]['UniqueCarrier'])\n",
    "\n",
    "# # list_of_bad_carriers = list(\n",
    "# #     prcnt_of_delays[\n",
    "# #         prcnt_of_delays['% of delayed flights'] > prcnt_of_delays['% of delayed flights'].median()]['UniqueCarrier'])\n",
    "\n",
    "# def carrier_quality(carrier):    \n",
    "#     if carrier in list_of_good_carriers:\n",
    "#         return 'Good'\n",
    "#     # elif carrier in list_of_bad_carriers:\n",
    "#     #     return 'Bad'\n",
    "#     else:\n",
    "#         return 'Average'\n",
    "\n",
    "# train_df['CarrierQuality'] = train_df['UniqueCarrier'].apply(carrier_quality)\n",
    "# test_df['CarrierQuality'] = test_df['UniqueCarrier'].apply(carrier_quality)\n",
    "\n",
    "# # Weekend\n",
    "\n",
    "# def weekend(day):\n",
    "#     if day in ['5', '6', '7']:\n",
    "#         return 1\n",
    "#     else:\n",
    "#         return 0\n",
    "\n",
    "# train_df['Weekend'] = train_df['DayOfWeek'].apply(lambda x: x.split('-')[1]).apply(weekend)#.astype('object')\n",
    "# test_df['Weekend'] = test_df['DayOfWeek'].apply(lambda x: x.split('-')[1]).apply(weekend)#.astype('object')\n",
    "\n",
    "\n",
    "# # Seasons binary\n",
    "\n",
    "# train_df['Winter'] = train_df['Month'].apply(lambda x: x.split('-')[1]).isin(['12', '1', '2']).astype(int)#.astype('object')\n",
    "# test_df['Winter'] = test_df['Month'].apply(lambda x: x.split('-')[1]).isin(['12', '1', '2']).astype(int)#.astype('object')\n",
    "\n",
    "# train_df['Spring'] = train_df['Month'].apply(lambda x: x.split('-')[1]).isin(['3', '4', '5']).astype(int)#.astype('object')\n",
    "# test_df['Spring'] = test_df['Month'].apply(lambda x: x.split('-')[1]).isin(['3', '4', '5']).astype(int)#.astype('object')\n",
    "\n",
    "# train_df['Summer'] = train_df['Month'].apply(lambda x: x.split('-')[1]).isin(['6', '7', '8']).astype(int)#.astype('object')\n",
    "# test_df['Summer'] = test_df['Month'].apply(lambda x: x.split('-')[1]).isin(['6', '7', '8']).astype(int)#.astype('object')\n",
    "\n",
    "# train_df['Autumn'] = train_df['Month'].apply(lambda x: x.split('-')[1]).isin(['9', '10', '11']).astype(int)#.astype('object')\n",
    "# test_df['Autumn'] = test_df['Month'].apply(lambda x: x.split('-')[1]).isin(['9', '10', '11']).astype(int)#.astype('object')\n",
    "\n",
    "\n",
    "\n",
    "# def part_of_day(hour):\n",
    "#     if int(hour) in range(6,12,1):\n",
    "#         return 'morning'\n",
    "#     if int(hour) in range(12,18,1):\n",
    "#         return 'day'\n",
    "#     if int(hour) in range(18, 24):\n",
    "#         return 'evening'\n",
    "#     else:\n",
    "#         return 'night'\n",
    "# \n",
    "# train_df['PartOfTheDay'] = train_df['Dep_hour'].apply(part_of_day).astype('object')\n",
    "# test_df['PartOfTheDay'] = test_df['Dep_hour'].apply(part_of_day).astype('object')\n",
    "# \n",
    "\n",
    "# def distance_cat(distance):\n",
    "#     if int(distance) < 500:\n",
    "#         return 'near'\n",
    "#     if 500 <= int(distance) < 1000:\n",
    "#         return 'middle'\n",
    "#     if int(distance) >= 1000:\n",
    "#         return 'far'\n",
    "#     \n",
    "# # train_df['Distance'].mean()    \n",
    "# test_df['DistCat'] = test_df['Distance'].astype('object')#.apply(distance_cat)\n",
    "# train_df['DistCat'] = train_df['Distance'].astype('object')#.apply(distance_cat)\n",
    "\n",
    "# train_df['DepTime'] = train_df['DepTime'].astype('object')\n",
    "# test_df['DepTime'] = test_df['DepTime'].astype('object')\n",
    "\n",
    "# train_df = train_df.drop(['flight'], axis=1)\n",
    "# test_df = test_df.drop(['flight'], axis=1)\n",
    "test_df.info()"
   ]
  },
  {
   "cell_type": "code",
   "execution_count": 186,
   "metadata": {
    "pycharm": {
     "is_executing": false,
     "name": "#%%\n"
    }
   },
   "outputs": [
    {
     "data": {
      "text/plain": [
       "Month                   0\n",
       "DayofMonth              0\n",
       "DayOfWeek               0\n",
       "DepTime                 0\n",
       "UniqueCarrier           0\n",
       "Origin                  0\n",
       "Dest                    0\n",
       "Distance                0\n",
       "DepHour                 0\n",
       "DepMinute               0\n",
       "flight                  0\n",
       "CarrierDestDist         0\n",
       "DayHour                 0\n",
       "CarrierOriginDepHour    0\n",
       "CarrierDepHour          0\n",
       "Season                  0\n",
       "CarrierOrigin           0\n",
       "CarrierRout             0\n",
       "CarrierRoutDepHour      0\n",
       "dtype: int64"
      ]
     },
     "execution_count": 186,
     "metadata": {},
     "output_type": "execute_result"
    }
   ],
   "source": [
    "test_df.isna().sum()"
   ]
  },
  {
   "cell_type": "code",
   "execution_count": 187,
   "metadata": {
    "pycharm": {
     "is_executing": false
    }
   },
   "outputs": [
    {
     "data": {
      "text/plain": [
       "array([ True,  True,  True,  True,  True,  True,  True,  True,  True,\n",
       "        True,  True,  True,  True,  True,  True,  True,  True,  True,\n",
       "        True])"
      ]
     },
     "execution_count": 187,
     "metadata": {},
     "output_type": "execute_result"
    }
   ],
   "source": [
    "train_df.drop('dep_delayed_15min', axis=1).columns == test_df.columns"
   ]
  },
  {
   "cell_type": "code",
   "execution_count": 188,
   "metadata": {
    "pycharm": {
     "is_executing": false,
     "name": "#%%\n"
    }
   },
   "outputs": [
    {
     "data": {
      "text/plain": [
       "True"
      ]
     },
     "execution_count": 188,
     "metadata": {},
     "output_type": "execute_result"
    }
   ],
   "source": [
    "train_df.shape[0] == test_df.shape[0]"
   ]
  },
  {
   "cell_type": "code",
   "execution_count": 189,
   "metadata": {
    "pycharm": {
     "is_executing": false,
     "name": "#%%\n"
    }
   },
   "outputs": [
    {
     "data": {
      "text/plain": [
       "Month                   object\n",
       "DayofMonth              object\n",
       "DayOfWeek               object\n",
       "DepTime                  int64\n",
       "UniqueCarrier           object\n",
       "Origin                  object\n",
       "Dest                    object\n",
       "Distance                 int64\n",
       "dep_delayed_15min       object\n",
       "DepHour                  int64\n",
       "DepMinute                int64\n",
       "flight                  object\n",
       "CarrierDestDist         object\n",
       "DayHour                 object\n",
       "CarrierOriginDepHour    object\n",
       "CarrierDepHour          object\n",
       "Season                  object\n",
       "CarrierOrigin           object\n",
       "CarrierRout             object\n",
       "CarrierRoutDepHour      object\n",
       "dtype: object"
      ]
     },
     "execution_count": 189,
     "metadata": {},
     "output_type": "execute_result"
    }
   ],
   "source": [
    "train_df.dtypes"
   ]
  },
  {
   "cell_type": "markdown",
   "metadata": {},
   "source": [
    "**Remember indexes of categorical features (to be passed to CatBoost)**"
   ]
  },
  {
   "cell_type": "code",
   "execution_count": 190,
   "metadata": {
    "pycharm": {
     "is_executing": false
    }
   },
   "outputs": [
    {
     "data": {
      "text/plain": [
       "array([ 0,  1,  2,  4,  5,  6, 10, 11, 12, 13, 14, 15, 16, 17, 18],\n",
       "      dtype=int64)"
      ]
     },
     "execution_count": 190,
     "metadata": {},
     "output_type": "execute_result"
    }
   ],
   "source": [
    "categ_feat_idx = np.where(train_df.drop('dep_delayed_15min', axis=1).dtypes == 'object')[0]\n",
    "categ_feat_idx"
   ]
  },
  {
   "cell_type": "code",
   "execution_count": 191,
   "metadata": {
    "pycharm": {
     "is_executing": false
    }
   },
   "outputs": [
    {
     "data": {
      "text/plain": [
       "Index(['Month', 'DayofMonth', 'DayOfWeek', 'UniqueCarrier', 'Origin', 'Dest',\n",
       "       'flight', 'CarrierDestDist', 'DayHour', 'CarrierOriginDepHour',\n",
       "       'CarrierDepHour', 'Season', 'CarrierOrigin', 'CarrierRout',\n",
       "       'CarrierRoutDepHour'],\n",
       "      dtype='object')"
      ]
     },
     "execution_count": 191,
     "metadata": {},
     "output_type": "execute_result"
    }
   ],
   "source": [
    "train_df.drop('dep_delayed_15min', axis=1).columns[categ_feat_idx]"
   ]
  },
  {
   "cell_type": "markdown",
   "metadata": {},
   "source": [
    "**Allocate a hold-out set (a.k.a. a validation set) to validate the model**"
   ]
  },
  {
   "cell_type": "code",
   "execution_count": 192,
   "metadata": {
    "pycharm": {
     "is_executing": false
    }
   },
   "outputs": [],
   "source": [
    "X_train = train_df.drop('dep_delayed_15min', axis=1).values\n",
    "y_train = train_df['dep_delayed_15min'].map({'Y': 1, 'N': 0}).values\n",
    "X_test = test_df.values"
   ]
  },
  {
   "cell_type": "code",
   "execution_count": 205,
   "metadata": {
    "pycharm": {
     "is_executing": false
    }
   },
   "outputs": [],
   "source": [
    "X_train_part, X_valid, y_train_part, y_valid = train_test_split(X_train, y_train, \n",
    "                                                                test_size=0.3, \n",
    "                                                                random_state=17)"
   ]
  },
  {
   "cell_type": "markdown",
   "metadata": {},
   "source": [
    "**Train Catboost with default arguments, passing only the indexes of categorical features.**"
   ]
  },
  {
   "cell_type": "code",
   "execution_count": 206,
   "metadata": {
    "pycharm": {
     "is_executing": false
    }
   },
   "outputs": [],
   "source": [
    "ctb = CatBoostClassifier(random_seed=17,\n",
    "                         silent=True,\n",
    "                         task_type=\"GPU\",\n",
    "                         devices=\"0\",\n",
    "                         border_count=254,\n",
    "                         iterations=500)"
   ]
  },
  {
   "cell_type": "code",
   "execution_count": 207,
   "metadata": {
    "pycharm": {
     "is_executing": false
    }
   },
   "outputs": [
    {
     "name": "stdout",
     "output_type": "stream",
     "text": [
      "Wall time: 35.2 s\n"
     ]
    },
    {
     "data": {
      "text/plain": [
       "<catboost.core.CatBoostClassifier at 0x22d88133708>"
      ]
     },
     "execution_count": 207,
     "metadata": {},
     "output_type": "execute_result"
    }
   ],
   "source": [
    "%%time\n",
    "ctb.fit(X_train_part, y_train_part,\n",
    "        cat_features=categ_feat_idx);"
   ]
  },
  {
   "cell_type": "code",
   "execution_count": 208,
   "metadata": {
    "pycharm": {
     "is_executing": false
    }
   },
   "outputs": [],
   "source": [
    "ctb_valid_pred = ctb.predict_proba(X_valid)[:, 1]"
   ]
  },
  {
   "cell_type": "markdown",
   "metadata": {},
   "source": [
    "**We got some 0.756 ROC AUC on the hold-out set.**"
   ]
  },
  {
   "cell_type": "code",
   "execution_count": 209,
   "metadata": {
    "pycharm": {
     "is_executing": false
    }
   },
   "outputs": [
    {
     "name": "stdout",
     "output_type": "stream",
     "text": [
      "0.8235557261822919\n"
     ]
    },
    {
     "data": {
      "text/html": [
       "<div>\n",
       "<style scoped>\n",
       "    .dataframe tbody tr th:only-of-type {\n",
       "        vertical-align: middle;\n",
       "    }\n",
       "\n",
       "    .dataframe tbody tr th {\n",
       "        vertical-align: top;\n",
       "    }\n",
       "\n",
       "    .dataframe thead th {\n",
       "        text-align: right;\n",
       "    }\n",
       "</style>\n",
       "<table border=\"1\" class=\"dataframe\">\n",
       "  <thead>\n",
       "    <tr style=\"text-align: right;\">\n",
       "      <th></th>\n",
       "      <th>feature_name</th>\n",
       "      <th>importance</th>\n",
       "    </tr>\n",
       "  </thead>\n",
       "  <tbody>\n",
       "    <tr>\n",
       "      <td>9</td>\n",
       "      <td>DepMinute</td>\n",
       "      <td>19.584117</td>\n",
       "    </tr>\n",
       "    <tr>\n",
       "      <td>18</td>\n",
       "      <td>CarrierRoutDepHour</td>\n",
       "      <td>15.149000</td>\n",
       "    </tr>\n",
       "    <tr>\n",
       "      <td>3</td>\n",
       "      <td>DepTime</td>\n",
       "      <td>8.136759</td>\n",
       "    </tr>\n",
       "    <tr>\n",
       "      <td>14</td>\n",
       "      <td>CarrierDepHour</td>\n",
       "      <td>7.618621</td>\n",
       "    </tr>\n",
       "    <tr>\n",
       "      <td>12</td>\n",
       "      <td>DayHour</td>\n",
       "      <td>6.693148</td>\n",
       "    </tr>\n",
       "    <tr>\n",
       "      <td>13</td>\n",
       "      <td>CarrierOriginDepHour</td>\n",
       "      <td>5.136243</td>\n",
       "    </tr>\n",
       "    <tr>\n",
       "      <td>6</td>\n",
       "      <td>Dest</td>\n",
       "      <td>3.816064</td>\n",
       "    </tr>\n",
       "    <tr>\n",
       "      <td>16</td>\n",
       "      <td>CarrierOrigin</td>\n",
       "      <td>3.629076</td>\n",
       "    </tr>\n",
       "    <tr>\n",
       "      <td>7</td>\n",
       "      <td>Distance</td>\n",
       "      <td>3.566034</td>\n",
       "    </tr>\n",
       "    <tr>\n",
       "      <td>8</td>\n",
       "      <td>DepHour</td>\n",
       "      <td>3.503241</td>\n",
       "    </tr>\n",
       "    <tr>\n",
       "      <td>0</td>\n",
       "      <td>Month</td>\n",
       "      <td>3.451503</td>\n",
       "    </tr>\n",
       "    <tr>\n",
       "      <td>1</td>\n",
       "      <td>DayofMonth</td>\n",
       "      <td>3.203790</td>\n",
       "    </tr>\n",
       "    <tr>\n",
       "      <td>17</td>\n",
       "      <td>CarrierRout</td>\n",
       "      <td>3.116695</td>\n",
       "    </tr>\n",
       "    <tr>\n",
       "      <td>2</td>\n",
       "      <td>DayOfWeek</td>\n",
       "      <td>2.714927</td>\n",
       "    </tr>\n",
       "    <tr>\n",
       "      <td>4</td>\n",
       "      <td>UniqueCarrier</td>\n",
       "      <td>2.642216</td>\n",
       "    </tr>\n",
       "    <tr>\n",
       "      <td>5</td>\n",
       "      <td>Origin</td>\n",
       "      <td>2.546252</td>\n",
       "    </tr>\n",
       "    <tr>\n",
       "      <td>10</td>\n",
       "      <td>flight</td>\n",
       "      <td>1.873039</td>\n",
       "    </tr>\n",
       "    <tr>\n",
       "      <td>11</td>\n",
       "      <td>CarrierDestDist</td>\n",
       "      <td>1.829560</td>\n",
       "    </tr>\n",
       "    <tr>\n",
       "      <td>15</td>\n",
       "      <td>Season</td>\n",
       "      <td>1.789714</td>\n",
       "    </tr>\n",
       "  </tbody>\n",
       "</table>\n",
       "</div>"
      ],
      "text/plain": [
       "            feature_name  importance\n",
       "9              DepMinute   19.584117\n",
       "18    CarrierRoutDepHour   15.149000\n",
       "3                DepTime    8.136759\n",
       "14        CarrierDepHour    7.618621\n",
       "12               DayHour    6.693148\n",
       "13  CarrierOriginDepHour    5.136243\n",
       "6                   Dest    3.816064\n",
       "16         CarrierOrigin    3.629076\n",
       "7               Distance    3.566034\n",
       "8                DepHour    3.503241\n",
       "0                  Month    3.451503\n",
       "1             DayofMonth    3.203790\n",
       "17           CarrierRout    3.116695\n",
       "2              DayOfWeek    2.714927\n",
       "4          UniqueCarrier    2.642216\n",
       "5                 Origin    2.546252\n",
       "10                flight    1.873039\n",
       "11       CarrierDestDist    1.829560\n",
       "15                Season    1.789714"
      ]
     },
     "execution_count": 209,
     "metadata": {},
     "output_type": "execute_result"
    }
   ],
   "source": [
    "auc1 = roc_auc_score(y_valid, ctb_valid_pred)\n",
    "print(auc1)\n",
    "df = pd.DataFrame({'feature_name': train_df.drop('dep_delayed_15min', axis=1).columns,\n",
    "                   'importance': ctb.feature_importances_})\n",
    "\n",
    "df.sort_values(by='importance', ascending=False)"
   ]
  },
  {
   "cell_type": "code",
   "execution_count": 216,
   "metadata": {},
   "outputs": [
    {
     "name": "stdout",
     "output_type": "stream",
     "text": [
      "0.8179205779289561\n",
      "False\n",
      "Wall time: 35.2 s\n"
     ]
    },
    {
     "data": {
      "text/html": [
       "<div>\n",
       "<style scoped>\n",
       "    .dataframe tbody tr th:only-of-type {\n",
       "        vertical-align: middle;\n",
       "    }\n",
       "\n",
       "    .dataframe tbody tr th {\n",
       "        vertical-align: top;\n",
       "    }\n",
       "\n",
       "    .dataframe thead th {\n",
       "        text-align: right;\n",
       "    }\n",
       "</style>\n",
       "<table border=\"1\" class=\"dataframe\">\n",
       "  <thead>\n",
       "    <tr style=\"text-align: right;\">\n",
       "      <th></th>\n",
       "      <th>feature_name</th>\n",
       "      <th>importance</th>\n",
       "    </tr>\n",
       "  </thead>\n",
       "  <tbody>\n",
       "    <tr>\n",
       "      <td>9</td>\n",
       "      <td>DepMinute</td>\n",
       "      <td>21.184910</td>\n",
       "    </tr>\n",
       "    <tr>\n",
       "      <td>16</td>\n",
       "      <td>CarrierRoutDepHour</td>\n",
       "      <td>13.619703</td>\n",
       "    </tr>\n",
       "    <tr>\n",
       "      <td>3</td>\n",
       "      <td>DepTime</td>\n",
       "      <td>8.222304</td>\n",
       "    </tr>\n",
       "    <tr>\n",
       "      <td>13</td>\n",
       "      <td>CarrierDepHour</td>\n",
       "      <td>7.832512</td>\n",
       "    </tr>\n",
       "    <tr>\n",
       "      <td>11</td>\n",
       "      <td>DayHour</td>\n",
       "      <td>6.115859</td>\n",
       "    </tr>\n",
       "    <tr>\n",
       "      <td>12</td>\n",
       "      <td>CarrierOriginDepHour</td>\n",
       "      <td>5.397163</td>\n",
       "    </tr>\n",
       "    <tr>\n",
       "      <td>0</td>\n",
       "      <td>Month</td>\n",
       "      <td>4.443075</td>\n",
       "    </tr>\n",
       "    <tr>\n",
       "      <td>15</td>\n",
       "      <td>CarrierRout</td>\n",
       "      <td>4.170351</td>\n",
       "    </tr>\n",
       "    <tr>\n",
       "      <td>6</td>\n",
       "      <td>Dest</td>\n",
       "      <td>4.140384</td>\n",
       "    </tr>\n",
       "    <tr>\n",
       "      <td>7</td>\n",
       "      <td>Distance</td>\n",
       "      <td>3.998458</td>\n",
       "    </tr>\n",
       "    <tr>\n",
       "      <td>14</td>\n",
       "      <td>CarrierOrigin</td>\n",
       "      <td>3.889680</td>\n",
       "    </tr>\n",
       "    <tr>\n",
       "      <td>1</td>\n",
       "      <td>DayofMonth</td>\n",
       "      <td>3.405906</td>\n",
       "    </tr>\n",
       "    <tr>\n",
       "      <td>5</td>\n",
       "      <td>Origin</td>\n",
       "      <td>3.013461</td>\n",
       "    </tr>\n",
       "    <tr>\n",
       "      <td>4</td>\n",
       "      <td>UniqueCarrier</td>\n",
       "      <td>2.849141</td>\n",
       "    </tr>\n",
       "    <tr>\n",
       "      <td>2</td>\n",
       "      <td>DayOfWeek</td>\n",
       "      <td>2.834812</td>\n",
       "    </tr>\n",
       "    <tr>\n",
       "      <td>10</td>\n",
       "      <td>CarrierDestDist</td>\n",
       "      <td>2.506009</td>\n",
       "    </tr>\n",
       "    <tr>\n",
       "      <td>8</td>\n",
       "      <td>DepHour</td>\n",
       "      <td>2.376272</td>\n",
       "    </tr>\n",
       "  </tbody>\n",
       "</table>\n",
       "</div>"
      ],
      "text/plain": [
       "            feature_name  importance\n",
       "9              DepMinute   21.184910\n",
       "16    CarrierRoutDepHour   13.619703\n",
       "3                DepTime    8.222304\n",
       "13        CarrierDepHour    7.832512\n",
       "11               DayHour    6.115859\n",
       "12  CarrierOriginDepHour    5.397163\n",
       "0                  Month    4.443075\n",
       "15           CarrierRout    4.170351\n",
       "6                   Dest    4.140384\n",
       "7               Distance    3.998458\n",
       "14         CarrierOrigin    3.889680\n",
       "1             DayofMonth    3.405906\n",
       "5                 Origin    3.013461\n",
       "4          UniqueCarrier    2.849141\n",
       "2              DayOfWeek    2.834812\n",
       "10       CarrierDestDist    2.506009\n",
       "8                DepHour    2.376272"
      ]
     },
     "execution_count": 216,
     "metadata": {},
     "output_type": "execute_result"
    }
   ],
   "source": [
    "%%time\n",
    "n = 2\n",
    "if len(df[df['importance'] < n]) > 0:\n",
    "    drop_bad = df[df['importance'] < n]['feature_name']\n",
    "    train_df = train_df.drop(drop_bad, axis=1)\n",
    "    test_df = test_df.drop(drop_bad, axis=1)\n",
    "    categ_feat_idx = np.where(train_df.drop('dep_delayed_15min', axis=1).dtypes == 'object')[0]\n",
    "    X_train = train_df.drop('dep_delayed_15min', axis=1).values\n",
    "    y_train = train_df['dep_delayed_15min'].map({'Y': 1, 'N': 0}).values\n",
    "    X_test = test_df.values\n",
    "    X_train_part, X_valid, y_train_part, y_valid = train_test_split(X_train, y_train, \n",
    "                                                                test_size=0.3, \n",
    "                                                                random_state=17)\n",
    "    ctb.fit(X_train_part, y_train_part,\n",
    "        cat_features=categ_feat_idx);\n",
    "    ctb_valid_pred = ctb.predict_proba(X_valid)[:, 1]\n",
    "    auc2 = roc_auc_score(y_valid, ctb_valid_pred)\n",
    "    print(auc2)\n",
    "    print(auc1 < auc2)\n",
    "    \n",
    "df = pd.DataFrame({'feature_name': train_df.drop('dep_delayed_15min', axis=1).columns,\n",
    "               'importance': ctb.feature_importances_})\n",
    "\n",
    "df.sort_values(by='importance', ascending=False)"
   ]
  },
  {
   "cell_type": "markdown",
   "metadata": {},
   "source": [
    "**Train on the whole train set, make prediction on the test set. We got ~0.734 in the competition - \"Catboost starter\" baseline**"
   ]
  },
  {
   "cell_type": "code",
   "execution_count": 210,
   "metadata": {
    "pycharm": {
     "is_executing": false
    }
   },
   "outputs": [
    {
     "name": "stdout",
     "output_type": "stream",
     "text": [
      "Wall time: 38.8 s\n"
     ]
    },
    {
     "data": {
      "text/plain": [
       "<catboost.core.CatBoostClassifier at 0x22d88133708>"
      ]
     },
     "execution_count": 210,
     "metadata": {},
     "output_type": "execute_result"
    }
   ],
   "source": [
    "%%time\n",
    "ctb.fit(X_train, y_train,\n",
    "        cat_features=categ_feat_idx);"
   ]
  },
  {
   "cell_type": "code",
   "execution_count": 211,
   "metadata": {
    "pycharm": {
     "is_executing": false
    }
   },
   "outputs": [],
   "source": [
    "ctb_test_pred = ctb.predict_proba(X_test)[:, 1]"
   ]
  },
  {
   "cell_type": "code",
   "execution_count": 212,
   "metadata": {
    "pycharm": {
     "is_executing": false
    }
   },
   "outputs": [],
   "source": [
    "with warnings.catch_warnings():\n",
    "    warnings.simplefilter(\"ignore\")\n",
    "\n",
    "    sample_sub = pd.read_csv(PATH_TO_DATA / 'sample_submission.csv', \n",
    "                             index_col='id')\n",
    "    sample_sub['dep_delayed_15min'] = ctb_test_pred\n",
    "    sample_sub.to_csv('ctb_pred.csv')"
   ]
  },
  {
   "cell_type": "code",
   "execution_count": 213,
   "metadata": {
    "pycharm": {
     "is_executing": false,
     "name": "#%%\n"
    }
   },
   "outputs": [
    {
     "name": "stdout",
     "output_type": "stream",
     "text": [
      "<class 'pandas.core.frame.DataFrame'>\n",
      "Int64Index: 100000 entries, 0 to 99999\n",
      "Data columns (total 1 columns):\n",
      "dep_delayed_15min    100000 non-null float64\n",
      "dtypes: float64(1)\n",
      "memory usage: 1.5 MB\n"
     ]
    }
   ],
   "source": [
    "sample_sub.info()"
   ]
  },
  {
   "cell_type": "code",
   "execution_count": 214,
   "metadata": {
    "pycharm": {
     "is_executing": false,
     "name": "#%%\n"
    }
   },
   "outputs": [
    {
     "data": {
      "text/plain": [
       "Index(['Month', 'DayofMonth', 'DayOfWeek', 'DepTime', 'UniqueCarrier',\n",
       "       'Origin', 'Dest', 'Distance', 'DepHour', 'DepMinute', 'flight',\n",
       "       'CarrierDestDist', 'DayHour', 'CarrierOriginDepHour', 'CarrierDepHour',\n",
       "       'Season', 'CarrierOrigin', 'CarrierRout', 'CarrierRoutDepHour'],\n",
       "      dtype='object')"
      ]
     },
     "execution_count": 214,
     "metadata": {},
     "output_type": "execute_result"
    }
   ],
   "source": [
    "test_df.columns"
   ]
  },
  {
   "cell_type": "markdown",
   "metadata": {},
   "source": [
    "Now's your turn! Go and improve the model to beat **\"A2 baseline (10 credits)\"** - **0.75914** LB score. It's crucial to come up with some good features. \n",
    "\n",
    "For discussions, stick to the **#a2_kaggle_fall2019** thread in the **mlcourse_ai_news** [ODS Slack](http://opendatascience.slack.com) channel. Serhii Romanenko (@serhii_romanenko) will be there to help. \n",
    "\n",
    "Welcome to Kaggle!\n",
    "\n",
    "<img src='https://habrastorage.org/webt/fs/42/ms/fs42ms0r7qsoj-da4x7yfntwrbq.jpeg' width=50%>\n",
    "*from the [\"Nerd Laughing Loud\"](https://www.kaggle.com/general/76963) thread.*"
   ]
  }
 ],
 "metadata": {
  "kernelspec": {
   "display_name": "Python 3",
   "language": "python",
   "name": "python3"
  },
  "language_info": {
   "codemirror_mode": {
    "name": "ipython",
    "version": 3
   },
   "file_extension": ".py",
   "mimetype": "text/x-python",
   "name": "python",
   "nbconvert_exporter": "python",
   "pygments_lexer": "ipython3",
   "version": "3.7.4"
  },
  "pycharm": {
   "stem_cell": {
    "cell_type": "raw",
    "metadata": {
     "collapsed": false
    },
    "source": []
   }
  }
 },
 "nbformat": 4,
 "nbformat_minor": 1
}
