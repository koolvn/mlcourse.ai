{
 "cells": [
  {
   "cell_type": "markdown",
   "metadata": {},
   "source": [
    "<center>\n",
    "<img src=\"https://habrastorage.org/files/fd4/502/43d/fd450243dd604b81b9713213a247aa20.jpg\" />\n",
    "</center> \n",
    "     \n",
    "## <center>  [mlcourse.ai](https://mlcourse.ai) – Open Machine Learning Course \n",
    "\n",
    "#### <center> Author: [Yury Kashnitsky](https://yorko.github.io) (@yorko) \n",
    "\n",
    "# <center>Assignment #2. Fall 2019\n",
    "## <center> Part 2. Gradient boosting"
   ]
  },
  {
   "cell_type": "markdown",
   "metadata": {},
   "source": [
    "**In this assignment, you're asked to beat a baseline in the [\"Flight delays\" competition](https://www.kaggle.com/c/flight-delays-fall-2018).**\n",
    "\n",
    "This time we decided to share a pretty decent CatBoost baseline, you'll have to improve the provided solution.\n",
    "\n",
    "Prior to working on the assignment, you'd better check out the corresponding course material:\n",
    " 1. [Classification, Decision Trees and k Nearest Neighbors](https://nbviewer.jupyter.org/github/Yorko/mlcourse_open/blob/master/jupyter_english/topic03_decision_trees_kNN/topic3_decision_trees_kNN.ipynb?flush_cache=true), the same as an interactive web-based [Kaggle Kernel](https://www.kaggle.com/kashnitsky/topic-3-decision-trees-and-knn) \n",
    " 2. Ensembles:\n",
    "  - [Bagging](https://nbviewer.jupyter.org/github/Yorko/mlcourse_open/blob/master/jupyter_english/topic05_ensembles_random_forests/topic5_part1_bagging.ipynb?flush_cache=true), the same as a [Kaggle Kernel](https://www.kaggle.com/kashnitsky/topic-5-ensembles-part-1-bagging)\n",
    "  - [Random Forest](https://nbviewer.jupyter.org/github/Yorko/mlcourse_open/blob/master/jupyter_english/topic05_ensembles_random_forests/topic5_part2_random_forest.ipynb?flush_cache=true), the same as a [Kaggle Kernel](https://www.kaggle.com/kashnitsky/topic-5-ensembles-part-2-random-forest)\n",
    "  - [Feature Importance](https://nbviewer.jupyter.org/github/Yorko/mlcourse_open/blob/master/jupyter_english/topic05_ensembles_random_forests/topic5_part3_feature_importance.ipynb?flush_cache=true), the same as a [Kaggle Kernel](https://www.kaggle.com/kashnitsky/topic-5-ensembles-part-3-feature-importance)\n",
    " 3. - [Gradient boosting](https://nbviewer.jupyter.org/github/Yorko/mlcourse_open/blob/master/jupyter_english/topic10_boosting/topic10_gradient_boosting.ipynb?flush_cache=true), the same as a [Kaggle Kernel](https://www.kaggle.com/kashnitsky/topic-10-gradient-boosting) \n",
    "   - Logistic regression, Random Forest, and LightGBM in the \"Kaggle Forest Cover Type Prediction\" competition: [Kernel](https://www.kaggle.com/kashnitsky/topic-10-practice-with-logit-rf-and-lightgbm) \n",
    " 4. You can also practice with demo assignments, which are simpler and already shared with solutions:\n",
    "  - \"Decision trees with a toy task and the UCI Adult dataset\": [assignment](https://www.kaggle.com/kashnitsky/a3-demo-decision-trees) + [solution](https://www.kaggle.com/kashnitsky/a3-demo-decision-trees-solution)\n",
    "  - \"Logistic Regression and Random Forest in the credit scoring problem\": [assignment](https://www.kaggle.com/kashnitsky/assignment-5-logit-and-rf-for-credit-scoring) + [solution](https://www.kaggle.com/kashnitsky/a5-demo-logit-and-rf-for-credit-scoring-sol)\n",
    " 5. There are also 7 video lectures on trees, forests, boosting and their applications: [mlcourse.ai/video](https://mlcourse.ai/video) \n",
    " 6. mlcourse.ai tutorials on [categorical feature encoding](https://www.kaggle.com/waydeherman/tutorial-categorical-encoding) (by Wayde Herman) and [CatBoost](https://www.kaggle.com/mitribunskiy/tutorial-catboost-overview) (by Mikhail Tribunskiy)\n",
    " 7. Last but not the least: [Public Kernels](https://www.kaggle.com/c/flight-delays-fall-2018/notebooks) in this competition\n",
    "\n",
    "### Your task is to:\n",
    " 1. beat **\"A2 baseline (10 credits)\"** on Public LB (**0.75914** LB score)\n",
    " 2. rename your [team](https://www.kaggle.com/c/flight-delays-fall-2018/team) in full accordance with A1 and the [course rating](https://docs.google.com/spreadsheets/d/15e1K0tg5ponA5R6YQkZfihrShTDLAKf5qeKaoVCiuhQ/) (to appear on 16.09.2019)\n",
    " \n",
    "This task is intended to be relatively easy. Here you are not required to upload your reproducible solution.\n",
    " \n",
    "### <center> Deadline for A2: 2019 October 6, 20:59 CET (London time)"
   ]
  },
  {
   "cell_type": "code",
   "execution_count": 1,
   "metadata": {
    "pycharm": {
     "is_executing": false
    }
   },
   "outputs": [],
   "source": [
    "import warnings\n",
    "import numpy as np\n",
    "import pandas as pd\n",
    "from pathlib import Path\n",
    "from sklearn.model_selection import train_test_split\n",
    "from sklearn.metrics import roc_auc_score\n",
    "from catboost import CatBoostClassifier"
   ]
  },
  {
   "cell_type": "markdown",
   "metadata": {},
   "source": [
    "**Read the data**"
   ]
  },
  {
   "cell_type": "code",
   "execution_count": 2,
   "metadata": {
    "pycharm": {
     "is_executing": false
    }
   },
   "outputs": [],
   "source": [
    "# PATH_TO_DATA = Path('../input/flight-delays-fall-2018/')\n",
    "PATH_TO_DATA = Path('./data/')"
   ]
  },
  {
   "cell_type": "code",
   "execution_count": 3,
   "metadata": {
    "pycharm": {
     "is_executing": false
    }
   },
   "outputs": [],
   "source": [
    "train_df = pd.read_csv(PATH_TO_DATA / 'flight_delays_train.csv')"
   ]
  },
  {
   "cell_type": "code",
   "execution_count": 4,
   "metadata": {
    "pycharm": {
     "is_executing": false
    }
   },
   "outputs": [
    {
     "data": {
      "text/plain": "  Month DayofMonth DayOfWeek  DepTime UniqueCarrier Origin Dest  Distance  \\\n0   c-8       c-21       c-7     1934            AA    ATL  DFW       732   \n1   c-4       c-20       c-3     1548            US    PIT  MCO       834   \n2   c-9        c-2       c-5     1422            XE    RDU  CLE       416   \n3  c-11       c-25       c-6     1015            OO    DEN  MEM       872   \n4  c-10        c-7       c-6     1828            WN    MDW  OMA       423   \n\n  dep_delayed_15min  \n0                 N  \n1                 N  \n2                 N  \n3                 N  \n4                 Y  ",
      "text/html": "<div>\n<style scoped>\n    .dataframe tbody tr th:only-of-type {\n        vertical-align: middle;\n    }\n\n    .dataframe tbody tr th {\n        vertical-align: top;\n    }\n\n    .dataframe thead th {\n        text-align: right;\n    }\n</style>\n<table border=\"1\" class=\"dataframe\">\n  <thead>\n    <tr style=\"text-align: right;\">\n      <th></th>\n      <th>Month</th>\n      <th>DayofMonth</th>\n      <th>DayOfWeek</th>\n      <th>DepTime</th>\n      <th>UniqueCarrier</th>\n      <th>Origin</th>\n      <th>Dest</th>\n      <th>Distance</th>\n      <th>dep_delayed_15min</th>\n    </tr>\n  </thead>\n  <tbody>\n    <tr>\n      <td>0</td>\n      <td>c-8</td>\n      <td>c-21</td>\n      <td>c-7</td>\n      <td>1934</td>\n      <td>AA</td>\n      <td>ATL</td>\n      <td>DFW</td>\n      <td>732</td>\n      <td>N</td>\n    </tr>\n    <tr>\n      <td>1</td>\n      <td>c-4</td>\n      <td>c-20</td>\n      <td>c-3</td>\n      <td>1548</td>\n      <td>US</td>\n      <td>PIT</td>\n      <td>MCO</td>\n      <td>834</td>\n      <td>N</td>\n    </tr>\n    <tr>\n      <td>2</td>\n      <td>c-9</td>\n      <td>c-2</td>\n      <td>c-5</td>\n      <td>1422</td>\n      <td>XE</td>\n      <td>RDU</td>\n      <td>CLE</td>\n      <td>416</td>\n      <td>N</td>\n    </tr>\n    <tr>\n      <td>3</td>\n      <td>c-11</td>\n      <td>c-25</td>\n      <td>c-6</td>\n      <td>1015</td>\n      <td>OO</td>\n      <td>DEN</td>\n      <td>MEM</td>\n      <td>872</td>\n      <td>N</td>\n    </tr>\n    <tr>\n      <td>4</td>\n      <td>c-10</td>\n      <td>c-7</td>\n      <td>c-6</td>\n      <td>1828</td>\n      <td>WN</td>\n      <td>MDW</td>\n      <td>OMA</td>\n      <td>423</td>\n      <td>Y</td>\n    </tr>\n  </tbody>\n</table>\n</div>"
     },
     "metadata": {},
     "output_type": "execute_result",
     "execution_count": 4
    }
   ],
   "source": [
    "train_df.head()"
   ]
  },
  {
   "cell_type": "code",
   "execution_count": 5,
   "metadata": {
    "pycharm": {
     "is_executing": false
    }
   },
   "outputs": [],
   "source": [
    "test_df = pd.read_csv(PATH_TO_DATA / 'flight_delays_test.csv')"
   ]
  },
  {
   "cell_type": "code",
   "execution_count": 6,
   "metadata": {
    "pycharm": {
     "is_executing": false
    }
   },
   "outputs": [
    {
     "name": "stdout",
     "text": [
      "<class 'pandas.core.frame.DataFrame'>\nRangeIndex: 100000 entries, 0 to 99999\nData columns (total 8 columns):\nMonth            100000 non-null object\nDayofMonth       100000 non-null object\nDayOfWeek        100000 non-null object\nDepTime          100000 non-null int64\nUniqueCarrier    100000 non-null object\nOrigin           100000 non-null object\nDest             100000 non-null object\nDistance         100000 non-null int64\ndtypes: int64(2), object(6)\nmemory usage: 6.1+ MB\n"
     ],
     "output_type": "stream"
    }
   ],
   "source": [
    "test_df.info()"
   ]
  },
  {
   "cell_type": "markdown",
   "metadata": {},
   "source": [
    "**Create only one feature - “flight” (this you need to improve - add more features)**"
   ]
  },
  {
   "cell_type": "code",
   "execution_count": 7,
   "metadata": {
    "pycharm": {
     "is_executing": false
    }
   },
   "outputs": [
    {
     "data": {
      "text/plain": "  Month DayofMonth DayOfWeek  DepTime UniqueCarrier Origin Dest  Distance  \\\n0   c-7       c-25       c-3      615            YV    MRY  PHX       598   \n1   c-4       c-17       c-2      739            WN    LAS  HOU      1235   \n2  c-12        c-2       c-7      651            MQ    GSP  ORD       577   \n\n      flight CarrierDest    CarrierRout Dep_hour  Dep_minute  \\\n0  MRY-->PHX     YV: PHX  YV: MRY-->PHX        6          15   \n1  LAS-->HOU     WN: HOU  WN: LAS-->HOU        7          39   \n2  GSP-->ORD     MQ: ORD  MQ: GSP-->ORD        6          51   \n\n  CarrierOriginDepHour CarrierRoutDepHour  Season  \n0           YV: MRY: 6   YV: MRY-->PHX: 6  summer  \n1           WN: LAS: 7   WN: LAS-->HOU: 7  spring  \n2           MQ: GSP: 6   MQ: GSP-->ORD: 6  winter  ",
      "text/html": "<div>\n<style scoped>\n    .dataframe tbody tr th:only-of-type {\n        vertical-align: middle;\n    }\n\n    .dataframe tbody tr th {\n        vertical-align: top;\n    }\n\n    .dataframe thead th {\n        text-align: right;\n    }\n</style>\n<table border=\"1\" class=\"dataframe\">\n  <thead>\n    <tr style=\"text-align: right;\">\n      <th></th>\n      <th>Month</th>\n      <th>DayofMonth</th>\n      <th>DayOfWeek</th>\n      <th>DepTime</th>\n      <th>UniqueCarrier</th>\n      <th>Origin</th>\n      <th>Dest</th>\n      <th>Distance</th>\n      <th>flight</th>\n      <th>CarrierDest</th>\n      <th>CarrierRout</th>\n      <th>Dep_hour</th>\n      <th>Dep_minute</th>\n      <th>CarrierOriginDepHour</th>\n      <th>CarrierRoutDepHour</th>\n      <th>Season</th>\n    </tr>\n  </thead>\n  <tbody>\n    <tr>\n      <td>0</td>\n      <td>c-7</td>\n      <td>c-25</td>\n      <td>c-3</td>\n      <td>615</td>\n      <td>YV</td>\n      <td>MRY</td>\n      <td>PHX</td>\n      <td>598</td>\n      <td>MRY--&gt;PHX</td>\n      <td>YV: PHX</td>\n      <td>YV: MRY--&gt;PHX</td>\n      <td>6</td>\n      <td>15</td>\n      <td>YV: MRY: 6</td>\n      <td>YV: MRY--&gt;PHX: 6</td>\n      <td>summer</td>\n    </tr>\n    <tr>\n      <td>1</td>\n      <td>c-4</td>\n      <td>c-17</td>\n      <td>c-2</td>\n      <td>739</td>\n      <td>WN</td>\n      <td>LAS</td>\n      <td>HOU</td>\n      <td>1235</td>\n      <td>LAS--&gt;HOU</td>\n      <td>WN: HOU</td>\n      <td>WN: LAS--&gt;HOU</td>\n      <td>7</td>\n      <td>39</td>\n      <td>WN: LAS: 7</td>\n      <td>WN: LAS--&gt;HOU: 7</td>\n      <td>spring</td>\n    </tr>\n    <tr>\n      <td>2</td>\n      <td>c-12</td>\n      <td>c-2</td>\n      <td>c-7</td>\n      <td>651</td>\n      <td>MQ</td>\n      <td>GSP</td>\n      <td>ORD</td>\n      <td>577</td>\n      <td>GSP--&gt;ORD</td>\n      <td>MQ: ORD</td>\n      <td>MQ: GSP--&gt;ORD</td>\n      <td>6</td>\n      <td>51</td>\n      <td>MQ: GSP: 6</td>\n      <td>MQ: GSP--&gt;ORD: 6</td>\n      <td>winter</td>\n    </tr>\n  </tbody>\n</table>\n</div>"
     },
     "metadata": {},
     "output_type": "execute_result",
     "execution_count": 7
    }
   ],
   "source": [
    "train_df = pd.read_csv(PATH_TO_DATA / 'flight_delays_train.csv')\n",
    "test_df = pd.read_csv(PATH_TO_DATA / 'flight_delays_test.csv')\n",
    "\n",
    "train_df['flight'] = train_df['Origin'] + '-->' + train_df['Dest']\n",
    "test_df['flight'] = test_df['Origin'] + '-->' + test_df['Dest']\n",
    "\n",
    "train_df['CarrierOrigin'] = train_df['UniqueCarrier'] + ': ' + train_df['Origin']\n",
    "test_df['CarrierOrigin'] = test_df['UniqueCarrier'] + ': ' + test_df['Origin']\n",
    "\n",
    "train_df['CarrierDest'] = train_df['UniqueCarrier'] + ': ' + train_df['Dest']\n",
    "test_df['CarrierDest'] = test_df['UniqueCarrier'] + ': ' + test_df['Dest']\n",
    "\n",
    "train_df['CarrierRout'] = train_df['UniqueCarrier'] + ': ' + train_df['flight']\n",
    "test_df['CarrierRout'] = test_df['UniqueCarrier'] + ': ' + test_df['flight']\n",
    "\n",
    "train_df['Dep_hour'] = train_df['DepTime']//100\n",
    "train_df['Dep_hour'].replace(to_replace=[24,25], value=0, inplace=True)\n",
    "train_df['Dep_hour'] = train_df['Dep_hour'].astype('object')\n",
    "test_df['Dep_hour'] = test_df['DepTime']//100\n",
    "test_df['Dep_hour'].replace(to_replace=[24,25], value=0, inplace=True)\n",
    "test_df['Dep_hour'] = test_df['Dep_hour'].astype('object')\n",
    "\n",
    "train_df['Dep_minute'] = train_df['DepTime']%100\n",
    "train_df['Dep_minute'] = train_df['Dep_minute']\n",
    "test_df['Dep_minute'] = test_df['DepTime']%100\n",
    "test_df['Dep_minute'] = test_df['Dep_minute']\n",
    "\n",
    "train_df['CarrierOriginDepHour'] = train_df['CarrierOrigin'] + ': ' + train_df['Dep_hour'].astype('str')\n",
    "test_df['CarrierOriginDepHour'] = test_df['CarrierOrigin'] + ': ' + test_df['Dep_hour'].astype('str')\n",
    "\n",
    "# train_df['CarrierDistanceDepHour'] = train_df['UniqueCarrier'] + ': ' + train_df['Distance'].astype('str') + ': ' + train_df['Dep_hour'].astype('str')\n",
    "# test_df['CarrierDistanceDepHour'] = test_df['UniqueCarrier'] + ': ' + test_df['Distance'].astype('str') + ': ' + test_df['Dep_hour'].astype('str')\n",
    "\n",
    "train_df['CarrierRoutDepHour'] = train_df['CarrierRout'] + ': ' + train_df['Dep_hour'].astype('str')\n",
    "test_df['CarrierRoutDepHour'] = test_df['CarrierRout'] + ': ' + test_df['Dep_hour'].astype('str')\n",
    "\n",
    "train_df = train_df.drop(['CarrierOrigin'], axis=1)\n",
    "test_df = test_df.drop(['CarrierOrigin'], axis=1)\n",
    "# Season category\n",
    "\n",
    "def seasons(month):\n",
    "    if month in ['12', '1', '2']:\n",
    "        return 'winter'\n",
    "    elif month in ['3', '4', '5']:\n",
    "        return 'spring'\n",
    "    elif month in ['6', '7', '8']:\n",
    "        return 'summer'\n",
    "    elif month in ['9', '10', '11']:\n",
    "        return 'autumn'\n",
    "\n",
    "train_df['Season'] = train_df['Month'].apply(lambda x: x.split('-')[1]).apply(seasons)\n",
    "test_df['Season'] = test_df['Month'].apply(lambda x: x.split('-')[1]).apply(seasons)\n",
    "\n",
    "# train_df['Dep_hour_flag'] = ((train_df['Dep_hour'] >= 6) & (train_df['Dep_hour'] < 23)).astype('int').astype('object')\n",
    "# test_df['Dep_hour_flag'] = ((test_df['Dep_hour'] >= 6) & (test_df['Dep_hour'] < 23)).astype('int').astype('object')\n",
    "\n",
    "# # Carrier Quality\n",
    "\n",
    "# total_flights_by_carrier = train_df.groupby(['UniqueCarrier']).count().sort_values(by='dep_delayed_15min', ascending=False)['dep_delayed_15min']\n",
    "\n",
    "# number_of_delays_by_carrier = train_df[train_df['dep_delayed_15min'] == 'Y'].groupby(['UniqueCarrier']).count().sort_values(by='dep_delayed_15min', ascending=False)['dep_delayed_15min']\n",
    "\n",
    "# prcnt_of_delays = ((number_of_delays_by_carrier*100)/total_flights_by_carrier).sort_values(ascending=True)\n",
    "# prcnt_of_delays = prcnt_of_delays.reset_index().rename({'dep_delayed_15min':'% of delayed flights'}, axis=1)\n",
    "\n",
    "# list_of_good_carriers = list(\n",
    "#     prcnt_of_delays[\n",
    "#         prcnt_of_delays['% of delayed flights'] < prcnt_of_delays['% of delayed flights'].median()]['UniqueCarrier'])\n",
    "\n",
    "# # list_of_bad_carriers = list(\n",
    "# #     prcnt_of_delays[\n",
    "# #         prcnt_of_delays['% of delayed flights'] > prcnt_of_delays['% of delayed flights'].median()]['UniqueCarrier'])\n",
    "\n",
    "# def carrier_quality(carrier):    \n",
    "#     if carrier in list_of_good_carriers:\n",
    "#         return 'Good'\n",
    "#     # elif carrier in list_of_bad_carriers:\n",
    "#     #     return 'Bad'\n",
    "#     else:\n",
    "#         return 'Average'\n",
    "\n",
    "# train_df['CarrierQuality'] = train_df['UniqueCarrier'].apply(carrier_quality)\n",
    "# test_df['CarrierQuality'] = test_df['UniqueCarrier'].apply(carrier_quality)\n",
    "\n",
    "\n",
    "\n",
    "# # Weekend\n",
    "\n",
    "# def weekend(day):\n",
    "#     if day in ['5', '6', '7']:\n",
    "#         return 1\n",
    "#     else:\n",
    "#         return 0\n",
    "\n",
    "# train_df['Weekend'] = train_df['DayOfWeek'].apply(lambda x: x.split('-')[1]).apply(weekend)#.astype('object')\n",
    "# test_df['Weekend'] = test_df['DayOfWeek'].apply(lambda x: x.split('-')[1]).apply(weekend)#.astype('object')\n",
    "\n",
    "\n",
    "# # Seasons binary\n",
    "\n",
    "# train_df['Winter'] = train_df['Month'].apply(lambda x: x.split('-')[1]).isin(['12', '1', '2']).astype(int)#.astype('object')\n",
    "# test_df['Winter'] = test_df['Month'].apply(lambda x: x.split('-')[1]).isin(['12', '1', '2']).astype(int)#.astype('object')\n",
    "\n",
    "# train_df['Spring'] = train_df['Month'].apply(lambda x: x.split('-')[1]).isin(['3', '4', '5']).astype(int)#.astype('object')\n",
    "# test_df['Spring'] = test_df['Month'].apply(lambda x: x.split('-')[1]).isin(['3', '4', '5']).astype(int)#.astype('object')\n",
    "\n",
    "# train_df['Summer'] = train_df['Month'].apply(lambda x: x.split('-')[1]).isin(['6', '7', '8']).astype(int)#.astype('object')\n",
    "# test_df['Summer'] = test_df['Month'].apply(lambda x: x.split('-')[1]).isin(['6', '7', '8']).astype(int)#.astype('object')\n",
    "\n",
    "# train_df['Autumn'] = train_df['Month'].apply(lambda x: x.split('-')[1]).isin(['9', '10', '11']).astype(int)#.astype('object')\n",
    "# test_df['Autumn'] = test_df['Month'].apply(lambda x: x.split('-')[1]).isin(['9', '10', '11']).astype(int)#.astype('object')\n",
    "\n",
    "\n",
    "\n",
    "# def part_of_day(hour):\n",
    "#     if int(hour) in range(6,12,1):\n",
    "#         return 'morning'\n",
    "#     if int(hour) in range(12,18,1):\n",
    "#         return 'day'\n",
    "#     if int(hour) in range(18, 24):\n",
    "#         return 'evening'\n",
    "#     else:\n",
    "#         return 'night'\n",
    "# \n",
    "# train_df['PartOfTheDay'] = train_df['Dep_hour'].apply(part_of_day).astype('object')\n",
    "# test_df['PartOfTheDay'] = test_df['Dep_hour'].apply(part_of_day).astype('object')\n",
    "# \n",
    "\n",
    "# def distance_cat(distance):\n",
    "#     if int(distance) < 500:\n",
    "#         return 'near'\n",
    "#     if 500 <= int(distance) < 1000:\n",
    "#         return 'middle'\n",
    "#     if int(distance) >= 1000:\n",
    "#         return 'far'\n",
    "#     \n",
    "# # train_df['Distance'].mean()    \n",
    "# test_df['DistCat'] = test_df['Distance'].astype('object')#.apply(distance_cat)\n",
    "# train_df['DistCat'] = train_df['Distance'].astype('object')#.apply(distance_cat)\n",
    "\n",
    "# train_df['DepTime'] = train_df['DepTime'].astype('object')\n",
    "# test_df['DepTime'] = test_df['DepTime'].astype('object')\n",
    "\n",
    "test_df.head(3)"
   ]
  },
  {
   "cell_type": "code",
   "execution_count": 8,
   "metadata": {
    "pycharm": {
     "is_executing": false,
     "name": "#%%\n"
    }
   },
   "outputs": [],
   "source": [
    "# train_df.groupby(['CarrierRout', 'DayOfWeek'])[['flight']].count()"
   ]
  },
  {
   "cell_type": "code",
   "execution_count": 9,
   "metadata": {
    "pycharm": {
     "is_executing": false,
     "name": "#%%\n"
    }
   },
   "outputs": [
    {
     "data": {
      "text/plain": "Month                   0\nDayofMonth              0\nDayOfWeek               0\nDepTime                 0\nUniqueCarrier           0\nOrigin                  0\nDest                    0\nDistance                0\nflight                  0\nCarrierDest             0\nCarrierRout             0\nDep_hour                0\nDep_minute              0\nCarrierOriginDepHour    0\nCarrierRoutDepHour      0\nSeason                  0\ndtype: int64"
     },
     "metadata": {},
     "output_type": "execute_result",
     "execution_count": 9
    }
   ],
   "source": [
    "test_df.isna().sum()"
   ]
  },
  {
   "cell_type": "code",
   "execution_count": 10,
   "metadata": {
    "pycharm": {
     "is_executing": false
    }
   },
   "outputs": [
    {
     "data": {
      "text/plain": "array([ True,  True,  True,  True,  True,  True,  True,  True,  True,\n        True,  True,  True,  True,  True,  True,  True])"
     },
     "metadata": {},
     "output_type": "execute_result",
     "execution_count": 10
    }
   ],
   "source": [
    "train_df.drop('dep_delayed_15min', axis=1).columns == test_df.columns"
   ]
  },
  {
   "cell_type": "code",
   "execution_count": 11,
   "metadata": {
    "pycharm": {
     "is_executing": false,
     "name": "#%%\n"
    }
   },
   "outputs": [
    {
     "data": {
      "text/plain": "True"
     },
     "metadata": {},
     "output_type": "execute_result",
     "execution_count": 11
    }
   ],
   "source": [
    "train_df.shape[0] == test_df.shape[0]"
   ]
  },
  {
   "cell_type": "code",
   "execution_count": 12,
   "metadata": {
    "pycharm": {
     "is_executing": false,
     "name": "#%%\n"
    }
   },
   "outputs": [
    {
     "data": {
      "text/plain": "Month                   object\nDayofMonth              object\nDayOfWeek               object\nDepTime                  int64\nUniqueCarrier           object\nOrigin                  object\nDest                    object\nDistance                 int64\ndep_delayed_15min       object\nflight                  object\nCarrierDest             object\nCarrierRout             object\nDep_hour                object\nDep_minute               int64\nCarrierOriginDepHour    object\nCarrierRoutDepHour      object\nSeason                  object\ndtype: object"
     },
     "metadata": {},
     "output_type": "execute_result",
     "execution_count": 12
    }
   ],
   "source": [
    "train_df.dtypes"
   ]
  },
  {
   "cell_type": "markdown",
   "metadata": {},
   "source": [
    "**Remember indexes of categorical features (to be passed to CatBoost)**"
   ]
  },
  {
   "cell_type": "code",
   "execution_count": 13,
   "metadata": {
    "pycharm": {
     "is_executing": false
    }
   },
   "outputs": [
    {
     "data": {
      "text/plain": "array([ 0,  1,  2,  4,  5,  6,  8,  9, 10, 11, 13, 14, 15], dtype=int64)"
     },
     "metadata": {},
     "output_type": "execute_result",
     "execution_count": 13
    }
   ],
   "source": [
    "categ_feat_idx = np.where(train_df.drop('dep_delayed_15min', axis=1).dtypes == 'object')[0]\n",
    "categ_feat_idx"
   ]
  },
  {
   "cell_type": "code",
   "execution_count": 14,
   "metadata": {
    "pycharm": {
     "is_executing": false
    }
   },
   "outputs": [
    {
     "data": {
      "text/plain": "Index(['Month', 'DayofMonth', 'DayOfWeek', 'UniqueCarrier', 'Origin', 'Dest',\n       'flight', 'CarrierDest', 'CarrierRout', 'Dep_hour',\n       'CarrierOriginDepHour', 'CarrierRoutDepHour', 'Season'],\n      dtype='object')"
     },
     "metadata": {},
     "output_type": "execute_result",
     "execution_count": 14
    }
   ],
   "source": [
    "train_df.drop('dep_delayed_15min', axis=1).columns[categ_feat_idx]"
   ]
  },
  {
   "cell_type": "markdown",
   "metadata": {},
   "source": [
    "**Allocate a hold-out set (a.k.a. a validation set) to validate the model**"
   ]
  },
  {
   "cell_type": "code",
   "execution_count": 15,
   "metadata": {
    "pycharm": {
     "is_executing": false
    }
   },
   "outputs": [],
   "source": [
    "X_train = train_df.drop('dep_delayed_15min', axis=1).values\n",
    "y_train = train_df['dep_delayed_15min'].map({'Y': 1, 'N': 0}).values\n",
    "X_test = test_df.values"
   ]
  },
  {
   "cell_type": "code",
   "execution_count": 16,
   "metadata": {
    "pycharm": {
     "is_executing": false
    }
   },
   "outputs": [],
   "source": [
    "X_train_part, X_valid, y_train_part, y_valid = train_test_split(X_train, y_train, \n",
    "                                                                test_size=0.3, \n",
    "                                                                random_state=17)"
   ]
  },
  {
   "cell_type": "markdown",
   "metadata": {},
   "source": [
    "**Train Catboost with default arguments, passing only the indexes of categorical features.**"
   ]
  },
  {
   "cell_type": "code",
   "execution_count": 17,
   "metadata": {
    "pycharm": {
     "is_executing": false
    }
   },
   "outputs": [],
   "source": [
    "ctb = CatBoostClassifier(random_seed=17,\n",
    "                         silent=True,\n",
    "                         task_type=\"GPU\",\n",
    "                         devices=\"0\",\n",
    "                         border_count=254,\n",
    "                         iterations=1500)"
   ]
  },
  {
   "cell_type": "code",
   "execution_count": 18,
   "metadata": {
    "pycharm": {
     "is_executing": false
    }
   },
   "outputs": [
    {
     "name": "stdout",
     "text": [
      "Wall time: 8min 23s\n"
     ],
     "output_type": "stream"
    },
    {
     "data": {
      "text/plain": "<catboost.core.CatBoostClassifier at 0x23ed29182c8>"
     },
     "metadata": {},
     "output_type": "execute_result",
     "execution_count": 18
    }
   ],
   "source": [
    "%%time\n",
    "ctb.fit(X_train_part, y_train_part,\n",
    "        cat_features=categ_feat_idx);"
   ]
  },
  {
   "cell_type": "code",
   "execution_count": 19,
   "metadata": {
    "pycharm": {
     "is_executing": false
    }
   },
   "outputs": [],
   "source": [
    "ctb_valid_pred = ctb.predict_proba(X_valid)[:, 1]"
   ]
  },
  {
   "cell_type": "markdown",
   "metadata": {},
   "source": [
    "**We got some 0.756 ROC AUC on the hold-out set.**"
   ]
  },
  {
   "cell_type": "code",
   "execution_count": 20,
   "metadata": {
    "pycharm": {
     "is_executing": false
    }
   },
   "outputs": [
    {
     "data": {
      "text/plain": "0.823928741052146"
     },
     "metadata": {},
     "output_type": "execute_result",
     "execution_count": 20
    }
   ],
   "source": [
    "roc_auc_score(y_valid, ctb_valid_pred)"
   ]
  },
  {
   "cell_type": "code",
   "execution_count": 21,
   "metadata": {
    "pycharm": {
     "is_executing": false
    }
   },
   "outputs": [
    {
     "data": {
      "text/plain": "            feature_name  importance\n12            Dep_minute   19.079790\n11              Dep_hour   12.724715\n14    CarrierRoutDepHour   12.060207\n3                DepTime    7.930531\n13  CarrierOriginDepHour    6.625573\n10           CarrierRout    5.152296\n4          UniqueCarrier    4.850050\n7               Distance    4.333131\n5                 Origin    4.043542\n0                  Month    3.886226\n2              DayOfWeek    3.833780\n1             DayofMonth    3.764383\n6                   Dest    3.337796\n9            CarrierDest    3.332637\n8                 flight    2.757623\n15                Season    2.287721",
      "text/html": "<div>\n<style scoped>\n    .dataframe tbody tr th:only-of-type {\n        vertical-align: middle;\n    }\n\n    .dataframe tbody tr th {\n        vertical-align: top;\n    }\n\n    .dataframe thead th {\n        text-align: right;\n    }\n</style>\n<table border=\"1\" class=\"dataframe\">\n  <thead>\n    <tr style=\"text-align: right;\">\n      <th></th>\n      <th>feature_name</th>\n      <th>importance</th>\n    </tr>\n  </thead>\n  <tbody>\n    <tr>\n      <td>12</td>\n      <td>Dep_minute</td>\n      <td>19.079790</td>\n    </tr>\n    <tr>\n      <td>11</td>\n      <td>Dep_hour</td>\n      <td>12.724715</td>\n    </tr>\n    <tr>\n      <td>14</td>\n      <td>CarrierRoutDepHour</td>\n      <td>12.060207</td>\n    </tr>\n    <tr>\n      <td>3</td>\n      <td>DepTime</td>\n      <td>7.930531</td>\n    </tr>\n    <tr>\n      <td>13</td>\n      <td>CarrierOriginDepHour</td>\n      <td>6.625573</td>\n    </tr>\n    <tr>\n      <td>10</td>\n      <td>CarrierRout</td>\n      <td>5.152296</td>\n    </tr>\n    <tr>\n      <td>4</td>\n      <td>UniqueCarrier</td>\n      <td>4.850050</td>\n    </tr>\n    <tr>\n      <td>7</td>\n      <td>Distance</td>\n      <td>4.333131</td>\n    </tr>\n    <tr>\n      <td>5</td>\n      <td>Origin</td>\n      <td>4.043542</td>\n    </tr>\n    <tr>\n      <td>0</td>\n      <td>Month</td>\n      <td>3.886226</td>\n    </tr>\n    <tr>\n      <td>2</td>\n      <td>DayOfWeek</td>\n      <td>3.833780</td>\n    </tr>\n    <tr>\n      <td>1</td>\n      <td>DayofMonth</td>\n      <td>3.764383</td>\n    </tr>\n    <tr>\n      <td>6</td>\n      <td>Dest</td>\n      <td>3.337796</td>\n    </tr>\n    <tr>\n      <td>9</td>\n      <td>CarrierDest</td>\n      <td>3.332637</td>\n    </tr>\n    <tr>\n      <td>8</td>\n      <td>flight</td>\n      <td>2.757623</td>\n    </tr>\n    <tr>\n      <td>15</td>\n      <td>Season</td>\n      <td>2.287721</td>\n    </tr>\n  </tbody>\n</table>\n</div>"
     },
     "metadata": {},
     "output_type": "execute_result",
     "execution_count": 21
    }
   ],
   "source": [
    "df = pd.DataFrame({'feature_name': train_df.drop('dep_delayed_15min', axis=1).columns,\n",
    "                   'importance': ctb.feature_importances_})\n",
    "\n",
    "df.sort_values(by='importance', ascending=False)"
   ]
  },
  {
   "cell_type": "markdown",
   "metadata": {},
   "source": [
    "**Train on the whole train set, make prediction on the test set. We got ~0.734 in the competition - \"Catboost starter\" baseline**"
   ]
  },
  {
   "cell_type": "code",
   "execution_count": 22,
   "metadata": {
    "pycharm": {
     "is_executing": false
    }
   },
   "outputs": [
    {
     "name": "stdout",
     "text": [
      "Wall time: 8min 40s\n"
     ],
     "output_type": "stream"
    },
    {
     "data": {
      "text/plain": "<catboost.core.CatBoostClassifier at 0x23ed29182c8>"
     },
     "metadata": {},
     "output_type": "execute_result",
     "execution_count": 22
    }
   ],
   "source": [
    "%%time\n",
    "ctb.fit(X_train, y_train,\n",
    "        cat_features=categ_feat_idx);"
   ]
  },
  {
   "cell_type": "code",
   "execution_count": 23,
   "metadata": {
    "pycharm": {
     "is_executing": false
    }
   },
   "outputs": [],
   "source": [
    "ctb_test_pred = ctb.predict_proba(X_test)[:, 1]"
   ]
  },
  {
   "cell_type": "code",
   "execution_count": 24,
   "metadata": {
    "pycharm": {
     "is_executing": false
    }
   },
   "outputs": [],
   "source": [
    "with warnings.catch_warnings():\n",
    "    warnings.simplefilter(\"ignore\")\n",
    "\n",
    "    sample_sub = pd.read_csv(PATH_TO_DATA / 'sample_submission.csv', \n",
    "                             index_col='id')\n",
    "    sample_sub['dep_delayed_15min'] = ctb_test_pred\n",
    "    sample_sub.to_csv('ctb_pred.csv')"
   ]
  },
  {
   "cell_type": "code",
   "execution_count": 25,
   "metadata": {
    "pycharm": {
     "is_executing": false,
     "name": "#%%\n"
    }
   },
   "outputs": [
    {
     "name": "stdout",
     "text": [
      "<class 'pandas.core.frame.DataFrame'>\nInt64Index: 100000 entries, 0 to 99999\nData columns (total 1 columns):\ndep_delayed_15min    100000 non-null float64\ndtypes: float64(1)\nmemory usage: 1.5 MB\n"
     ],
     "output_type": "stream"
    }
   ],
   "source": [
    "sample_sub.info()"
   ]
  },
  {
   "cell_type": "markdown",
   "metadata": {},
   "source": [
    "Now's your turn! Go and improve the model to beat **\"A2 baseline (10 credits)\"** - **0.75914** LB score. It's crucial to come up with some good features. \n",
    "\n",
    "For discussions, stick to the **#a2_kaggle_fall2019** thread in the **mlcourse_ai_news** [ODS Slack](http://opendatascience.slack.com) channel. Serhii Romanenko (@serhii_romanenko) will be there to help. \n",
    "\n",
    "Welcome to Kaggle!\n",
    "\n",
    "<img src='https://habrastorage.org/webt/fs/42/ms/fs42ms0r7qsoj-da4x7yfntwrbq.jpeg' width=50%>\n",
    "*from the [\"Nerd Laughing Loud\"](https://www.kaggle.com/general/76963) thread.*"
   ]
  }
 ],
 "metadata": {
  "kernelspec": {
   "display_name": "Python 3",
   "language": "python",
   "name": "python3"
  },
  "language_info": {
   "codemirror_mode": {
    "name": "ipython",
    "version": 3
   },
   "file_extension": ".py",
   "mimetype": "text/x-python",
   "name": "python",
   "nbconvert_exporter": "python",
   "pygments_lexer": "ipython3",
   "version": "3.7.3"
  },
  "pycharm": {
   "stem_cell": {
    "cell_type": "raw",
    "source": [],
    "metadata": {
     "collapsed": false
    }
   }
  }
 },
 "nbformat": 4,
 "nbformat_minor": 1
}