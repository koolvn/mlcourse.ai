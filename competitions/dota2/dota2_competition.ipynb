{
 "cells": [
  {
   "cell_type": "code",
   "execution_count": 63,
   "metadata": {
    "collapsed": true,
    "pycharm": {
     "is_executing": false
    }
   },
   "outputs": [],
   "source": [
    "import pandas as pd\n",
    "from sklearn.model_selection import train_test_split\n",
    "from sklearn.metrics import roc_auc_score\n",
    "from sklearn.preprocessing import StandardScaler"
   ]
  },
  {
   "cell_type": "markdown",
   "source": [
    "### Loading DATA"
   ],
   "metadata": {
    "collapsed": false,
    "pycharm": {
     "name": "#%% md\n",
     "is_executing": false
    }
   }
  },
  {
   "cell_type": "code",
   "execution_count": null,
   "outputs": [],
   "source": [
    "data_train = pd.read_csv('../data/train_features.csv', index_col='match_id_hash')\n",
    "# data_test = pd.read_csv('../data/test_features.csv', index_col='match_id_hash')\n",
    "train_targets = pd.read_csv('../data/train_targets.csv', index_col='match_id_hash')\n",
    "feature_afk = pd.read_csv('afk_feature.csv')\n",
    "data_train_engineered = pd.read_csv('data_train_engineered.csv', index_col='match_id_hash')"
   ],
   "metadata": {
    "collapsed": false,
    "pycharm": {
     "name": "#%%\n"
    }
   }
  },
  {
   "cell_type": "markdown",
   "source": [
    "### Features"
   ],
   "metadata": {
    "collapsed": false,
    "pycharm": {
     "name": "#%% md\n"
    }
   }
  },
  {
   "cell_type": "code",
   "execution_count": null,
   "outputs": [],
   "source": [
    "# afk_features\n",
    "data_train = data_train.join(feature_afk.set_index('match_id_hash'))\n",
    "print(data_train.shape)\n",
    "\n",
    "data_train['afk'] = data_train['afk'].fillna('0')\n",
    "\n",
    "data_train.info()\n",
    "data_train.head(3)\n",
    "# [print(n) for n in list(train_targets.isna().sum()) if n != 0]  # Проверка на пропущенные данные\n"
   ],
   "metadata": {
    "collapsed": false,
    "pycharm": {
     "name": "#%%\n"
    }
   }
  },
  {
   "cell_type": "markdown",
   "source": [
    " ### Team stats "
   ],
   "metadata": {
    "collapsed": false
   }
  },
  {
   "cell_type": "code",
   "execution_count": 5,
   "outputs": [],
   "source": [
    "import re\n",
    "\n",
    "for col in list(data_train.columns):\n",
    "    r_regexp = re.compile(r'r[0-9]_(.*)').findall(col)\n",
    "    d_regexp = re.compile(r'd[0-9]_(.*)').findall(col)\n",
    "\n",
    "    if len(r_regexp) > 0:\n",
    "        data_train['r_' + r_regexp[0]] = 0\n",
    "    if len(d_regexp) > 0:\n",
    "        data_train['d_' + d_regexp[0]] = 0  \n",
    "\n",
    "for col in list(data_train.columns):\n",
    "    r_regexp = re.compile(r'r[0-9]_(.*)').findall(col)\n",
    "    d_regexp = re.compile(r'd[0-9]_(.*)').findall(col)\n",
    "\n",
    "    if len(r_regexp) > 0:\n",
    "        data_train['r_' + r_regexp[0]] = data_train['r_' + r_regexp[0]] + data_train[re.compile(r'r[0-9]_.*').findall(col)[0]]\n",
    "        data_train.drop(columns=[re.compile(r'r[0-9]_.*').findall(col)[0]], inplace=True)\n",
    "        \n",
    "    if len(d_regexp) > 0:\n",
    "        data_train['d_' + d_regexp[0]] = data_train['d_' + d_regexp[0]] + data_train[re.compile(r'd[0-9]_.*').findall(col)[0]]\n",
    "        data_train.drop(columns=[re.compile(r'd[0-9]_.*').findall(col)[0]], inplace=True)\n",
    "\n",
    "data_train.drop(columns=['r_hero_id', 'd_hero_id', 'r_x', 'r_y', 'd_x', 'd_y'], inplace=True)"
   ],
   "metadata": {
    "collapsed": false,
    "pycharm": {
     "name": "#%%\n",
     "is_executing": false
    }
   }
  },
  {
   "cell_type": "code",
   "execution_count": 6,
   "outputs": [
    {
     "data": {
      "text/plain": "[]"
     },
     "metadata": {},
     "output_type": "execute_result",
     "execution_count": 6
    }
   ],
   "source": [
    "# Проверяем, есть ли NA\n",
    "[print(n) for n in list(data_train.isna().sum()) if n != 0]"
   ],
   "metadata": {
    "collapsed": false,
    "pycharm": {
     "name": "#%%\n",
     "is_executing": false
    }
   }
  },
  {
   "cell_type": "code",
   "execution_count": 7,
   "outputs": [],
   "source": [
    "# data_train.to_csv('data_train_engineered.csv')\n"
   ],
   "metadata": {
    "collapsed": false,
    "pycharm": {
     "name": "#%%\n",
     "is_executing": false
    }
   }
  },
  {
   "cell_type": "code",
   "execution_count": 19,
   "outputs": [
    {
     "data": {
      "text/plain": "48"
     },
     "metadata": {},
     "output_type": "execute_result",
     "execution_count": 19
    }
   ],
   "source": [
    "len(list(data_train.columns))"
   ],
   "metadata": {
    "collapsed": false,
    "pycharm": {
     "name": "#%%\n",
     "is_executing": false
    }
   }
  },
  {
   "cell_type": "markdown",
   "source": [
    "## Features Engineering from raw data"
   ],
   "metadata": {
    "collapsed": false,
    "pycharm": {
     "name": "#%% md\n",
     "is_executing": false
    }
   }
  },
  {
   "cell_type": "code",
   "execution_count": 2,
   "outputs": [],
   "source": [
    "import json\n",
    "matches = []\n",
    "with open('../data/train_matches.jsonl') as fin:\n",
    "    # read the 18-th line\n",
    "    for i in range(500):\n",
    "        line = fin.readline()\n",
    "        matches.append(json.loads(line))\n",
    "    # read JSON into a Python object \n",
    "    "
   ],
   "metadata": {
    "collapsed": false,
    "pycharm": {
     "name": "#%%\n",
     "is_executing": false
    }
   }
  },
  {
   "cell_type": "code",
   "execution_count": 13,
   "outputs": [
    {
     "data": {
      "text/plain": "[{'id': 'item_tango', 'num_charges': 2, 'cooldown': 0},\n {'id': 'item_wraith_band', 'cooldown': 0},\n {'id': 'item_enchanted_mango', 'cooldown': 0},\n {'id': 'item_clarity', 'num_charges': 1, 'cooldown': 0},\n {'id': 'item_tpscroll', 'num_charges': 1, 'cooldown': 0}]"
     },
     "metadata": {},
     "output_type": "execute_result",
     "execution_count": 13
    }
   ],
   "source": [
    "matches[0]['players'][i]['hero_inventory']"
   ],
   "metadata": {
    "collapsed": false,
    "pycharm": {
     "name": "#%%\n",
     "is_executing": false
    }
   }
  },
  {
   "cell_type": "code",
   "execution_count": 15,
   "outputs": [
    {
     "data": {
      "text/plain": "                      match_id_hash  afk\n0  6db558535151ea18ca70a6892197db41    1\n5  6db558535151ea18ca70a6892197db41    1\n5  7e9ee83a71001fec75bacbe4d61b2724    1\n1  cb8782d6c6bc0398c228625c20617d04    1",
      "text/html": "<div>\n<style scoped>\n    .dataframe tbody tr th:only-of-type {\n        vertical-align: middle;\n    }\n\n    .dataframe tbody tr th {\n        vertical-align: top;\n    }\n\n    .dataframe thead th {\n        text-align: right;\n    }\n</style>\n<table border=\"1\" class=\"dataframe\">\n  <thead>\n    <tr style=\"text-align: right;\">\n      <th></th>\n      <th>match_id_hash</th>\n      <th>afk</th>\n    </tr>\n  </thead>\n  <tbody>\n    <tr>\n      <td>0</td>\n      <td>6db558535151ea18ca70a6892197db41</td>\n      <td>1</td>\n    </tr>\n    <tr>\n      <td>5</td>\n      <td>6db558535151ea18ca70a6892197db41</td>\n      <td>1</td>\n    </tr>\n    <tr>\n      <td>5</td>\n      <td>7e9ee83a71001fec75bacbe4d61b2724</td>\n      <td>1</td>\n    </tr>\n    <tr>\n      <td>1</td>\n      <td>cb8782d6c6bc0398c228625c20617d04</td>\n      <td>1</td>\n    </tr>\n  </tbody>\n</table>\n</div>"
     },
     "metadata": {},
     "output_type": "execute_result",
     "execution_count": 15
    }
   ],
   "source": [
    "afk_players = pd.DataFrame()\n",
    "for match in matches:\n",
    "    for i, game in enumerate(match):\n",
    "        if len(match['players'][i]['actions']) < 3:\n",
    "            afk_players = afk_players.append(pd.DataFrame(data={'match_id_hash': match['match_id_hash'], 'afk': 1}, index=[i]))\n",
    "        # else:\n",
    "        #     afk_players = afk_players.append(pd.DataFrame(data={'afk_true': 0}, index=[match['match_id_hash']]))\n",
    "            # print(f\"player_slot {match['players'][i]['player_slot']} in match {match['match_id_hash']} was AFK\")\n",
    "afk_players"
   ],
   "metadata": {
    "collapsed": false,
    "pycharm": {
     "name": "#%%\n",
     "is_executing": false
    }
   }
  },
  {
   "cell_type": "code",
   "execution_count": 10,
   "outputs": [
    {
     "data": {
      "text/plain": "                                  afk\nmatch_id_hash                        \n6db558535151ea18ca70a6892197db41    2\n7e9ee83a71001fec75bacbe4d61b2724    1\ncb8782d6c6bc0398c228625c20617d04    1",
      "text/html": "<div>\n<style scoped>\n    .dataframe tbody tr th:only-of-type {\n        vertical-align: middle;\n    }\n\n    .dataframe tbody tr th {\n        vertical-align: top;\n    }\n\n    .dataframe thead th {\n        text-align: right;\n    }\n</style>\n<table border=\"1\" class=\"dataframe\">\n  <thead>\n    <tr style=\"text-align: right;\">\n      <th></th>\n      <th>afk</th>\n    </tr>\n    <tr>\n      <th>match_id_hash</th>\n      <th></th>\n    </tr>\n  </thead>\n  <tbody>\n    <tr>\n      <td>6db558535151ea18ca70a6892197db41</td>\n      <td>2</td>\n    </tr>\n    <tr>\n      <td>7e9ee83a71001fec75bacbe4d61b2724</td>\n      <td>1</td>\n    </tr>\n    <tr>\n      <td>cb8782d6c6bc0398c228625c20617d04</td>\n      <td>1</td>\n    </tr>\n  </tbody>\n</table>\n</div>"
     },
     "metadata": {},
     "output_type": "execute_result",
     "execution_count": 10
    }
   ],
   "source": [
    "afk_players = afk_players.groupby('match_id_hash').sum()\n",
    "afk_players"
   ],
   "metadata": {
    "collapsed": false,
    "pycharm": {
     "name": "#%%\n",
     "is_executing": false
    }
   }
  },
  {
   "cell_type": "code",
   "execution_count": 94,
   "outputs": [
    {
     "name": "stdout",
     "text": [
      "Wall time: 0 ns",
      "\n",
      "\n"
     ],
     "output_type": "stream"
    },
    {
     "data": {
      "text/plain": "HBox(children=(IntProgress(value=0, max=39675), HTML(value='')))",
      "application/vnd.jupyter.widget-view+json": {
       "version_major": 2,
       "version_minor": 0,
       "model_id": "3a4fdb82255e4d73aacb13acb8c8ddae"
      }
     },
     "metadata": {},
     "output_type": "display_data"
    }
   ],
   "source": [
    "%time\n",
    "import os\n",
    "\n",
    "try:\n",
    "    import ujson as json\n",
    "except ModuleNotFoundError:\n",
    "    import json\n",
    "    print ('Please install ujson to read JSON oblects faster')\n",
    "    \n",
    "try:\n",
    "    from tqdm import tqdm_notebook\n",
    "except ModuleNotFoundError:\n",
    "    tqdm_notebook = lambda x: x\n",
    "    print ('Please install tqdm to track progress with Python loops')\n",
    "\n",
    "def read_matches(matches_file):\n",
    "    \n",
    "    MATCHES_COUNT = {\n",
    "        'test_matches.jsonl': 10000,\n",
    "        'train_matches.jsonl': 39675,\n",
    "    }\n",
    "    _, filename = os.path.split(matches_file)\n",
    "    total_matches = MATCHES_COUNT.get(filename)\n",
    "    \n",
    "    with open(matches_file) as fin:\n",
    "        for line in tqdm_notebook(fin, total=total_matches):\n",
    "            yield json.loads(line)\n",
    "            \n",
    "afk_players = pd.DataFrame()   \n",
    "# processing each game\n",
    "for match in read_matches('../data/train_matches.jsonl'):\n",
    "    \n",
    "   # processing each player\n",
    "    for i, player in enumerate(match['players']):\n",
    "        if len(match['players'][i]['actions']) < 5:\n",
    "            afk_players = afk_players.append(pd.DataFrame(data={'match_id_hash': match['match_id_hash'], 'afk': 1}, index=[i]))"
   ],
   "metadata": {
    "collapsed": false,
    "pycharm": {
     "name": "#%%\n",
     "is_executing": false
    }
   }
  },
  {
   "cell_type": "code",
   "execution_count": 95,
   "outputs": [
    {
     "name": "stdout",
     "text": [
      "<class 'pandas.core.frame.DataFrame'>\nRangeIndex: 679 entries, 0 to 678\nData columns (total 2 columns):\nmatch_id_hash    679 non-null object\nafk              679 non-null int64\ndtypes: int64(1), object(1)\nmemory usage: 10.7+ KB\n",
      "None",
      "\n"
     ],
     "output_type": "stream"
    },
    {
     "data": {
      "text/plain": "                      match_id_hash  afk\n0  004f258cb0aec3c2612ec04ab4544d6a    1\n1  0073eaa0a66ec205f8a22c0550454085    1\n2  00e163a7f515c783325582b020232a7d    1\n3  02368d70de1312c29776b51f539da917    1\n4  02f1484e8e50a21c186431f8492bf6d3    1",
      "text/html": "<div>\n<style scoped>\n    .dataframe tbody tr th:only-of-type {\n        vertical-align: middle;\n    }\n\n    .dataframe tbody tr th {\n        vertical-align: top;\n    }\n\n    .dataframe thead th {\n        text-align: right;\n    }\n</style>\n<table border=\"1\" class=\"dataframe\">\n  <thead>\n    <tr style=\"text-align: right;\">\n      <th></th>\n      <th>match_id_hash</th>\n      <th>afk</th>\n    </tr>\n  </thead>\n  <tbody>\n    <tr>\n      <td>0</td>\n      <td>004f258cb0aec3c2612ec04ab4544d6a</td>\n      <td>1</td>\n    </tr>\n    <tr>\n      <td>1</td>\n      <td>0073eaa0a66ec205f8a22c0550454085</td>\n      <td>1</td>\n    </tr>\n    <tr>\n      <td>2</td>\n      <td>00e163a7f515c783325582b020232a7d</td>\n      <td>1</td>\n    </tr>\n    <tr>\n      <td>3</td>\n      <td>02368d70de1312c29776b51f539da917</td>\n      <td>1</td>\n    </tr>\n    <tr>\n      <td>4</td>\n      <td>02f1484e8e50a21c186431f8492bf6d3</td>\n      <td>1</td>\n    </tr>\n  </tbody>\n</table>\n</div>"
     },
     "metadata": {},
     "output_type": "execute_result",
     "execution_count": 95
    }
   ],
   "source": [
    "afk_players = afk_players.groupby('match_id_hash').sum().reset_index()\n",
    "print(afk_players.info())\n",
    "afk_players.head()"
   ],
   "metadata": {
    "collapsed": false,
    "pycharm": {
     "name": "#%%",
     "is_executing": false
    }
   }
  },
  {
   "cell_type": "code",
   "execution_count": 110,
   "outputs": [],
   "source": [
    "afk_players.set_index('match_id_hash').to_csv('afk_feature.csv')"
   ],
   "metadata": {
    "collapsed": false,
    "pycharm": {
     "name": "#%%\n",
     "is_executing": false
    }
   }
  },
  {
   "cell_type": "markdown",
   "source": [
    "## Teaching models"
   ],
   "metadata": {
    "collapsed": false
   }
  },
  {
   "cell_type": "code",
   "execution_count": 90,
   "outputs": [],
   "source": [
    "X = data_train[data_train['game_time'] >= 600]#.drop(\n",
    "    # ['d1_x', 'd1_y', 'd2_x', 'd2_y', 'd3_x', 'd3_y', 'd4_x', 'd4_y', 'd5_x','d5_y','r1_x', 'r1_y', 'r2_x', 'r2_y', 'r3_x', 'r3_y', 'r4_x', 'r4_y', \n",
    "    #  'r5_x', 'r5_y'], axis=1)\n",
    "\n",
    "y = train_targets[train_targets['game_time'] >= 600]['radiant_win']\n",
    "\n",
    "X_train, X_test, y_train, y_test = train_test_split(X, y, random_state=22)"
   ],
   "metadata": {
    "collapsed": false,
    "pycharm": {
     "name": "#%%\n",
     "is_executing": false
    }
   }
  },
  {
   "cell_type": "code",
   "execution_count": 91,
   "outputs": [],
   "source": [
    "# scaler = StandardScaler()\n",
    "# \n",
    "# X_train_norm = scaler.fit_transform(X_train)\n",
    "y_train = y_train.replace({False: 0, True: 1})"
   ],
   "metadata": {
    "collapsed": false,
    "pycharm": {
     "name": "#%%\n",
     "is_executing": false
    }
   }
  },
  {
   "cell_type": "code",
   "execution_count": 92,
   "outputs": [
    {
     "name": "stdout",
     "text": [
      "Wall time: 25.1 s\n"
     ],
     "output_type": "stream"
    },
    {
     "data": {
      "text/plain": "0.7584150217439245"
     },
     "metadata": {},
     "output_type": "execute_result",
     "execution_count": 92
    }
   ],
   "source": [
    "%%time\n",
    "from sklearn.ensemble import RandomForestClassifier\n",
    "rfc = RandomForestClassifier(random_state=22, n_estimators=500)\n",
    "rfc.fit(X=X_train, y=y_train)\n",
    "y_pred = rfc.predict(X_test)\n",
    "roc_auc_score(y_true=y_test, y_score=y_pred)"
   ],
   "metadata": {
    "collapsed": false,
    "pycharm": {
     "name": "#%%\n",
     "is_executing": false
    }
   }
  },
  {
   "cell_type": "code",
   "execution_count": 93,
   "outputs": [
    {
     "name": "stdout",
     "text": [
      "Wall time: 980 ms\n"
     ],
     "output_type": "stream"
    },
    {
     "data": {
      "text/plain": "0.7339611671748086"
     },
     "metadata": {},
     "output_type": "execute_result",
     "execution_count": 93
    }
   ],
   "source": [
    "%%time\n",
    "from sklearn.neighbors import KNeighborsClassifier\n",
    "knc = KNeighborsClassifier()\n",
    "knc.fit(X_train, y_train)\n",
    "# knc.predict_proba(X_test)\n",
    "roc_auc_score(y_test, knc.predict(X_test))"
   ],
   "metadata": {
    "collapsed": false,
    "pycharm": {
     "name": "#%%\n",
     "is_executing": false
    }
   }
  },
  {
   "cell_type": "code",
   "execution_count": 94,
   "outputs": [
    {
     "name": "stdout",
     "text": [
      "Wall time: 93 ms\n"
     ],
     "output_type": "stream"
    },
    {
     "data": {
      "text/plain": "0.7399817298005074"
     },
     "metadata": {},
     "output_type": "execute_result",
     "execution_count": 94
    }
   ],
   "source": [
    "%%time\n",
    "from sklearn.discriminant_analysis import QuadraticDiscriminantAnalysis\n",
    "qda = QuadraticDiscriminantAnalysis()\n",
    "qda.fit(X_train, y_train)\n",
    "roc_auc_score(y_test, qda.predict(X_test))"
   ],
   "metadata": {
    "collapsed": false,
    "pycharm": {
     "name": "#%%\n",
     "is_executing": false
    }
   }
  },
  {
   "cell_type": "code",
   "execution_count": 95,
   "outputs": [
    {
     "name": "stdout",
     "text": [
      "Wall time: 3.24 s\n"
     ],
     "output_type": "stream"
    },
    {
     "data": {
      "text/plain": "0.7672925059098985"
     },
     "metadata": {},
     "output_type": "execute_result",
     "execution_count": 95
    }
   ],
   "source": [
    "%%time\n",
    "from sklearn.linear_model import LogisticRegression\n",
    "lr = LogisticRegression(random_state=22, solver='lbfgs', max_iter=2000)\n",
    "lr.fit(X_train, y_train)\n",
    "roc_auc_score(y_test, lr.predict(X_test))"
   ],
   "metadata": {
    "collapsed": false,
    "pycharm": {
     "name": "#%%\n",
     "is_executing": false
    }
   }
  },
  {
   "cell_type": "markdown",
   "source": [
    "### Grid Search"
   ],
   "metadata": {
    "collapsed": false,
    "pycharm": {
     "name": "#%% md\n"
    }
   }
  },
  {
   "cell_type": "code",
   "execution_count": 111,
   "outputs": [],
   "source": [
    "best_scores_list = []"
   ],
   "metadata": {
    "collapsed": false,
    "pycharm": {
     "name": "#%%\n",
     "is_executing": false
    }
   }
  },
  {
   "cell_type": "code",
   "execution_count": 115,
   "outputs": [
    {
     "name": "stdout",
     "text": [
      "0.853165647904147\n",
      "0.8537117350876302\n",
      "0.8534438231942715\nWall time: 1min 10s\n"
     ],
     "output_type": "stream"
    }
   ],
   "source": [
    "%%time\n",
    "from sklearn.model_selection import GridSearchCV, StratifiedKFold\n",
    "for i in range(3):\n",
    "    i += 1\n",
    "    # rfc = RandomForestClassifier(n_estimators = 50, n_jobs=-1, random_state=22, oob_score=True, class_weight='balanced')\n",
    "    logistic_reg = LogisticRegression(class_weight='balanced', solver='lbfgs', max_iter=1500, n_jobs=-1)\n",
    "    skf = StratifiedKFold(n_splits=5, shuffle=True)\n",
    "    # parameters = {'max_features': [5], 'min_samples_leaf': [10], 'max_depth': [37]}\n",
    "    parameters = {'C': [0.75], 'tol': [0.25]}\n",
    "    gsc = GridSearchCV(estimator=logistic_reg, cv=skf, param_grid=parameters, n_jobs=-1, scoring='roc_auc')\n",
    "    gsc.fit(X_train, y_train)\n",
    "    print(gsc.best_score_)#, gsc.best_params_)\n",
    "    best_scores_list.append(gsc.best_score_)\n",
    "    "
   ],
   "metadata": {
    "collapsed": false,
    "pycharm": {
     "name": "#%%\n",
     "is_executing": false
    }
   }
  },
  {
   "cell_type": "code",
   "execution_count": 114,
   "outputs": [
    {
     "data": {
      "text/plain": "[]"
     },
     "metadata": {},
     "output_type": "execute_result",
     "execution_count": 114
    }
   ],
   "source": [
    "best_scores_list"
   ],
   "metadata": {
    "collapsed": false,
    "pycharm": {
     "name": "#%%\n",
     "is_executing": false
    }
   }
  },
  {
   "cell_type": "markdown",
   "source": [
    "# Logistic Regression\n",
    "params:\n",
    "{class_weight='balanced', random_state=22, solver='lbfgs', max_iter=1500, n_jobs=-1, {'C': 0.75, 'tol': 0.25}}"
   ],
   "metadata": {
    "collapsed": false,
    "pycharm": {
     "name": "#%% md\n",
     "is_executing": false
    }
   }
  },
  {
   "cell_type": "code",
   "execution_count": 106,
   "outputs": [
    {
     "data": {
      "text/plain": "0.7668417186964427"
     },
     "metadata": {},
     "output_type": "execute_result",
     "execution_count": 106
    }
   ],
   "source": [
    "from sklearn.linear_model import LogisticRegression\n",
    "lr = LogisticRegression(class_weight='balanced', random_state=22, solver='lbfgs', max_iter=1500, n_jobs=-1, C=0.75, tol=0.25)\n",
    "lr.fit(X_train, y_train)\n",
    "roc_auc_score(y_test, lr.predict(X_test))"
   ],
   "metadata": {
    "collapsed": false,
    "pycharm": {
     "name": "#%%\n",
     "is_executing": false
    }
   }
  },
  {
   "cell_type": "code",
   "execution_count": null,
   "outputs": [],
   "source": [
    "# pd.DataFrame(rfc.feature_importances_, X_train.columns.values, columns = ['Coef']).sort_values(by='Coef', ascending=False)\n",
    "X_train"
   ],
   "metadata": {
    "collapsed": false,
    "pycharm": {
     "name": "#%%\n"
    }
   }
  },
  {
   "cell_type": "code",
   "execution_count": null,
   "outputs": [],
   "source": [],
   "metadata": {
    "collapsed": false,
    "pycharm": {
     "name": "#%%\n"
    }
   }
  }
 ],
 "metadata": {
  "language_info": {
   "codemirror_mode": {
    "name": "ipython",
    "version": 2
   },
   "file_extension": ".py",
   "mimetype": "text/x-python",
   "name": "python",
   "nbconvert_exporter": "python",
   "pygments_lexer": "ipython2",
   "version": "2.7.6"
  },
  "kernelspec": {
   "name": "python3",
   "language": "python",
   "display_name": "Python 3"
  },
  "pycharm": {
   "stem_cell": {
    "cell_type": "raw",
    "source": [],
    "metadata": {
     "collapsed": false
    }
   }
  }
 },
 "nbformat": 4,
 "nbformat_minor": 0
}