{
 "cells": [
  {
   "cell_type": "markdown",
   "metadata": {},
   "source": [
    "<center>\n",
    "<img src=\"https://habrastorage.org/files/fd4/502/43d/fd450243dd604b81b9713213a247aa20.jpg\" />\n",
    "</center> \n",
    "     \n",
    "\n",
    "## <center> Kaggle inclass competition from [mlcourse.ai](https://mlcourse.ai/)\n",
    "    \n",
    "# <center> [**Dota 2 Winner Prediction**](https://www.kaggle.com/c/mlcourse-dota2-win-prediction/)\n",
    "\n",
    "### <center> Session: Fall 2019\n",
    "\n",
    "#### <div style=\"text-align: right\"> Author: [Vladimir Kulyashov](https://www.kaggle.com/vovkaperm)\n",
    "\n",
    "\n",
    "<div style=\"text-align: right\"> creation date: 29 October 2019 </div>"
   ]
  },
  {
   "cell_type": "code",
   "execution_count": 1,
   "metadata": {
    "pycharm": {
     "is_executing": false
    }
   },
   "outputs": [],
   "source": [
    "import datetime\n",
    "import numpy as np\n",
    "import pandas as pd\n",
    "import matplotlib.pyplot as plt\n",
    "from os import path\n",
    "from sklearn.model_selection import cross_val_score, StratifiedKFold\n",
    "from sklearn.linear_model import LogisticRegression"
   ]
  },
  {
   "cell_type": "code",
   "execution_count": 2,
   "metadata": {},
   "outputs": [],
   "source": [
    "PATH_TO_DATA = './data/'\n",
    "PATH_TO_PREDS = './predictions/'\n",
    "SEED = 17\n",
    "\n",
    "skf = StratifiedKFold(n_splits=10, random_state=SEED)\n",
    "logit = LogisticRegression(random_state=SEED, solver='lbfgs')"
   ]
  },
  {
   "cell_type": "code",
   "execution_count": 3,
   "metadata": {},
   "outputs": [],
   "source": [
    "# Useful def's\n",
    "\n",
    "def diff_of_quat(a1, a2):\n",
    "    if a1 + a2 == 0: return 0\n",
    "    else: return (a1-a2) / (a1 + a2)\n",
    "\n",
    "\n",
    "def create_team_feature(feature):\n",
    "    r_tmp = full_df[[f'r{i}_{feature}' for i in range(1,6)]]\n",
    "    d_tmp = full_df[[f'd{i}_{feature}' for i in range(1,6)]]\n",
    "    new_df[feature] = pd.concat([r_tmp.sum(axis=1), d_tmp.sum(axis=1)], axis=1).apply(lambda x: diff_of_quat(*x), axis=1)\n",
    "    \n",
    "def write_submission_file(predictions, filename):\n",
    "    sub = pd.read_csv(path.join(PATH_TO_DATA,'sample_submission.csv'))\n",
    "    sub['radiant_win_prob'] = predictions\n",
    "    sub.to_csv(filename, index=False)\n",
    "    print(f'Saved as {filename}')"
   ]
  },
  {
   "cell_type": "markdown",
   "metadata": {
    "pycharm": {
     "is_executing": false,
     "name": "#%% md\n"
    }
   },
   "source": [
    "### Loading DATA"
   ]
  },
  {
   "cell_type": "code",
   "execution_count": 4,
   "metadata": {},
   "outputs": [
    {
     "name": "stdout",
     "output_type": "stream",
     "text": [
      "Wall time: 1.16 s\n"
     ]
    }
   ],
   "source": [
    "%%time\n",
    "cols = pd.read_csv(path.join(PATH_TO_DATA, 'train_features.csv'), sep=',', nrows=1).columns\n",
    "cols = list(set(cols) - {'match_id_hash'})\n",
    "\n",
    "train_df = pd.read_csv(path.join(PATH_TO_DATA, 'train_features.csv'), sep=',', header=0, usecols=cols)\n",
    "train_targets = pd.read_csv(path.join(PATH_TO_DATA, 'train_targets.csv'), \n",
    "                            header=0, usecols=['radiant_win'], squeeze=True).astype('int')\n",
    "\n",
    "test_df = pd.read_csv(path.join(PATH_TO_DATA, 'test_features.csv'), sep=',', header=0, usecols=cols)\n",
    "\n",
    "\n",
    "full_df = pd.concat([train_df, test_df])\n",
    "idx = train_df.shape[0]"
   ]
  },
  {
   "cell_type": "markdown",
   "metadata": {},
   "source": [
    "### Adding features"
   ]
  },
  {
   "cell_type": "code",
   "execution_count": 25,
   "metadata": {},
   "outputs": [
    {
     "name": "stdout",
     "output_type": "stream",
     "text": [
      "Wall time: 10.2 s\n"
     ]
    }
   ],
   "source": [
    "%%time\n",
    "team_features = ['kills',\n",
    "                 'deaths',\n",
    "                 'assists',\n",
    "                 'gold',\n",
    "                 'xp',\n",
    "                 'denies',\n",
    "                 'lh',\n",
    "                 'level',\n",
    "                 'max_health',\n",
    "                 'firstblood_claimed',\n",
    "                 'teamfight_participation',\n",
    "                 'towers_killed',\n",
    "                 'obs_placed']\n",
    "\n",
    "new_df = pd.DataFrame(index=full_df.index)\n",
    "\n",
    "for feature in team_features:\n",
    "    create_team_feature(feature)"
   ]
  },
  {
   "cell_type": "code",
   "execution_count": 38,
   "metadata": {},
   "outputs": [
    {
     "name": "stdout",
     "output_type": "stream",
     "text": [
      "[0.79942633 0.80937258 0.79270945 0.80548994 0.81056284 0.80066065\n",
      " 0.79470897 0.79552257 0.80239084 0.80850063]\n",
      "CV mean:  0.801934\n"
     ]
    }
   ],
   "source": [
    "team_features_cv = cross_val_score(logit, new_df[:idx].values, train_targets.values,\n",
    "                                   scoring='roc_auc', cv=skf)\n",
    "print(team_features_cv)\n",
    "print(f'CV mean: {team_features_cv.mean() : 4f}')"
   ]
  },
  {
   "cell_type": "code",
   "execution_count": 28,
   "metadata": {},
   "outputs": [
    {
     "data": {
      "text/plain": [
       "LogisticRegression(C=1.0, class_weight=None, dual=False, fit_intercept=True,\n",
       "                   intercept_scaling=1, l1_ratio=None, max_iter=100,\n",
       "                   multi_class='warn', n_jobs=None, penalty='l2',\n",
       "                   random_state=17, solver='lbfgs', tol=0.0001, verbose=0,\n",
       "                   warm_start=False)"
      ]
     },
     "execution_count": 28,
     "metadata": {},
     "output_type": "execute_result"
    }
   ],
   "source": [
    "logit.fit(new_df[:idx].values, train_targets.values)"
   ]
  },
  {
   "cell_type": "code",
   "execution_count": 29,
   "metadata": {},
   "outputs": [],
   "source": [
    "preds = logit.predict_proba(new_df[idx:].values)"
   ]
  },
  {
   "cell_type": "code",
   "execution_count": 50,
   "metadata": {},
   "outputs": [
    {
     "data": {
      "text/html": [
       "<div>\n",
       "<style scoped>\n",
       "    .dataframe tbody tr th:only-of-type {\n",
       "        vertical-align: middle;\n",
       "    }\n",
       "\n",
       "    .dataframe tbody tr th {\n",
       "        vertical-align: top;\n",
       "    }\n",
       "\n",
       "    .dataframe thead th {\n",
       "        text-align: right;\n",
       "    }\n",
       "</style>\n",
       "<table border=\"1\" class=\"dataframe\">\n",
       "  <thead>\n",
       "    <tr style=\"text-align: right;\">\n",
       "      <th></th>\n",
       "      <th>features</th>\n",
       "      <th>coefs</th>\n",
       "    </tr>\n",
       "  </thead>\n",
       "  <tbody>\n",
       "    <tr>\n",
       "      <td>7</td>\n",
       "      <td>level</td>\n",
       "      <td>7.617129</td>\n",
       "    </tr>\n",
       "    <tr>\n",
       "      <td>3</td>\n",
       "      <td>gold</td>\n",
       "      <td>5.480706</td>\n",
       "    </tr>\n",
       "    <tr>\n",
       "      <td>8</td>\n",
       "      <td>max_health</td>\n",
       "      <td>3.087740</td>\n",
       "    </tr>\n",
       "    <tr>\n",
       "      <td>2</td>\n",
       "      <td>assists</td>\n",
       "      <td>0.642799</td>\n",
       "    </tr>\n",
       "    <tr>\n",
       "      <td>1</td>\n",
       "      <td>deaths</td>\n",
       "      <td>0.637227</td>\n",
       "    </tr>\n",
       "    <tr>\n",
       "      <td>0</td>\n",
       "      <td>kills</td>\n",
       "      <td>0.600038</td>\n",
       "    </tr>\n",
       "    <tr>\n",
       "      <td>10</td>\n",
       "      <td>towers_killed</td>\n",
       "      <td>0.497316</td>\n",
       "    </tr>\n",
       "    <tr>\n",
       "      <td>4</td>\n",
       "      <td>xp</td>\n",
       "      <td>0.460872</td>\n",
       "    </tr>\n",
       "    <tr>\n",
       "      <td>6</td>\n",
       "      <td>lh</td>\n",
       "      <td>0.170086</td>\n",
       "    </tr>\n",
       "    <tr>\n",
       "      <td>11</td>\n",
       "      <td>obs_placed</td>\n",
       "      <td>0.165784</td>\n",
       "    </tr>\n",
       "    <tr>\n",
       "      <td>5</td>\n",
       "      <td>denies</td>\n",
       "      <td>0.091491</td>\n",
       "    </tr>\n",
       "    <tr>\n",
       "      <td>9</td>\n",
       "      <td>firstblood_claimed</td>\n",
       "      <td>-0.034130</td>\n",
       "    </tr>\n",
       "    <tr>\n",
       "      <td>12</td>\n",
       "      <td>teamfight_participation</td>\n",
       "      <td>-1.234003</td>\n",
       "    </tr>\n",
       "  </tbody>\n",
       "</table>\n",
       "</div>"
      ],
      "text/plain": [
       "                   features     coefs\n",
       "7                     level  7.617129\n",
       "3                      gold  5.480706\n",
       "8                max_health  3.087740\n",
       "2                   assists  0.642799\n",
       "1                    deaths  0.637227\n",
       "0                     kills  0.600038\n",
       "10            towers_killed  0.497316\n",
       "4                        xp  0.460872\n",
       "6                        lh  0.170086\n",
       "11               obs_placed  0.165784\n",
       "5                    denies  0.091491\n",
       "9        firstblood_claimed -0.034130\n",
       "12  teamfight_participation -1.234003"
      ]
     },
     "execution_count": 50,
     "metadata": {},
     "output_type": "execute_result"
    }
   ],
   "source": [
    "feature_importance = pd.DataFrame()\n",
    "feature_importance['features'] = team_features\n",
    "feature_importance['coefs'] = logit.coef_[0]\n",
    "feature_importance.sort_values(by='coefs', ascending=False)"
   ]
  },
  {
   "cell_type": "code",
   "execution_count": 32,
   "metadata": {},
   "outputs": [
    {
     "name": "stdout",
     "output_type": "stream",
     "text": [
      "Saved as ./predictions/sub_1.csv\n"
     ]
    }
   ],
   "source": [
    "filename = f'sub_1.csv'\n",
    "write_submission_file(preds, path.join(PATH_TO_PREDS, filename))"
   ]
  },
  {
   "cell_type": "markdown",
   "metadata": {},
   "source": [
    "Initial submit gave **0.81678** on LB with the folowing features.\n",
    "\n",
    "team_features = ['kills',\n",
    "                 'deaths',\n",
    "                 'assists',\n",
    "                 'gold',\n",
    "                 'xp',\n",
    "                 'denies',\n",
    "                 'lh',\n",
    "                 'level',\n",
    "                 'max_health',\n",
    "                 'firstblood_claimed',\n",
    "                 'teamfight_participation',\n",
    "                 'towers_killed',\n",
    "                 'obs_placed']"
   ]
  },
  {
   "cell_type": "markdown",
   "metadata": {},
   "source": [
    "### Let's dive into JSON and find/make some awsome features :))"
   ]
  },
  {
   "cell_type": "code",
   "execution_count": 44,
   "metadata": {
    "pycharm": {
     "is_executing": false,
     "name": "#%%\n"
    }
   },
   "outputs": [],
   "source": [
    "import json\n",
    "matches = []\n",
    "with open(path.join(PATH_TO_DATA, 'train_matches.jsonl')) as f:\n",
    "    for i in range(500):\n",
    "        line = f.readline()\n",
    "        matches.append(json.loads(line))\n",
    "    "
   ]
  },
  {
   "cell_type": "code",
   "execution_count": null,
   "metadata": {
    "pycharm": {
     "is_executing": false,
     "name": "#%%\n"
    }
   },
   "outputs": [],
   "source": [
    "matches[0]['players'][i]['hero_inventory']"
   ]
  },
  {
   "cell_type": "code",
   "execution_count": null,
   "metadata": {
    "pycharm": {
     "is_executing": false,
     "name": "#%%\n"
    }
   },
   "outputs": [],
   "source": [
    "afk_players = pd.DataFrame()\n",
    "for match in matches:\n",
    "    for i, game in enumerate(match):\n",
    "        if len(match['players'][i]['actions']) < 3:\n",
    "            afk_players = afk_players.append(pd.DataFrame(data={'match_id_hash': match['match_id_hash'], 'afk': 1}, index=[i]))\n",
    "        # else:\n",
    "        #     afk_players = afk_players.append(pd.DataFrame(data={'afk_true': 0}, index=[match['match_id_hash']]))\n",
    "            # print(f\"player_slot {match['players'][i]['player_slot']} in match {match['match_id_hash']} was AFK\")\n",
    "afk_players"
   ]
  },
  {
   "cell_type": "code",
   "execution_count": null,
   "metadata": {
    "pycharm": {
     "is_executing": false,
     "name": "#%%\n"
    }
   },
   "outputs": [],
   "source": [
    "afk_players = afk_players.groupby('match_id_hash').sum()\n",
    "afk_players"
   ]
  },
  {
   "cell_type": "code",
   "execution_count": null,
   "metadata": {
    "pycharm": {
     "is_executing": false,
     "name": "#%%\n"
    }
   },
   "outputs": [],
   "source": [
    "%time\n",
    "import os\n",
    "\n",
    "try:\n",
    "    import ujson as json\n",
    "except ModuleNotFoundError:\n",
    "    import json\n",
    "    print ('Please install ujson to read JSON oblects faster')\n",
    "    \n",
    "try:\n",
    "    from tqdm import tqdm_notebook\n",
    "except ModuleNotFoundError:\n",
    "    tqdm_notebook = lambda x: x\n",
    "    print ('Please install tqdm to track progress with Python loops')\n",
    "\n",
    "def read_matches(matches_file):\n",
    "    \n",
    "    MATCHES_COUNT = {\n",
    "        'test_matches.jsonl': 10000,\n",
    "        'train_matches.jsonl': 39675,\n",
    "    }\n",
    "    _, filename = os.path.split(matches_file)\n",
    "    total_matches = MATCHES_COUNT.get(filename)\n",
    "    \n",
    "    with open(matches_file) as fin:\n",
    "        for line in tqdm_notebook(fin, total=total_matches):\n",
    "            yield json.loads(line)\n",
    "            \n",
    "afk_players = pd.DataFrame()   \n",
    "# processing each game\n",
    "for match in read_matches('../data/train_matches.jsonl'):\n",
    "    \n",
    "   # processing each player\n",
    "    for i, player in enumerate(match['players']):\n",
    "        if len(match['players'][i]['actions']) < 5:\n",
    "            afk_players = afk_players.append(pd.DataFrame(data={'match_id_hash': match['match_id_hash'], 'afk': 1}, index=[i]))"
   ]
  },
  {
   "cell_type": "code",
   "execution_count": null,
   "metadata": {
    "pycharm": {
     "is_executing": false,
     "name": "#%%"
    }
   },
   "outputs": [],
   "source": [
    "afk_players = afk_players.groupby('match_id_hash').sum().reset_index()\n",
    "print(afk_players.info())\n",
    "afk_players.head()"
   ]
  },
  {
   "cell_type": "code",
   "execution_count": null,
   "metadata": {
    "pycharm": {
     "is_executing": false,
     "name": "#%%\n"
    }
   },
   "outputs": [],
   "source": []
  }
 ],
 "metadata": {
  "kernelspec": {
   "display_name": "Python 3",
   "language": "python",
   "name": "python3"
  },
  "language_info": {
   "codemirror_mode": {
    "name": "ipython",
    "version": 3
   },
   "file_extension": ".py",
   "mimetype": "text/x-python",
   "name": "python",
   "nbconvert_exporter": "python",
   "pygments_lexer": "ipython3",
   "version": "3.7.4"
  },
  "pycharm": {
   "stem_cell": {
    "cell_type": "raw",
    "metadata": {
     "collapsed": false
    },
    "source": []
   }
  }
 },
 "nbformat": 4,
 "nbformat_minor": 1
}
