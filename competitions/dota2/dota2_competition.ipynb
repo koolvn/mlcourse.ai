{
 "cells": [
  {
   "cell_type": "code",
   "execution_count": 1,
   "metadata": {
    "pycharm": {
     "is_executing": false
    }
   },
   "outputs": [],
   "source": [
    "import pandas as pd\n",
    "from sklearn.model_selection import train_test_split\n",
    "from sklearn.metrics import roc_auc_score"
   ]
  },
  {
   "cell_type": "markdown",
   "metadata": {
    "pycharm": {
     "is_executing": false,
     "name": "#%% md\n"
    }
   },
   "source": [
    "### Loading DATA"
   ]
  },
  {
   "cell_type": "code",
   "execution_count": 7,
   "metadata": {
    "pycharm": {
     "is_executing": false,
     "name": "#%%\n"
    }
   },
   "outputs": [
    {
     "data": {
      "text/plain": "['game_time',\n 'game_mode',\n 'lobby_type',\n 'objectives_len',\n 'chat_len',\n 'afk',\n 'r_kills',\n 'r_deaths',\n 'r_assists',\n 'r_denies',\n 'r_gold',\n 'r_lh',\n 'r_xp',\n 'r_health',\n 'r_max_health',\n 'r_max_mana',\n 'r_level',\n 'r_stuns',\n 'r_creeps_stacked',\n 'r_camps_stacked',\n 'r_rune_pickups',\n 'r_firstblood_claimed',\n 'r_teamfight_participation',\n 'r_towers_killed',\n 'r_roshans_killed',\n 'r_obs_placed',\n 'r_sen_placed',\n 'd_kills',\n 'd_deaths',\n 'd_assists',\n 'd_denies',\n 'd_gold',\n 'd_lh',\n 'd_xp',\n 'd_health',\n 'd_max_health',\n 'd_max_mana',\n 'd_level',\n 'd_stuns',\n 'd_creeps_stacked',\n 'd_camps_stacked',\n 'd_rune_pickups',\n 'd_firstblood_claimed',\n 'd_teamfight_participation',\n 'd_towers_killed',\n 'd_roshans_killed',\n 'd_obs_placed',\n 'd_sen_placed']"
     },
     "metadata": {},
     "output_type": "execute_result",
     "execution_count": 7
    }
   ],
   "source": [
    "# data_train = pd.read_csv('../data/train_features.csv', index_col='match_id_hash')\n",
    "\n",
    "# data_test = pd.read_csv('../data/test_features.csv', index_col='match_id_hash')\n",
    "\n",
    "# feature_afk = pd.read_csv('afk_feature.csv')\n",
    "\n",
    "# train_targets = pd.read_csv('../data/train_targets.csv', index_col='match_id_hash')\n",
    "\n",
    "data_train_engineered = pd.read_csv('data_train_engineered.csv', index_col='match_id_hash')\n",
    "list(data_train_engineered.columns)"
   ]
  },
  {
   "cell_type": "code",
   "execution_count": null,
   "outputs": [],
   "source": [
    "# Берём только те игры, которые уже идут больше 10 минут\n",
    "X = data_train_engineered[(data_train_engineered['game_time'] >= 600) & (data_train_engineered['game_time'] <= 3000)]\n",
    "y = data_train_engineered[(data_train_engineered['game_time'] >= 600) & (data_train_engineered['game_time'] <= 3000)]['radiant_win']\n",
    "\n",
    "X = X.drop(columns=['r_health', 'r_max_health', 'r_max_mana', 'r_stuns', 'r_creeps_stacked', 'r_camps_stacked', 'r_rune_pickups', \n",
    "                'r_firstblood_claimed', 'r_obs_placed', 'r_sen_placed',\n",
    "                'd_health', 'd_max_health', 'd_max_mana', 'd_stuns', 'd_creeps_stacked', 'd_camps_stacked', 'd_rune_pickups', \n",
    "                'd_firstblood_claimed', 'd_obs_placed', 'd_sen_placed'])\n",
    "\n",
    "\n",
    "X_test = pd.read_csv('data_test_engineered.csv', index_col='match_id_hash')\n",
    "X_test = X_test.drop(columns=['r_health', 'r_max_health', 'r_max_mana', 'r_stuns', 'r_creeps_stacked', 'r_camps_stacked', 'r_rune_pickups', \n",
    "                'r_firstblood_claimed', 'r_obs_placed', 'r_sen_placed',\n",
    "                'd_health', 'd_max_health', 'd_max_mana', 'd_stuns', 'd_creeps_stacked', 'd_camps_stacked', 'd_rune_pickups', \n",
    "                'd_firstblood_claimed', 'd_obs_placed', 'd_sen_placed'])"
   ],
   "metadata": {
    "collapsed": false,
    "pycharm": {
     "name": "#%%\n"
    }
   }
  },
  {
   "cell_type": "markdown",
   "metadata": {},
   "source": [
    "### Training the best model found"
   ]
  },
  {
   "cell_type": "code",
   "execution_count": 4,
   "metadata": {
    "pycharm": {
     "is_executing": false
    }
   },
   "outputs": [],
   "source": [
    "from sklearn.model_selection import GridSearchCV, StratifiedKFold\n",
    "from sklearn.linear_model import LogisticRegression\n",
    "\n",
    "def search_grid_logistreg_params(X_train, y_train, X_test, parameters : \"{'C': [C1, C2, ...], 'tol': [tolerance1, ...]}\"):\n",
    "    \"\"\" Returns an array of probabilities \"\"\"\n",
    "    best_scores = []\n",
    "    best_params = []\n",
    "    # rfc = RandomForestClassifier(n_estimators = 50, n_jobs=-1, random_state=22, oob_score=True, class_weight='balanced')\n",
    "    logistic_reg = LogisticRegression(solver='lbfgs', n_jobs=-1, random_state=22)\n",
    "    skf = StratifiedKFold(n_splits=5, shuffle=True, random_state=22)\n",
    "    # parameters = {'max_features': [5], 'min_samples_leaf': [10], 'max_depth': [37]}\n",
    "    # parameters = {'C': [C], 'tol': [tolerance]}\n",
    "    gsc = GridSearchCV(estimator=logistic_reg, cv=skf, param_grid=parameters, n_jobs=-1, scoring='roc_auc')\n",
    "    gsc.fit(X_train, y_train)\n",
    "    print(gsc.best_score_)\n",
    "    print(gsc.best_params_)\n",
    "    best_params.append(gsc.best_params_)\n",
    "    best_scores.append(gsc.best_score_)\n",
    "    \n",
    "    return gsc.predict_proba(X_test.values)"
   ]
  },
  {
   "cell_type": "code",
   "execution_count": 16,
   "metadata": {
    "pycharm": {
     "is_executing": false
    }
   },
   "outputs": [
    {
     "name": "stdout",
     "text": [
      "0.8553785960398015\n{'C': 1, 'max_iter': 1000, 'tol': 0.25}\n",
      "0.8553785960398015\n{'C': 1, 'max_iter': 1000, 'tol': 0.25}\n",
      "0.8553785960398015\n{'C': 1, 'max_iter': 1000, 'tol': 0.25}\nWall time: 24.1 s\n"
     ],
     "output_type": "stream"
    }
   ],
   "source": [
    "%%time\n",
    "# for i in range(3):\n",
    "#     i += 1\n",
    "params = {'C': [1], 'tol': [0.25, 0.1, 0.5], 'max_iter': [1000, 2350, 3000]}\n",
    "result = search_grid_logistreg_params(X, y, X_test, parameters=params)"
   ]
  },
  {
   "cell_type": "code",
   "execution_count": 10,
   "metadata": {
    "pycharm": {
     "is_executing": false
    }
   },
   "outputs": [
    {
     "data": {
      "text/plain": "array([[4.82854405e-01, 5.17145595e-01],\n       [9.99827287e-01, 1.72712814e-04],\n       [9.99996907e-01, 3.09264903e-06],\n       ...,\n       [9.82823878e-02, 9.01717612e-01],\n       [3.55161336e-03, 9.96448387e-01],\n       [2.59623434e-11, 1.00000000e+00]])"
     },
     "metadata": {},
     "output_type": "execute_result",
     "execution_count": 10
    }
   ],
   "source": [
    "result"
   ]
  },
  {
   "cell_type": "markdown",
   "metadata": {},
   "source": [
    "### Submission"
   ]
  },
  {
   "cell_type": "code",
   "execution_count": 11,
   "metadata": {
    "pycharm": {
     "is_executing": false
    }
   },
   "outputs": [
    {
     "name": "stdout",
     "text": [
      "Submission saved to submission_2019-09-05_23-00-46.csv\n"
     ],
     "output_type": "stream"
    }
   ],
   "source": [
    "import datetime\n",
    "\n",
    "df_submission = pd.DataFrame({'radiant_win_prob': result[:, 1]}, index=X_test.index)\n",
    "\n",
    "submission_filename = 'submission_{}.csv'.format(\n",
    "    datetime.datetime.now().strftime('%Y-%m-%d_%H-%M-%S'))\n",
    "\n",
    "df_submission.to_csv(submission_filename)\n",
    "\n",
    "print('Submission saved to {}'.format(submission_filename))"
   ]
  },
  {
   "cell_type": "markdown",
   "metadata": {},
   "source": [
    "### Features"
   ]
  },
  {
   "cell_type": "code",
   "execution_count": null,
   "metadata": {
    "pycharm": {
     "name": "#%%\n"
    }
   },
   "outputs": [],
   "source": [
    "# afk_features\n",
    "data_train = data_train.join(feature_afk.set_index('match_id_hash'))\n",
    "print(data_train.shape)\n",
    "\n",
    "data_train['afk'] = data_train['afk'].fillna('0')\n",
    "\n",
    "data_train.info()\n",
    "data_train.head(3)\n",
    "# [print(n) for n in list(train_targets.isna().sum()) if n != 0]  # Проверка на пропущенные данные\n"
   ]
  },
  {
   "cell_type": "markdown",
   "metadata": {},
   "source": [
    " ### Team stats "
   ]
  },
  {
   "cell_type": "code",
   "execution_count": null,
   "metadata": {
    "pycharm": {
     "is_executing": false,
     "name": "#%%\n"
    }
   },
   "outputs": [],
   "source": [
    "# data_train = pd.read_csv('../data/test_features.csv')\n",
    "import re\n",
    "\n",
    "for col in list(data_train.columns):\n",
    "    r_regexp = re.compile(r'r[0-9]_(.*)').findall(col)\n",
    "    d_regexp = re.compile(r'd[0-9]_(.*)').findall(col)\n",
    "\n",
    "    if len(r_regexp) > 0:\n",
    "        data_train['r_' + r_regexp[0]] = 0\n",
    "    if len(d_regexp) > 0:\n",
    "        data_train['d_' + d_regexp[0]] = 0  \n",
    "\n",
    "for col in list(data_train.columns):\n",
    "    r_regexp = re.compile(r'r[0-9]_(.*)').findall(col)\n",
    "    d_regexp = re.compile(r'd[0-9]_(.*)').findall(col)\n",
    "\n",
    "    if len(r_regexp) > 0:\n",
    "        data_train['r_' + r_regexp[0]] = data_train['r_' + r_regexp[0]] + data_train[re.compile(r'r[0-9]_.*').findall(col)[0]]\n",
    "        data_train.drop(columns=[re.compile(r'r[0-9]_.*').findall(col)[0]], inplace=True)\n",
    "        \n",
    "    if len(d_regexp) > 0:\n",
    "        data_train['d_' + d_regexp[0]] = data_train['d_' + d_regexp[0]] + data_train[re.compile(r'd[0-9]_.*').findall(col)[0]]\n",
    "        data_train.drop(columns=[re.compile(r'd[0-9]_.*').findall(col)[0]], inplace=True)\n",
    "\n",
    "data_train.drop(columns=['r_hero_id', 'd_hero_id', 'r_x', 'r_y', 'd_x', 'd_y'], inplace=True)"
   ]
  },
  {
   "cell_type": "code",
   "execution_count": null,
   "metadata": {
    "pycharm": {
     "is_executing": false,
     "name": "#%%\n"
    }
   },
   "outputs": [],
   "source": [
    "# Проверяем, есть ли NA\n",
    "[print(n) for n in list(data_train.isna().sum()) if n != 0]"
   ]
  },
  {
   "cell_type": "code",
   "execution_count": null,
   "metadata": {
    "pycharm": {
     "is_executing": false,
     "name": "#%%\n"
    }
   },
   "outputs": [],
   "source": [
    "data_train.to_csv('data_test_engineered.csv')\n"
   ]
  },
  {
   "cell_type": "code",
   "execution_count": null,
   "metadata": {
    "pycharm": {
     "is_executing": false,
     "name": "#%%\n"
    }
   },
   "outputs": [],
   "source": [
    "len(list(data_train.columns))"
   ]
  },
  {
   "cell_type": "markdown",
   "metadata": {
    "pycharm": {
     "is_executing": false,
     "name": "#%% md\n"
    }
   },
   "source": [
    "## Features Engineering from raw data"
   ]
  },
  {
   "cell_type": "code",
   "execution_count": null,
   "metadata": {
    "pycharm": {
     "is_executing": false,
     "name": "#%%\n"
    }
   },
   "outputs": [],
   "source": [
    "import json\n",
    "matches = []\n",
    "with open('../data/train_matches.jsonl') as fin:\n",
    "    # read the 18-th line\n",
    "    for i in range(500):\n",
    "        line = fin.readline()\n",
    "        matches.append(json.loads(line))\n",
    "    # read JSON into a Python object \n",
    "    "
   ]
  },
  {
   "cell_type": "code",
   "execution_count": null,
   "metadata": {
    "pycharm": {
     "is_executing": false,
     "name": "#%%\n"
    }
   },
   "outputs": [],
   "source": [
    "matches[0]['players'][i]['hero_inventory']"
   ]
  },
  {
   "cell_type": "code",
   "execution_count": null,
   "metadata": {
    "pycharm": {
     "is_executing": false,
     "name": "#%%\n"
    }
   },
   "outputs": [],
   "source": [
    "afk_players = pd.DataFrame()\n",
    "for match in matches:\n",
    "    for i, game in enumerate(match):\n",
    "        if len(match['players'][i]['actions']) < 3:\n",
    "            afk_players = afk_players.append(pd.DataFrame(data={'match_id_hash': match['match_id_hash'], 'afk': 1}, index=[i]))\n",
    "        # else:\n",
    "        #     afk_players = afk_players.append(pd.DataFrame(data={'afk_true': 0}, index=[match['match_id_hash']]))\n",
    "            # print(f\"player_slot {match['players'][i]['player_slot']} in match {match['match_id_hash']} was AFK\")\n",
    "afk_players"
   ]
  },
  {
   "cell_type": "code",
   "execution_count": null,
   "metadata": {
    "pycharm": {
     "is_executing": false,
     "name": "#%%\n"
    }
   },
   "outputs": [],
   "source": [
    "afk_players = afk_players.groupby('match_id_hash').sum()\n",
    "afk_players"
   ]
  },
  {
   "cell_type": "code",
   "execution_count": null,
   "metadata": {
    "pycharm": {
     "is_executing": false,
     "name": "#%%\n"
    }
   },
   "outputs": [],
   "source": [
    "%time\n",
    "import os\n",
    "\n",
    "try:\n",
    "    import ujson as json\n",
    "except ModuleNotFoundError:\n",
    "    import json\n",
    "    print ('Please install ujson to read JSON oblects faster')\n",
    "    \n",
    "try:\n",
    "    from tqdm import tqdm_notebook\n",
    "except ModuleNotFoundError:\n",
    "    tqdm_notebook = lambda x: x\n",
    "    print ('Please install tqdm to track progress with Python loops')\n",
    "\n",
    "def read_matches(matches_file):\n",
    "    \n",
    "    MATCHES_COUNT = {\n",
    "        'test_matches.jsonl': 10000,\n",
    "        'train_matches.jsonl': 39675,\n",
    "    }\n",
    "    _, filename = os.path.split(matches_file)\n",
    "    total_matches = MATCHES_COUNT.get(filename)\n",
    "    \n",
    "    with open(matches_file) as fin:\n",
    "        for line in tqdm_notebook(fin, total=total_matches):\n",
    "            yield json.loads(line)\n",
    "            \n",
    "afk_players = pd.DataFrame()   \n",
    "# processing each game\n",
    "for match in read_matches('../data/train_matches.jsonl'):\n",
    "    \n",
    "   # processing each player\n",
    "    for i, player in enumerate(match['players']):\n",
    "        if len(match['players'][i]['actions']) < 5:\n",
    "            afk_players = afk_players.append(pd.DataFrame(data={'match_id_hash': match['match_id_hash'], 'afk': 1}, index=[i]))"
   ]
  },
  {
   "cell_type": "code",
   "execution_count": null,
   "metadata": {
    "pycharm": {
     "is_executing": false,
     "name": "#%%"
    }
   },
   "outputs": [],
   "source": [
    "afk_players = afk_players.groupby('match_id_hash').sum().reset_index()\n",
    "print(afk_players.info())\n",
    "afk_players.head()"
   ]
  },
  {
   "cell_type": "code",
   "execution_count": null,
   "metadata": {
    "pycharm": {
     "is_executing": false,
     "name": "#%%\n"
    }
   },
   "outputs": [],
   "source": [
    "afk_players.set_index('match_id_hash').to_csv('afk_feature.csv')"
   ]
  },
  {
   "cell_type": "markdown",
   "metadata": {},
   "source": [
    "## Teaching models"
   ]
  },
  {
   "cell_type": "code",
   "execution_count": 26,
   "metadata": {
    "pycharm": {
     "is_executing": false,
     "name": "#%%\n"
    }
   },
   "outputs": [],
   "source": [
    "train_targets = pd.read_csv('../data/train_targets.csv', index_col='match_id_hash')\n",
    "data_train_engineered = pd.read_csv('data_train_engineered.csv', index_col='match_id_hash')\n",
    "\n",
    "# Берём только те игры, которые уже идут больше 10 минут\n",
    "X = data_train_engineered[data_train_engineered['game_time'] >= 600]\n",
    "y = train_targets[train_targets['game_time'] >= 600]['radiant_win']\n",
    "X = X.drop(columns=['game_mode', 'lobby_type', 'objectives_len', 'chat_len'])"
   ]
  },
  {
   "cell_type": "code",
   "execution_count": 27,
   "outputs": [],
   "source": [
    "X_train, X_test, y_train, y_test = train_test_split(X, y, random_state=22)"
   ],
   "metadata": {
    "collapsed": false,
    "pycharm": {
     "name": "#%%\n",
     "is_executing": false
    }
   }
  },
  {
   "cell_type": "code",
   "execution_count": 28,
   "metadata": {
    "pycharm": {
     "is_executing": false,
     "name": "#%%\n"
    }
   },
   "outputs": [],
   "source": [
    "# scaler = StandardScaler()\n",
    "# \n",
    "# X_train_norm = scaler.fit_transform(X_train)\n",
    "y_train = y_train.replace({False: 0, True: 1})"
   ]
  },
  {
   "cell_type": "code",
   "execution_count": 29,
   "outputs": [
    {
     "data": {
      "text/plain": "                                  game_time  afk  r_kills  r_deaths  \\\nmatch_id_hash                                                         \n7790c750fae2f11d611f099120c30213       1835  0.0       33        23   \nfe4364b28448c357d8be41c1867f4201       1940  0.0       27        22   \n1a78c253e1f52d6fb4b5730171dafdc5       1847  0.0       27        31   \n7078754061efd6fe6298749eec31f771       2308  0.0       30        27   \na142bc0a8f970aefebbcbb2a0aa0b553       1124  0.0       21        17   \n...                                     ...  ...      ...       ...   \na8354f5f5e6286a445416a3122bd304f        878  0.0        7         7   \n65e67ee292fa5ac3d72b26d2d5e00b20       1464  0.0       16        42   \n020f371c667dbd7182845120857b7326       2540  0.0       30        47   \n552a01d3a8783be1f3cb87e9315b0a9c       2977  0.0       36        38   \nfcbf19cbe404646796da6d7147a96997        642  0.0        9        12   \n\n                                  r_assists  r_denies  r_gold  r_lh    r_xp  \\\nmatch_id_hash                                                                 \n7790c750fae2f11d611f099120c30213         59        48   56587   490   61014   \nfe4364b28448c357d8be41c1867f4201         37        19   61952   472   71862   \n1a78c253e1f52d6fb4b5730171dafdc5         40        47   58640   587   69087   \n7078754061efd6fe6298749eec31f771         61        36   84853   840   91458   \na142bc0a8f970aefebbcbb2a0aa0b553         29        29   32098   254   35378   \n...                                     ...       ...     ...   ...     ...   \na8354f5f5e6286a445416a3122bd304f          8        31   20387   219   21697   \n65e67ee292fa5ac3d72b26d2d5e00b20         32        53   44123   403   46366   \n020f371c667dbd7182845120857b7326         49        58   84744   852  110953   \n552a01d3a8783be1f3cb87e9315b0a9c         59        37  119069  1102  113302   \nfcbf19cbe404646796da6d7147a96997          9        24   18494   224   20871   \n\n                                  r_health  ...     d_stuns  d_creeps_stacked  \\\nmatch_id_hash                               ...                                 \n7790c750fae2f11d611f099120c30213      6495  ...   79.516773                 9   \nfe4364b28448c357d8be41c1867f4201      9573  ...   41.329959                 3   \n1a78c253e1f52d6fb4b5730171dafdc5      1400  ...   81.889206                 0   \n7078754061efd6fe6298749eec31f771      5374  ...  171.128818                 4   \na142bc0a8f970aefebbcbb2a0aa0b553      5777  ...   83.279341                 3   \n...                                    ...  ...         ...               ...   \na8354f5f5e6286a445416a3122bd304f      2639  ...   15.829595                 0   \n65e67ee292fa5ac3d72b26d2d5e00b20      2890  ...   85.212512                 3   \n020f371c667dbd7182845120857b7326      7029  ...  160.083404                 0   \n552a01d3a8783be1f3cb87e9315b0a9c      9071  ...  152.534522                 2   \nfcbf19cbe404646796da6d7147a96997      2969  ...   36.991879                 0   \n\n                                  d_camps_stacked  d_rune_pickups  \\\nmatch_id_hash                                                       \n7790c750fae2f11d611f099120c30213                2              40   \nfe4364b28448c357d8be41c1867f4201                2              29   \n1a78c253e1f52d6fb4b5730171dafdc5                0              49   \n7078754061efd6fe6298749eec31f771                3              40   \na142bc0a8f970aefebbcbb2a0aa0b553                2              25   \n...                                           ...             ...   \na8354f5f5e6286a445416a3122bd304f                0              20   \n65e67ee292fa5ac3d72b26d2d5e00b20                1              29   \n020f371c667dbd7182845120857b7326                0              42   \n552a01d3a8783be1f3cb87e9315b0a9c                1              62   \nfcbf19cbe404646796da6d7147a96997                0              13   \n\n                                  d_firstblood_claimed  \\\nmatch_id_hash                                            \n7790c750fae2f11d611f099120c30213                     0   \nfe4364b28448c357d8be41c1867f4201                     0   \n1a78c253e1f52d6fb4b5730171dafdc5                     1   \n7078754061efd6fe6298749eec31f771                     0   \na142bc0a8f970aefebbcbb2a0aa0b553                     0   \n...                                                ...   \na8354f5f5e6286a445416a3122bd304f                     0   \n65e67ee292fa5ac3d72b26d2d5e00b20                     1   \n020f371c667dbd7182845120857b7326                     1   \n552a01d3a8783be1f3cb87e9315b0a9c                     0   \nfcbf19cbe404646796da6d7147a96997                     1   \n\n                                  d_teamfight_participation  d_towers_killed  \\\nmatch_id_hash                                                                  \n7790c750fae2f11d611f099120c30213                   2.521739                1   \nfe4364b28448c357d8be41c1867f4201                   3.454545                4   \n1a78c253e1f52d6fb4b5730171dafdc5                   2.741935                6   \n7078754061efd6fe6298749eec31f771                   3.000000                4   \na142bc0a8f970aefebbcbb2a0aa0b553                   2.235294                1   \n...                                                     ...              ...   \na8354f5f5e6286a445416a3122bd304f                   2.571429                1   \n65e67ee292fa5ac3d72b26d2d5e00b20                   2.500000                5   \n020f371c667dbd7182845120857b7326                   2.638298                4   \n552a01d3a8783be1f3cb87e9315b0a9c                   2.710526                3   \nfcbf19cbe404646796da6d7147a96997                   2.666667                0   \n\n                                  d_roshans_killed  d_obs_placed  d_sen_placed  \nmatch_id_hash                                                                   \n7790c750fae2f11d611f099120c30213                 0            10             5  \nfe4364b28448c357d8be41c1867f4201                 0            13             0  \n1a78c253e1f52d6fb4b5730171dafdc5                 0            13             4  \n7078754061efd6fe6298749eec31f771                 1            17            27  \na142bc0a8f970aefebbcbb2a0aa0b553                 0             8             2  \n...                                            ...           ...           ...  \na8354f5f5e6286a445416a3122bd304f                 0             5             0  \n65e67ee292fa5ac3d72b26d2d5e00b20                 0             9             4  \n020f371c667dbd7182845120857b7326                 1            17            11  \n552a01d3a8783be1f3cb87e9315b0a9c                 0            18             9  \nfcbf19cbe404646796da6d7147a96997                 0             1             0  \n\n[21234 rows x 44 columns]",
      "text/html": "<div>\n<style scoped>\n    .dataframe tbody tr th:only-of-type {\n        vertical-align: middle;\n    }\n\n    .dataframe tbody tr th {\n        vertical-align: top;\n    }\n\n    .dataframe thead th {\n        text-align: right;\n    }\n</style>\n<table border=\"1\" class=\"dataframe\">\n  <thead>\n    <tr style=\"text-align: right;\">\n      <th></th>\n      <th>game_time</th>\n      <th>afk</th>\n      <th>r_kills</th>\n      <th>r_deaths</th>\n      <th>r_assists</th>\n      <th>r_denies</th>\n      <th>r_gold</th>\n      <th>r_lh</th>\n      <th>r_xp</th>\n      <th>r_health</th>\n      <th>...</th>\n      <th>d_stuns</th>\n      <th>d_creeps_stacked</th>\n      <th>d_camps_stacked</th>\n      <th>d_rune_pickups</th>\n      <th>d_firstblood_claimed</th>\n      <th>d_teamfight_participation</th>\n      <th>d_towers_killed</th>\n      <th>d_roshans_killed</th>\n      <th>d_obs_placed</th>\n      <th>d_sen_placed</th>\n    </tr>\n    <tr>\n      <th>match_id_hash</th>\n      <th></th>\n      <th></th>\n      <th></th>\n      <th></th>\n      <th></th>\n      <th></th>\n      <th></th>\n      <th></th>\n      <th></th>\n      <th></th>\n      <th></th>\n      <th></th>\n      <th></th>\n      <th></th>\n      <th></th>\n      <th></th>\n      <th></th>\n      <th></th>\n      <th></th>\n      <th></th>\n      <th></th>\n    </tr>\n  </thead>\n  <tbody>\n    <tr>\n      <td>7790c750fae2f11d611f099120c30213</td>\n      <td>1835</td>\n      <td>0.0</td>\n      <td>33</td>\n      <td>23</td>\n      <td>59</td>\n      <td>48</td>\n      <td>56587</td>\n      <td>490</td>\n      <td>61014</td>\n      <td>6495</td>\n      <td>...</td>\n      <td>79.516773</td>\n      <td>9</td>\n      <td>2</td>\n      <td>40</td>\n      <td>0</td>\n      <td>2.521739</td>\n      <td>1</td>\n      <td>0</td>\n      <td>10</td>\n      <td>5</td>\n    </tr>\n    <tr>\n      <td>fe4364b28448c357d8be41c1867f4201</td>\n      <td>1940</td>\n      <td>0.0</td>\n      <td>27</td>\n      <td>22</td>\n      <td>37</td>\n      <td>19</td>\n      <td>61952</td>\n      <td>472</td>\n      <td>71862</td>\n      <td>9573</td>\n      <td>...</td>\n      <td>41.329959</td>\n      <td>3</td>\n      <td>2</td>\n      <td>29</td>\n      <td>0</td>\n      <td>3.454545</td>\n      <td>4</td>\n      <td>0</td>\n      <td>13</td>\n      <td>0</td>\n    </tr>\n    <tr>\n      <td>1a78c253e1f52d6fb4b5730171dafdc5</td>\n      <td>1847</td>\n      <td>0.0</td>\n      <td>27</td>\n      <td>31</td>\n      <td>40</td>\n      <td>47</td>\n      <td>58640</td>\n      <td>587</td>\n      <td>69087</td>\n      <td>1400</td>\n      <td>...</td>\n      <td>81.889206</td>\n      <td>0</td>\n      <td>0</td>\n      <td>49</td>\n      <td>1</td>\n      <td>2.741935</td>\n      <td>6</td>\n      <td>0</td>\n      <td>13</td>\n      <td>4</td>\n    </tr>\n    <tr>\n      <td>7078754061efd6fe6298749eec31f771</td>\n      <td>2308</td>\n      <td>0.0</td>\n      <td>30</td>\n      <td>27</td>\n      <td>61</td>\n      <td>36</td>\n      <td>84853</td>\n      <td>840</td>\n      <td>91458</td>\n      <td>5374</td>\n      <td>...</td>\n      <td>171.128818</td>\n      <td>4</td>\n      <td>3</td>\n      <td>40</td>\n      <td>0</td>\n      <td>3.000000</td>\n      <td>4</td>\n      <td>1</td>\n      <td>17</td>\n      <td>27</td>\n    </tr>\n    <tr>\n      <td>a142bc0a8f970aefebbcbb2a0aa0b553</td>\n      <td>1124</td>\n      <td>0.0</td>\n      <td>21</td>\n      <td>17</td>\n      <td>29</td>\n      <td>29</td>\n      <td>32098</td>\n      <td>254</td>\n      <td>35378</td>\n      <td>5777</td>\n      <td>...</td>\n      <td>83.279341</td>\n      <td>3</td>\n      <td>2</td>\n      <td>25</td>\n      <td>0</td>\n      <td>2.235294</td>\n      <td>1</td>\n      <td>0</td>\n      <td>8</td>\n      <td>2</td>\n    </tr>\n    <tr>\n      <td>...</td>\n      <td>...</td>\n      <td>...</td>\n      <td>...</td>\n      <td>...</td>\n      <td>...</td>\n      <td>...</td>\n      <td>...</td>\n      <td>...</td>\n      <td>...</td>\n      <td>...</td>\n      <td>...</td>\n      <td>...</td>\n      <td>...</td>\n      <td>...</td>\n      <td>...</td>\n      <td>...</td>\n      <td>...</td>\n      <td>...</td>\n      <td>...</td>\n      <td>...</td>\n      <td>...</td>\n    </tr>\n    <tr>\n      <td>a8354f5f5e6286a445416a3122bd304f</td>\n      <td>878</td>\n      <td>0.0</td>\n      <td>7</td>\n      <td>7</td>\n      <td>8</td>\n      <td>31</td>\n      <td>20387</td>\n      <td>219</td>\n      <td>21697</td>\n      <td>2639</td>\n      <td>...</td>\n      <td>15.829595</td>\n      <td>0</td>\n      <td>0</td>\n      <td>20</td>\n      <td>0</td>\n      <td>2.571429</td>\n      <td>1</td>\n      <td>0</td>\n      <td>5</td>\n      <td>0</td>\n    </tr>\n    <tr>\n      <td>65e67ee292fa5ac3d72b26d2d5e00b20</td>\n      <td>1464</td>\n      <td>0.0</td>\n      <td>16</td>\n      <td>42</td>\n      <td>32</td>\n      <td>53</td>\n      <td>44123</td>\n      <td>403</td>\n      <td>46366</td>\n      <td>2890</td>\n      <td>...</td>\n      <td>85.212512</td>\n      <td>3</td>\n      <td>1</td>\n      <td>29</td>\n      <td>1</td>\n      <td>2.500000</td>\n      <td>5</td>\n      <td>0</td>\n      <td>9</td>\n      <td>4</td>\n    </tr>\n    <tr>\n      <td>020f371c667dbd7182845120857b7326</td>\n      <td>2540</td>\n      <td>0.0</td>\n      <td>30</td>\n      <td>47</td>\n      <td>49</td>\n      <td>58</td>\n      <td>84744</td>\n      <td>852</td>\n      <td>110953</td>\n      <td>7029</td>\n      <td>...</td>\n      <td>160.083404</td>\n      <td>0</td>\n      <td>0</td>\n      <td>42</td>\n      <td>1</td>\n      <td>2.638298</td>\n      <td>4</td>\n      <td>1</td>\n      <td>17</td>\n      <td>11</td>\n    </tr>\n    <tr>\n      <td>552a01d3a8783be1f3cb87e9315b0a9c</td>\n      <td>2977</td>\n      <td>0.0</td>\n      <td>36</td>\n      <td>38</td>\n      <td>59</td>\n      <td>37</td>\n      <td>119069</td>\n      <td>1102</td>\n      <td>113302</td>\n      <td>9071</td>\n      <td>...</td>\n      <td>152.534522</td>\n      <td>2</td>\n      <td>1</td>\n      <td>62</td>\n      <td>0</td>\n      <td>2.710526</td>\n      <td>3</td>\n      <td>0</td>\n      <td>18</td>\n      <td>9</td>\n    </tr>\n    <tr>\n      <td>fcbf19cbe404646796da6d7147a96997</td>\n      <td>642</td>\n      <td>0.0</td>\n      <td>9</td>\n      <td>12</td>\n      <td>9</td>\n      <td>24</td>\n      <td>18494</td>\n      <td>224</td>\n      <td>20871</td>\n      <td>2969</td>\n      <td>...</td>\n      <td>36.991879</td>\n      <td>0</td>\n      <td>0</td>\n      <td>13</td>\n      <td>1</td>\n      <td>2.666667</td>\n      <td>0</td>\n      <td>0</td>\n      <td>1</td>\n      <td>0</td>\n    </tr>\n  </tbody>\n</table>\n<p>21234 rows × 44 columns</p>\n</div>"
     },
     "metadata": {},
     "output_type": "execute_result",
     "execution_count": 29
    }
   ],
   "source": [
    "X_train"
   ],
   "metadata": {
    "collapsed": false,
    "pycharm": {
     "name": "#%%\n",
     "is_executing": false
    }
   }
  },
  {
   "cell_type": "code",
   "execution_count": 30,
   "metadata": {
    "pycharm": {
     "is_executing": false,
     "name": "#%%\n"
    }
   },
   "outputs": [
    {
     "name": "stdout",
     "text": [
      "Wall time: 29.6 s\n"
     ],
     "output_type": "stream"
    },
    {
     "data": {
      "text/plain": "0.7538953742703396"
     },
     "metadata": {},
     "output_type": "execute_result",
     "execution_count": 30
    }
   ],
   "source": [
    "%%time\n",
    "from sklearn.ensemble import RandomForestClassifier\n",
    "rfc = RandomForestClassifier(random_state=22, n_estimators=500)\n",
    "rfc.fit(X=X_train, y=y_train)\n",
    "y_pred = rfc.predict(X_test)\n",
    "roc_auc_score(y_true=y_test, y_score=y_pred)\n"
   ]
  },
  {
   "cell_type": "code",
   "execution_count": 31,
   "metadata": {
    "pycharm": {
     "is_executing": false,
     "name": "#%%\n"
    }
   },
   "outputs": [
    {
     "name": "stdout",
     "text": [
      "Wall time: 1.64 s\n"
     ],
     "output_type": "stream"
    },
    {
     "data": {
      "text/plain": "0.7338275130716275"
     },
     "metadata": {},
     "output_type": "execute_result",
     "execution_count": 31
    }
   ],
   "source": [
    "%%time\n",
    "from sklearn.neighbors import KNeighborsClassifier\n",
    "knc = KNeighborsClassifier()\n",
    "knc.fit(X_train, y_train)\n",
    "# knc.predict_proba(X_test)\n",
    "roc_auc_score(y_test, knc.predict(X_test))"
   ]
  },
  {
   "cell_type": "code",
   "execution_count": 32,
   "metadata": {
    "pycharm": {
     "is_executing": false,
     "name": "#%%\n"
    }
   },
   "outputs": [
    {
     "name": "stdout",
     "text": [
      "Wall time: 671 ms\n"
     ],
     "output_type": "stream"
    },
    {
     "data": {
      "text/plain": "0.7401674917814942"
     },
     "metadata": {},
     "output_type": "execute_result",
     "execution_count": 32
    }
   ],
   "source": [
    "%%time\n",
    "from sklearn.discriminant_analysis import QuadraticDiscriminantAnalysis\n",
    "qda = QuadraticDiscriminantAnalysis()\n",
    "qda.fit(X_train, y_train)\n",
    "roc_auc_score(y_test, qda.predict(X_test))"
   ]
  },
  {
   "cell_type": "code",
   "execution_count": 35,
   "metadata": {
    "pycharm": {
     "is_executing": false,
     "name": "#%%\n"
    }
   },
   "outputs": [
    {
     "name": "stdout",
     "text": [
      "Wall time: 4.28 s\n"
     ],
     "output_type": "stream"
    },
    {
     "data": {
      "text/plain": "0.7659721459562083"
     },
     "metadata": {},
     "output_type": "execute_result",
     "execution_count": 35
    }
   ],
   "source": [
    "%%time\n",
    "from sklearn.linear_model import LogisticRegression\n",
    "lr = LogisticRegression(random_state=22, solver='lbfgs', max_iter=2000, C=1, tol=0.25)\n",
    "lr.fit(X_train, y_train)\n",
    "roc_auc_score(y_test, lr.predict(X_test))"
   ]
  },
  {
   "cell_type": "markdown",
   "metadata": {},
   "source": [
    "# Logistic Regression\n",
    "params:\n",
    "{class_weight='balanced', random_state=22, solver='lbfgs', max_iter=1500, n_jobs=-1, {'C': 0.75, 'tol': 0.25}}"
   ]
  },
  {
   "cell_type": "code",
   "execution_count": 34,
   "metadata": {
    "pycharm": {
     "name": "#%%\n",
     "is_executing": false
    }
   },
   "outputs": [
    {
     "data": {
      "text/plain": "0.7675908946029456"
     },
     "metadata": {},
     "output_type": "execute_result",
     "execution_count": 34
    }
   ],
   "source": [
    "from sklearn.linear_model import LogisticRegression\n",
    "lr = LogisticRegression(class_weight='balanced', random_state=22, solver='lbfgs', max_iter=1500, n_jobs=-1, C=1, tol=0.25)\n",
    "lr.fit(X_train, y_train)\n",
    "roc_auc_score(y_test, lr.predict(X_test))"
   ]
  },
  {
   "cell_type": "code",
   "execution_count": null,
   "metadata": {
    "pycharm": {
     "name": "#%%\n"
    }
   },
   "outputs": [],
   "source": [
    "# pd.DataFrame(rfc.feature_importances_, X_train.columns.values, columns = ['Coef']).sort_values(by='Coef', ascending=False)\n",
    "# X_train"
   ]
  },
  {
   "cell_type": "code",
   "execution_count": null,
   "metadata": {
    "pycharm": {
     "name": "#%%\n"
    }
   },
   "outputs": [],
   "source": [
    "data_train_engineered[['game_time']]"
   ]
  },
  {
   "cell_type": "markdown",
   "metadata": {
    "pycharm": {
     "name": "#%% md\n"
    }
   },
   "source": [
    "### Grid Search"
   ]
  },
  {
   "cell_type": "code",
   "execution_count": null,
   "metadata": {
    "pycharm": {
     "is_executing": true,
     "name": "#%%\n"
    }
   },
   "outputs": [],
   "source": [
    "from sklearn.model_selection import GridSearchCV, StratifiedKFold\n",
    "from sklearn.linear_model import LogisticRegression\n",
    "\n",
    "def search_grid_logistreg_params(X_train, y_train, X_test, parameters : \"{'C': [C1, C2, ...], 'tol': [tolerance1, ...]}\"):\n",
    "    \"\"\" Returns an array of probabilities \"\"\"\n",
    "    best_scores = []\n",
    "    best_params = []\n",
    "    # rfc = RandomForestClassifier(n_estimators = 50, n_jobs=-1, random_state=22, oob_score=True, class_weight='balanced')\n",
    "    logistic_reg = LogisticRegression(class_weight='balanced', solver='lbfgs', max_iter=1500, n_jobs=-1, warm_start=True)\n",
    "    skf = StratifiedKFold(n_splits=5, shuffle=True)\n",
    "    # parameters = {'max_features': [5], 'min_samples_leaf': [10], 'max_depth': [37]}\n",
    "    # parameters = {'C': [C], 'tol': [tolerance]}\n",
    "    gsc = GridSearchCV(estimator=logistic_reg, cv=skf, param_grid=parameters, n_jobs=-1, scoring='roc_auc')\n",
    "    gsc.fit(X_train, y_train)\n",
    "    print(gsc.best_score_)\n",
    "    print(gsc.best_params_)\n",
    "    best_params.append(gsc.best_params_)\n",
    "    best_scores.append(gsc.best_score_)\n",
    "    \n",
    "    return gsc.predict_proba(X_test)        #, logistic_reg.coef_\n"
   ]
  },
  {
   "cell_type": "code",
   "execution_count": null,
   "metadata": {
    "pycharm": {
     "is_executing": true,
     "name": "#%%\n"
    }
   },
   "outputs": [],
   "source": [
    "# X = pd.read_csv('data_train_engineered.csv', index_col='match_id_hash')\n",
    "# y = pd.read_csv('../data/train_targets.csv', index_col='match_id_hash')\n",
    "X_test = pd.read_csv('data_test_engineered.csv', index_col='match_id_hash')"
   ]
  },
  {
   "cell_type": "code",
   "execution_count": 4,
   "metadata": {},
   "outputs": [
    {
     "data": {
      "text/plain": [
       "match_id_hash\n",
       "a400b8f29dece5f4d266f49f1ae2e98a    0\n",
       "b9c57c450ce74a2af79c9ce96fac144d    1\n",
       "6db558535151ea18ca70a6892197db41    1\n",
       "46a0ddce8f7ed2a8d9bd5edcbb925682    1\n",
       "b1b35ff97723d9b7ade1c9c3cf48f770    0\n",
       "                                   ..\n",
       "defd0caeed6ea83d7d5fbdec013fe7d1    0\n",
       "bc7a87ed5f9c2bca55f9f7a93da0b0c5    1\n",
       "e2ca68ac1a6847f4a37f6c9c8ee8695b    0\n",
       "47ad6454ede66c1c78fdaa9391dfc556    1\n",
       "9928dfde50efcbdb2055da23dcdbc101    1\n",
       "Name: radiant_win, Length: 39675, dtype: int64"
      ]
     },
     "execution_count": 4,
     "metadata": {},
     "output_type": "execute_result"
    }
   ],
   "source": [
    "y = y['radiant_win'].map({True: 1, False: 0})\n",
    "y"
   ]
  },
  {
   "cell_type": "code",
   "execution_count": 11,
   "metadata": {
    "pycharm": {
     "is_executing": false,
     "name": "#%%\n"
    }
   },
   "outputs": [
    {
     "name": "stdout",
     "output_type": "stream",
     "text": [
      "0.8110833787000072\n",
      "{'C': 0.75, 'tol': 0.25}\n"
     ]
    },
    {
     "ename": "ValueError",
     "evalue": "X has 48 features per sample; expecting 245",
     "output_type": "error",
     "traceback": [
      "\u001b[1;31m---------------------------------------------------------------------------\u001b[0m",
      "\u001b[1;31mValueError\u001b[0m                                Traceback (most recent call last)",
      "\u001b[1;32m<timed exec>\u001b[0m in \u001b[0;36m<module>\u001b[1;34m\u001b[0m\n",
      "\u001b[1;32m<ipython-input-2-d0ce28cd0f5d>\u001b[0m in \u001b[0;36msearch_grid_logistreg_params\u001b[1;34m(X_train, y_train, X_test, parameters)\u001b[0m\n\u001b[0;32m     18\u001b[0m     \u001b[0mbest_scores\u001b[0m\u001b[1;33m.\u001b[0m\u001b[0mappend\u001b[0m\u001b[1;33m(\u001b[0m\u001b[0mgsc\u001b[0m\u001b[1;33m.\u001b[0m\u001b[0mbest_score_\u001b[0m\u001b[1;33m)\u001b[0m\u001b[1;33m\u001b[0m\u001b[1;33m\u001b[0m\u001b[0m\n\u001b[0;32m     19\u001b[0m \u001b[1;33m\u001b[0m\u001b[0m\n\u001b[1;32m---> 20\u001b[1;33m     \u001b[1;32mreturn\u001b[0m \u001b[0mgsc\u001b[0m\u001b[1;33m.\u001b[0m\u001b[0mpredict_proba\u001b[0m\u001b[1;33m(\u001b[0m\u001b[0mX_test\u001b[0m\u001b[1;33m)\u001b[0m        \u001b[1;31m#, logistic_reg.coef_\u001b[0m\u001b[1;33m\u001b[0m\u001b[1;33m\u001b[0m\u001b[0m\n\u001b[0m",
      "\u001b[1;32mE:\\Anaconda3\\lib\\site-packages\\sklearn\\utils\\metaestimators.py\u001b[0m in \u001b[0;36m<lambda>\u001b[1;34m(*args, **kwargs)\u001b[0m\n\u001b[0;32m    114\u001b[0m \u001b[1;33m\u001b[0m\u001b[0m\n\u001b[0;32m    115\u001b[0m         \u001b[1;31m# lambda, but not partial, allows help() to work with update_wrapper\u001b[0m\u001b[1;33m\u001b[0m\u001b[1;33m\u001b[0m\u001b[1;33m\u001b[0m\u001b[0m\n\u001b[1;32m--> 116\u001b[1;33m         \u001b[0mout\u001b[0m \u001b[1;33m=\u001b[0m \u001b[1;32mlambda\u001b[0m \u001b[1;33m*\u001b[0m\u001b[0margs\u001b[0m\u001b[1;33m,\u001b[0m \u001b[1;33m**\u001b[0m\u001b[0mkwargs\u001b[0m\u001b[1;33m:\u001b[0m \u001b[0mself\u001b[0m\u001b[1;33m.\u001b[0m\u001b[0mfn\u001b[0m\u001b[1;33m(\u001b[0m\u001b[0mobj\u001b[0m\u001b[1;33m,\u001b[0m \u001b[1;33m*\u001b[0m\u001b[0margs\u001b[0m\u001b[1;33m,\u001b[0m \u001b[1;33m**\u001b[0m\u001b[0mkwargs\u001b[0m\u001b[1;33m)\u001b[0m\u001b[1;33m\u001b[0m\u001b[1;33m\u001b[0m\u001b[0m\n\u001b[0m\u001b[0;32m    117\u001b[0m         \u001b[1;31m# update the docstring of the returned function\u001b[0m\u001b[1;33m\u001b[0m\u001b[1;33m\u001b[0m\u001b[1;33m\u001b[0m\u001b[0m\n\u001b[0;32m    118\u001b[0m         \u001b[0mupdate_wrapper\u001b[0m\u001b[1;33m(\u001b[0m\u001b[0mout\u001b[0m\u001b[1;33m,\u001b[0m \u001b[0mself\u001b[0m\u001b[1;33m.\u001b[0m\u001b[0mfn\u001b[0m\u001b[1;33m)\u001b[0m\u001b[1;33m\u001b[0m\u001b[1;33m\u001b[0m\u001b[0m\n",
      "\u001b[1;32mE:\\Anaconda3\\lib\\site-packages\\sklearn\\model_selection\\_search.py\u001b[0m in \u001b[0;36mpredict_proba\u001b[1;34m(self, X)\u001b[0m\n\u001b[0;32m    472\u001b[0m         \"\"\"\n\u001b[0;32m    473\u001b[0m         \u001b[0mself\u001b[0m\u001b[1;33m.\u001b[0m\u001b[0m_check_is_fitted\u001b[0m\u001b[1;33m(\u001b[0m\u001b[1;34m'predict_proba'\u001b[0m\u001b[1;33m)\u001b[0m\u001b[1;33m\u001b[0m\u001b[1;33m\u001b[0m\u001b[0m\n\u001b[1;32m--> 474\u001b[1;33m         \u001b[1;32mreturn\u001b[0m \u001b[0mself\u001b[0m\u001b[1;33m.\u001b[0m\u001b[0mbest_estimator_\u001b[0m\u001b[1;33m.\u001b[0m\u001b[0mpredict_proba\u001b[0m\u001b[1;33m(\u001b[0m\u001b[0mX\u001b[0m\u001b[1;33m)\u001b[0m\u001b[1;33m\u001b[0m\u001b[1;33m\u001b[0m\u001b[0m\n\u001b[0m\u001b[0;32m    475\u001b[0m \u001b[1;33m\u001b[0m\u001b[0m\n\u001b[0;32m    476\u001b[0m     \u001b[1;33m@\u001b[0m\u001b[0mif_delegate_has_method\u001b[0m\u001b[1;33m(\u001b[0m\u001b[0mdelegate\u001b[0m\u001b[1;33m=\u001b[0m\u001b[1;33m(\u001b[0m\u001b[1;34m'best_estimator_'\u001b[0m\u001b[1;33m,\u001b[0m \u001b[1;34m'estimator'\u001b[0m\u001b[1;33m)\u001b[0m\u001b[1;33m)\u001b[0m\u001b[1;33m\u001b[0m\u001b[1;33m\u001b[0m\u001b[0m\n",
      "\u001b[1;32mE:\\Anaconda3\\lib\\site-packages\\sklearn\\linear_model\\logistic.py\u001b[0m in \u001b[0;36mpredict_proba\u001b[1;34m(self, X)\u001b[0m\n\u001b[0;32m   1652\u001b[0m                                                 self.solver == 'liblinear')))\n\u001b[0;32m   1653\u001b[0m         \u001b[1;32mif\u001b[0m \u001b[0movr\u001b[0m\u001b[1;33m:\u001b[0m\u001b[1;33m\u001b[0m\u001b[1;33m\u001b[0m\u001b[0m\n\u001b[1;32m-> 1654\u001b[1;33m             \u001b[1;32mreturn\u001b[0m \u001b[0msuper\u001b[0m\u001b[1;33m(\u001b[0m\u001b[1;33m)\u001b[0m\u001b[1;33m.\u001b[0m\u001b[0m_predict_proba_lr\u001b[0m\u001b[1;33m(\u001b[0m\u001b[0mX\u001b[0m\u001b[1;33m)\u001b[0m\u001b[1;33m\u001b[0m\u001b[1;33m\u001b[0m\u001b[0m\n\u001b[0m\u001b[0;32m   1655\u001b[0m         \u001b[1;32melse\u001b[0m\u001b[1;33m:\u001b[0m\u001b[1;33m\u001b[0m\u001b[1;33m\u001b[0m\u001b[0m\n\u001b[0;32m   1656\u001b[0m             \u001b[0mdecision\u001b[0m \u001b[1;33m=\u001b[0m \u001b[0mself\u001b[0m\u001b[1;33m.\u001b[0m\u001b[0mdecision_function\u001b[0m\u001b[1;33m(\u001b[0m\u001b[0mX\u001b[0m\u001b[1;33m)\u001b[0m\u001b[1;33m\u001b[0m\u001b[1;33m\u001b[0m\u001b[0m\n",
      "\u001b[1;32mE:\\Anaconda3\\lib\\site-packages\\sklearn\\linear_model\\base.py\u001b[0m in \u001b[0;36m_predict_proba_lr\u001b[1;34m(self, X)\u001b[0m\n\u001b[0;32m    301\u001b[0m         \u001b[0mmulticlass\u001b[0m \u001b[1;32mis\u001b[0m \u001b[0mhandled\u001b[0m \u001b[0mby\u001b[0m \u001b[0mnormalizing\u001b[0m \u001b[0mthat\u001b[0m \u001b[0mover\u001b[0m \u001b[0mall\u001b[0m \u001b[0mclasses\u001b[0m\u001b[1;33m.\u001b[0m\u001b[1;33m\u001b[0m\u001b[1;33m\u001b[0m\u001b[0m\n\u001b[0;32m    302\u001b[0m         \"\"\"\n\u001b[1;32m--> 303\u001b[1;33m         \u001b[0mprob\u001b[0m \u001b[1;33m=\u001b[0m \u001b[0mself\u001b[0m\u001b[1;33m.\u001b[0m\u001b[0mdecision_function\u001b[0m\u001b[1;33m(\u001b[0m\u001b[0mX\u001b[0m\u001b[1;33m)\u001b[0m\u001b[1;33m\u001b[0m\u001b[1;33m\u001b[0m\u001b[0m\n\u001b[0m\u001b[0;32m    304\u001b[0m         \u001b[0mexpit\u001b[0m\u001b[1;33m(\u001b[0m\u001b[0mprob\u001b[0m\u001b[1;33m,\u001b[0m \u001b[0mout\u001b[0m\u001b[1;33m=\u001b[0m\u001b[0mprob\u001b[0m\u001b[1;33m)\u001b[0m\u001b[1;33m\u001b[0m\u001b[1;33m\u001b[0m\u001b[0m\n\u001b[0;32m    305\u001b[0m         \u001b[1;32mif\u001b[0m \u001b[0mprob\u001b[0m\u001b[1;33m.\u001b[0m\u001b[0mndim\u001b[0m \u001b[1;33m==\u001b[0m \u001b[1;36m1\u001b[0m\u001b[1;33m:\u001b[0m\u001b[1;33m\u001b[0m\u001b[1;33m\u001b[0m\u001b[0m\n",
      "\u001b[1;32mE:\\Anaconda3\\lib\\site-packages\\sklearn\\linear_model\\base.py\u001b[0m in \u001b[0;36mdecision_function\u001b[1;34m(self, X)\u001b[0m\n\u001b[0;32m    268\u001b[0m         \u001b[1;32mif\u001b[0m \u001b[0mX\u001b[0m\u001b[1;33m.\u001b[0m\u001b[0mshape\u001b[0m\u001b[1;33m[\u001b[0m\u001b[1;36m1\u001b[0m\u001b[1;33m]\u001b[0m \u001b[1;33m!=\u001b[0m \u001b[0mn_features\u001b[0m\u001b[1;33m:\u001b[0m\u001b[1;33m\u001b[0m\u001b[1;33m\u001b[0m\u001b[0m\n\u001b[0;32m    269\u001b[0m             raise ValueError(\"X has %d features per sample; expecting %d\"\n\u001b[1;32m--> 270\u001b[1;33m                              % (X.shape[1], n_features))\n\u001b[0m\u001b[0;32m    271\u001b[0m \u001b[1;33m\u001b[0m\u001b[0m\n\u001b[0;32m    272\u001b[0m         scores = safe_sparse_dot(X, self.coef_.T,\n",
      "\u001b[1;31mValueError\u001b[0m: X has 48 features per sample; expecting 245"
     ]
    }
   ],
   "source": []
  },
  {
   "cell_type": "code",
   "execution_count": 9,
   "metadata": {},
   "outputs": [],
   "source": [
    "X = pd.read_csv('../data/train_features.csv', index_col='match_id_hash')\n",
    "y = pd.read_csv('../data/train_targets.csv', index_col='match_id_hash')['radiant_win'].map({True: 1, False: 0})"
   ]
  },
  {
   "cell_type": "code",
   "execution_count": 10,
   "metadata": {
    "pycharm": {
     "is_executing": false,
     "name": "#%%\n"
    }
   },
   "outputs": [
    {
     "name": "stdout",
     "output_type": "stream",
     "text": [
      "Wall time: 3min 6s\n"
     ]
    },
    {
     "data": {
      "text/plain": [
       "GridSearchCV(cv=StratifiedKFold(n_splits=5, random_state=None, shuffle=True),\n",
       "             error_score='raise-deprecating',\n",
       "             estimator=LogisticRegression(C=1.0, class_weight='balanced',\n",
       "                                          dual=False, fit_intercept=True,\n",
       "                                          intercept_scaling=1000, l1_ratio=None,\n",
       "                                          max_iter=1500, multi_class='warn',\n",
       "                                          n_jobs=-1, penalty='l2',\n",
       "                                          random_state=None, solver='lbfgs',\n",
       "                                          tol=0.0001, verbose=0,\n",
       "                                          warm_start=True),\n",
       "             iid='warn', n_jobs=-1, param_grid={'C': [0.75], 'tol': [0.25]},\n",
       "             pre_dispatch='2*n_jobs', refit=True, return_train_score=False,\n",
       "             scoring='roc_auc', verbose=0)"
      ]
     },
     "execution_count": 10,
     "metadata": {},
     "output_type": "execute_result"
    }
   ],
   "source": [
    "%%time\n",
    "logistic_reg = LogisticRegression(class_weight='balanced', solver='lbfgs', max_iter=1500, n_jobs=-1, warm_start=True, intercept_scaling=1000)\n",
    "skf = StratifiedKFold(n_splits=5, shuffle=True)\n",
    "parameters = {'C': [0.75], 'tol': [0.25]}\n",
    "gsc = GridSearchCV(estimator=logistic_reg, cv=skf, param_grid=parameters, n_jobs=-1, scoring='roc_auc')\n",
    "gsc.fit(X, y)\n"
   ]
  },
  {
   "cell_type": "code",
   "execution_count": 14,
   "metadata": {
    "pycharm": {
     "is_executing": false,
     "name": "#%%\n"
    }
   },
   "outputs": [
    {
     "data": {
      "text/plain": [
       "array([[0.46631374, 0.53368626],\n",
       "       [0.04987757, 0.95012243],\n",
       "       [0.0494491 , 0.9505509 ],\n",
       "       ...,\n",
       "       [0.5176153 , 0.4823847 ],\n",
       "       [0.35476761, 0.64523239],\n",
       "       [0.924952  , 0.075048  ]])"
      ]
     },
     "execution_count": 14,
     "metadata": {},
     "output_type": "execute_result"
    }
   ],
   "source": [
    "X_test = pd.read_csv('../data/test_features.csv', index_col='match_id_hash')\n",
    "y_test_pred = gsc.predict_proba(X_test.values)\n",
    "y_test_pred"
   ]
  },
  {
   "cell_type": "code",
   "execution_count": null,
   "metadata": {
    "pycharm": {
     "is_executing": false,
     "name": "#%%\n"
    }
   },
   "outputs": [],
   "source": [
    "y_test_pred[:, 1]"
   ]
  },
  {
   "cell_type": "code",
   "execution_count": null,
   "metadata": {
    "pycharm": {
     "is_executing": false,
     "name": "#%%\n"
    }
   },
   "outputs": [],
   "source": []
  },
  {
   "cell_type": "code",
   "execution_count": null,
   "metadata": {
    "pycharm": {
     "is_executing": false,
     "name": "#%%\n"
    }
   },
   "outputs": [],
   "source": [
    "df_submission = pd.DataFrame({'radiant_win_prob': y_test_pred[:, 1]}, index=X_test.index)\n",
    "df_submission.astype(object).min()"
   ]
  },
  {
   "cell_type": "code",
   "execution_count": null,
   "metadata": {
    "pycharm": {
     "is_executing": false,
     "name": "#%%\n"
    }
   },
   "outputs": [],
   "source": []
  },
  {
   "cell_type": "code",
   "execution_count": null,
   "metadata": {
    "pycharm": {
     "name": "#%%\n"
    }
   },
   "outputs": [],
   "source": [
    "df_submission.to_csv('submission.csv')\n"
   ]
  },
  {
   "cell_type": "code",
   "execution_count": null,
   "metadata": {},
   "outputs": [],
   "source": [
    "import datetime\n",
    "submission_filename = 'submission_{}.csv'.format(\n",
    "    datetime.datetime.now().strftime('%Y-%m-%d_%H-%M-%S'))\n",
    "df_submission.to_csv(submission_filename)\n",
    "print('Submission saved to {}'.format(submission_filename))"
   ]
  },
  {
   "cell_type": "code",
   "execution_count": 15,
   "metadata": {},
   "outputs": [
    {
     "data": {
      "text/plain": [
       "0.8115903840526241"
      ]
     },
     "execution_count": 15,
     "metadata": {},
     "output_type": "execute_result"
    }
   ],
   "source": [
    "gsc.best_score_"
   ]
  },
  {
   "cell_type": "code",
   "execution_count": 11,
   "outputs": [
    {
     "data": {
      "text/plain": "['game_time',\n 'game_mode',\n 'lobby_type',\n 'objectives_len',\n 'chat_len',\n 'afk',\n 'r_kills',\n 'r_deaths',\n 'r_assists',\n 'r_denies',\n 'r_gold',\n 'r_lh',\n 'r_xp',\n 'r_health',\n 'r_max_health',\n 'r_max_mana',\n 'r_level',\n 'r_stuns',\n 'r_creeps_stacked',\n 'r_camps_stacked',\n 'r_rune_pickups',\n 'r_firstblood_claimed',\n 'r_teamfight_participation',\n 'r_towers_killed',\n 'r_roshans_killed',\n 'r_obs_placed',\n 'r_sen_placed',\n 'd_kills',\n 'd_deaths',\n 'd_assists',\n 'd_denies',\n 'd_gold',\n 'd_lh',\n 'd_xp',\n 'd_health',\n 'd_max_health',\n 'd_max_mana',\n 'd_level',\n 'd_stuns',\n 'd_creeps_stacked',\n 'd_camps_stacked',\n 'd_rune_pickups',\n 'd_firstblood_claimed',\n 'd_teamfight_participation',\n 'd_towers_killed',\n 'd_roshans_killed',\n 'd_obs_placed',\n 'd_sen_placed']"
     },
     "metadata": {},
     "output_type": "execute_result",
     "execution_count": 11
    }
   ],
   "source": [
    "list(X.columns)"
   ],
   "metadata": {
    "collapsed": false,
    "pycharm": {
     "name": "#%%\n",
     "is_executing": false
    }
   }
  },
  {
   "cell_type": "code",
   "execution_count": 12,
   "outputs": [
    {
     "data": {
      "text/plain": "                                  game_time  game_mode  lobby_type  \\\nmatch_id_hash                                                        \nb9c57c450ce74a2af79c9ce96fac144d        658          4           0   \nc96d629dc0c39f0c616d1949938a6ba6       1016         22           0   \ndf50f738c454d430a33b2bf90cb9ef1a        636         22           7   \n7469e9440ea3d19b211a484647c7126e       1054         22           0   \n0aa1c6d7630433a93fe42da5ac810368       1797         22           7   \n...                                     ...        ...         ...   \n6066cc7417b43c749d551e123d00f0c8       1002          4           0   \ndefd0caeed6ea83d7d5fbdec013fe7d1       1783         22           0   \ne2ca68ac1a6847f4a37f6c9c8ee8695b        643         22           7   \n47ad6454ede66c1c78fdaa9391dfc556       2405         22           7   \n9928dfde50efcbdb2055da23dcdbc101       1775         22           0   \n\n                                  objectives_len  chat_len  afk  r_kills  \\\nmatch_id_hash                                                              \nb9c57c450ce74a2af79c9ce96fac144d               3        10  0.0       16   \nc96d629dc0c39f0c616d1949938a6ba6               1         0  0.0        9   \ndf50f738c454d430a33b2bf90cb9ef1a               1         5  0.0        2   \n7469e9440ea3d19b211a484647c7126e               8         5  0.0       14   \n0aa1c6d7630433a93fe42da5ac810368               9         2  0.0       21   \n...                                          ...       ...  ...      ...   \n6066cc7417b43c749d551e123d00f0c8               4         0  0.0        6   \ndefd0caeed6ea83d7d5fbdec013fe7d1               8        23  0.0       19   \ne2ca68ac1a6847f4a37f6c9c8ee8695b               1        23  0.0        4   \n47ad6454ede66c1c78fdaa9391dfc556              12         4  0.0       42   \n9928dfde50efcbdb2055da23dcdbc101              10        13  0.0       30   \n\n                                  r_deaths  r_assists  r_denies  ...  \\\nmatch_id_hash                                                    ...   \nb9c57c450ce74a2af79c9ce96fac144d         4         14        28  ...   \nc96d629dc0c39f0c616d1949938a6ba6        12         12        33  ...   \ndf50f738c454d430a33b2bf90cb9ef1a         7          6        17  ...   \n7469e9440ea3d19b211a484647c7126e        11         23        30  ...   \n0aa1c6d7630433a93fe42da5ac810368        35         31        28  ...   \n...                                    ...        ...       ...  ...   \n6066cc7417b43c749d551e123d00f0c8        18         11         7  ...   \ndefd0caeed6ea83d7d5fbdec013fe7d1        32         32        52  ...   \ne2ca68ac1a6847f4a37f6c9c8ee8695b        20          3        26  ...   \n47ad6454ede66c1c78fdaa9391dfc556        40         53        37  ...   \n9928dfde50efcbdb2055da23dcdbc101        20         48        36  ...   \n\n                                  d_deaths  d_assists  d_denies  d_gold  d_lh  \\\nmatch_id_hash                                                                   \nb9c57c450ce74a2af79c9ce96fac144d        16          3        16   13144    96   \nc96d629dc0c39f0c616d1949938a6ba6        10         13        38   20819   165   \ndf50f738c454d430a33b2bf90cb9ef1a         3          8        65   15938   177   \n7469e9440ea3d19b211a484647c7126e        14         25        49   27107   218   \n0aa1c6d7630433a93fe42da5ac810368        22         42        32   55254   510   \n...                                    ...        ...       ...     ...   ...   \n6066cc7417b43c749d551e123d00f0c8         7         27        10   26154   239   \ndefd0caeed6ea83d7d5fbdec013fe7d1        21         55        36   51638   438   \ne2ca68ac1a6847f4a37f6c9c8ee8695b         4         11        42   17506   139   \n47ad6454ede66c1c78fdaa9391dfc556        42         68        51   81561   849   \n9928dfde50efcbdb2055da23dcdbc101        30         33        47   56794   572   \n\n                                    d_xp  d_level  d_teamfight_participation  \\\nmatch_id_hash                                                                  \nb9c57c450ce74a2af79c9ce96fac144d   12925       30                   1.500000   \nc96d629dc0c39f0c616d1949938a6ba6   27341       49                   2.000000   \ndf50f738c454d430a33b2bf90cb9ef1a   16068       33                   2.142857   \n7469e9440ea3d19b211a484647c7126e   25212       46                   3.272727   \n0aa1c6d7630433a93fe42da5ac810368   65908       85                   2.200000   \n...                                  ...      ...                        ...   \n6066cc7417b43c749d551e123d00f0c8   26848       49                   2.500000   \ndefd0caeed6ea83d7d5fbdec013fe7d1   65289       83                   2.718750   \ne2ca68ac1a6847f4a37f6c9c8ee8695b   17487       37                   1.450000   \n47ad6454ede66c1c78fdaa9391dfc556  107064      111                   2.675000   \n9928dfde50efcbdb2055da23dcdbc101   61772       82                   2.650000   \n\n                                  d_towers_killed  d_roshans_killed  \nmatch_id_hash                                                        \nb9c57c450ce74a2af79c9ce96fac144d                0                 0  \nc96d629dc0c39f0c616d1949938a6ba6                0                 0  \ndf50f738c454d430a33b2bf90cb9ef1a                0                 0  \n7469e9440ea3d19b211a484647c7126e                2                 0  \n0aa1c6d7630433a93fe42da5ac810368                3                 0  \n...                                           ...               ...  \n6066cc7417b43c749d551e123d00f0c8                0                 0  \ndefd0caeed6ea83d7d5fbdec013fe7d1                3                 0  \ne2ca68ac1a6847f4a37f6c9c8ee8695b                0                 0  \n47ad6454ede66c1c78fdaa9391dfc556                2                 0  \n9928dfde50efcbdb2055da23dcdbc101                4                 0  \n\n[27664 rows x 28 columns]",
      "text/html": "<div>\n<style scoped>\n    .dataframe tbody tr th:only-of-type {\n        vertical-align: middle;\n    }\n\n    .dataframe tbody tr th {\n        vertical-align: top;\n    }\n\n    .dataframe thead th {\n        text-align: right;\n    }\n</style>\n<table border=\"1\" class=\"dataframe\">\n  <thead>\n    <tr style=\"text-align: right;\">\n      <th></th>\n      <th>game_time</th>\n      <th>game_mode</th>\n      <th>lobby_type</th>\n      <th>objectives_len</th>\n      <th>chat_len</th>\n      <th>afk</th>\n      <th>r_kills</th>\n      <th>r_deaths</th>\n      <th>r_assists</th>\n      <th>r_denies</th>\n      <th>...</th>\n      <th>d_deaths</th>\n      <th>d_assists</th>\n      <th>d_denies</th>\n      <th>d_gold</th>\n      <th>d_lh</th>\n      <th>d_xp</th>\n      <th>d_level</th>\n      <th>d_teamfight_participation</th>\n      <th>d_towers_killed</th>\n      <th>d_roshans_killed</th>\n    </tr>\n    <tr>\n      <th>match_id_hash</th>\n      <th></th>\n      <th></th>\n      <th></th>\n      <th></th>\n      <th></th>\n      <th></th>\n      <th></th>\n      <th></th>\n      <th></th>\n      <th></th>\n      <th></th>\n      <th></th>\n      <th></th>\n      <th></th>\n      <th></th>\n      <th></th>\n      <th></th>\n      <th></th>\n      <th></th>\n      <th></th>\n      <th></th>\n    </tr>\n  </thead>\n  <tbody>\n    <tr>\n      <td>b9c57c450ce74a2af79c9ce96fac144d</td>\n      <td>658</td>\n      <td>4</td>\n      <td>0</td>\n      <td>3</td>\n      <td>10</td>\n      <td>0.0</td>\n      <td>16</td>\n      <td>4</td>\n      <td>14</td>\n      <td>28</td>\n      <td>...</td>\n      <td>16</td>\n      <td>3</td>\n      <td>16</td>\n      <td>13144</td>\n      <td>96</td>\n      <td>12925</td>\n      <td>30</td>\n      <td>1.500000</td>\n      <td>0</td>\n      <td>0</td>\n    </tr>\n    <tr>\n      <td>c96d629dc0c39f0c616d1949938a6ba6</td>\n      <td>1016</td>\n      <td>22</td>\n      <td>0</td>\n      <td>1</td>\n      <td>0</td>\n      <td>0.0</td>\n      <td>9</td>\n      <td>12</td>\n      <td>12</td>\n      <td>33</td>\n      <td>...</td>\n      <td>10</td>\n      <td>13</td>\n      <td>38</td>\n      <td>20819</td>\n      <td>165</td>\n      <td>27341</td>\n      <td>49</td>\n      <td>2.000000</td>\n      <td>0</td>\n      <td>0</td>\n    </tr>\n    <tr>\n      <td>df50f738c454d430a33b2bf90cb9ef1a</td>\n      <td>636</td>\n      <td>22</td>\n      <td>7</td>\n      <td>1</td>\n      <td>5</td>\n      <td>0.0</td>\n      <td>2</td>\n      <td>7</td>\n      <td>6</td>\n      <td>17</td>\n      <td>...</td>\n      <td>3</td>\n      <td>8</td>\n      <td>65</td>\n      <td>15938</td>\n      <td>177</td>\n      <td>16068</td>\n      <td>33</td>\n      <td>2.142857</td>\n      <td>0</td>\n      <td>0</td>\n    </tr>\n    <tr>\n      <td>7469e9440ea3d19b211a484647c7126e</td>\n      <td>1054</td>\n      <td>22</td>\n      <td>0</td>\n      <td>8</td>\n      <td>5</td>\n      <td>0.0</td>\n      <td>14</td>\n      <td>11</td>\n      <td>23</td>\n      <td>30</td>\n      <td>...</td>\n      <td>14</td>\n      <td>25</td>\n      <td>49</td>\n      <td>27107</td>\n      <td>218</td>\n      <td>25212</td>\n      <td>46</td>\n      <td>3.272727</td>\n      <td>2</td>\n      <td>0</td>\n    </tr>\n    <tr>\n      <td>0aa1c6d7630433a93fe42da5ac810368</td>\n      <td>1797</td>\n      <td>22</td>\n      <td>7</td>\n      <td>9</td>\n      <td>2</td>\n      <td>0.0</td>\n      <td>21</td>\n      <td>35</td>\n      <td>31</td>\n      <td>28</td>\n      <td>...</td>\n      <td>22</td>\n      <td>42</td>\n      <td>32</td>\n      <td>55254</td>\n      <td>510</td>\n      <td>65908</td>\n      <td>85</td>\n      <td>2.200000</td>\n      <td>3</td>\n      <td>0</td>\n    </tr>\n    <tr>\n      <td>...</td>\n      <td>...</td>\n      <td>...</td>\n      <td>...</td>\n      <td>...</td>\n      <td>...</td>\n      <td>...</td>\n      <td>...</td>\n      <td>...</td>\n      <td>...</td>\n      <td>...</td>\n      <td>...</td>\n      <td>...</td>\n      <td>...</td>\n      <td>...</td>\n      <td>...</td>\n      <td>...</td>\n      <td>...</td>\n      <td>...</td>\n      <td>...</td>\n      <td>...</td>\n      <td>...</td>\n    </tr>\n    <tr>\n      <td>6066cc7417b43c749d551e123d00f0c8</td>\n      <td>1002</td>\n      <td>4</td>\n      <td>0</td>\n      <td>4</td>\n      <td>0</td>\n      <td>0.0</td>\n      <td>6</td>\n      <td>18</td>\n      <td>11</td>\n      <td>7</td>\n      <td>...</td>\n      <td>7</td>\n      <td>27</td>\n      <td>10</td>\n      <td>26154</td>\n      <td>239</td>\n      <td>26848</td>\n      <td>49</td>\n      <td>2.500000</td>\n      <td>0</td>\n      <td>0</td>\n    </tr>\n    <tr>\n      <td>defd0caeed6ea83d7d5fbdec013fe7d1</td>\n      <td>1783</td>\n      <td>22</td>\n      <td>0</td>\n      <td>8</td>\n      <td>23</td>\n      <td>0.0</td>\n      <td>19</td>\n      <td>32</td>\n      <td>32</td>\n      <td>52</td>\n      <td>...</td>\n      <td>21</td>\n      <td>55</td>\n      <td>36</td>\n      <td>51638</td>\n      <td>438</td>\n      <td>65289</td>\n      <td>83</td>\n      <td>2.718750</td>\n      <td>3</td>\n      <td>0</td>\n    </tr>\n    <tr>\n      <td>e2ca68ac1a6847f4a37f6c9c8ee8695b</td>\n      <td>643</td>\n      <td>22</td>\n      <td>7</td>\n      <td>1</td>\n      <td>23</td>\n      <td>0.0</td>\n      <td>4</td>\n      <td>20</td>\n      <td>3</td>\n      <td>26</td>\n      <td>...</td>\n      <td>4</td>\n      <td>11</td>\n      <td>42</td>\n      <td>17506</td>\n      <td>139</td>\n      <td>17487</td>\n      <td>37</td>\n      <td>1.450000</td>\n      <td>0</td>\n      <td>0</td>\n    </tr>\n    <tr>\n      <td>47ad6454ede66c1c78fdaa9391dfc556</td>\n      <td>2405</td>\n      <td>22</td>\n      <td>7</td>\n      <td>12</td>\n      <td>4</td>\n      <td>0.0</td>\n      <td>42</td>\n      <td>40</td>\n      <td>53</td>\n      <td>37</td>\n      <td>...</td>\n      <td>42</td>\n      <td>68</td>\n      <td>51</td>\n      <td>81561</td>\n      <td>849</td>\n      <td>107064</td>\n      <td>111</td>\n      <td>2.675000</td>\n      <td>2</td>\n      <td>0</td>\n    </tr>\n    <tr>\n      <td>9928dfde50efcbdb2055da23dcdbc101</td>\n      <td>1775</td>\n      <td>22</td>\n      <td>0</td>\n      <td>10</td>\n      <td>13</td>\n      <td>0.0</td>\n      <td>30</td>\n      <td>20</td>\n      <td>48</td>\n      <td>36</td>\n      <td>...</td>\n      <td>30</td>\n      <td>33</td>\n      <td>47</td>\n      <td>56794</td>\n      <td>572</td>\n      <td>61772</td>\n      <td>82</td>\n      <td>2.650000</td>\n      <td>4</td>\n      <td>0</td>\n    </tr>\n  </tbody>\n</table>\n<p>27664 rows × 28 columns</p>\n</div>"
     },
     "metadata": {},
     "output_type": "execute_result",
     "execution_count": 12
    }
   ],
   "source": [
    "X.drop(columns=['r_health', 'r_max_health', 'r_max_mana', 'r_stuns', 'r_creeps_stacked', 'r_camps_stacked', 'r_rune_pickups', \n",
    "                'r_firstblood_claimed', 'r_obs_placed', 'r_sen_placed',\n",
    "                'd_health', 'd_max_health', 'd_max_mana', 'd_stuns', 'd_creeps_stacked', 'd_camps_stacked', 'd_rune_pickups', \n",
    "                'd_firstblood_claimed', 'd_obs_placed', 'd_sen_placed'])"
   ],
   "metadata": {
    "collapsed": false,
    "pycharm": {
     "name": "#%%\n",
     "is_executing": false
    }
   }
  },
  {
   "cell_type": "code",
   "execution_count": 12,
   "outputs": [
    {
     "data": {
      "text/plain": "                                  game_time  game_mode  lobby_type  \\\nmatch_id_hash                                                        \nb9c57c450ce74a2af79c9ce96fac144d        658          4           0   \nc96d629dc0c39f0c616d1949938a6ba6       1016         22           0   \ndf50f738c454d430a33b2bf90cb9ef1a        636         22           7   \n7469e9440ea3d19b211a484647c7126e       1054         22           0   \n0aa1c6d7630433a93fe42da5ac810368       1797         22           7   \n...                                     ...        ...         ...   \n6066cc7417b43c749d551e123d00f0c8       1002          4           0   \ndefd0caeed6ea83d7d5fbdec013fe7d1       1783         22           0   \ne2ca68ac1a6847f4a37f6c9c8ee8695b        643         22           7   \n47ad6454ede66c1c78fdaa9391dfc556       2405         22           7   \n9928dfde50efcbdb2055da23dcdbc101       1775         22           0   \n\n                                  objectives_len  chat_len  afk  r_kills  \\\nmatch_id_hash                                                              \nb9c57c450ce74a2af79c9ce96fac144d               3        10  0.0       16   \nc96d629dc0c39f0c616d1949938a6ba6               1         0  0.0        9   \ndf50f738c454d430a33b2bf90cb9ef1a               1         5  0.0        2   \n7469e9440ea3d19b211a484647c7126e               8         5  0.0       14   \n0aa1c6d7630433a93fe42da5ac810368               9         2  0.0       21   \n...                                          ...       ...  ...      ...   \n6066cc7417b43c749d551e123d00f0c8               4         0  0.0        6   \ndefd0caeed6ea83d7d5fbdec013fe7d1               8        23  0.0       19   \ne2ca68ac1a6847f4a37f6c9c8ee8695b               1        23  0.0        4   \n47ad6454ede66c1c78fdaa9391dfc556              12         4  0.0       42   \n9928dfde50efcbdb2055da23dcdbc101              10        13  0.0       30   \n\n                                  r_deaths  r_assists  r_denies  ...  \\\nmatch_id_hash                                                    ...   \nb9c57c450ce74a2af79c9ce96fac144d         4         14        28  ...   \nc96d629dc0c39f0c616d1949938a6ba6        12         12        33  ...   \ndf50f738c454d430a33b2bf90cb9ef1a         7          6        17  ...   \n7469e9440ea3d19b211a484647c7126e        11         23        30  ...   \n0aa1c6d7630433a93fe42da5ac810368        35         31        28  ...   \n...                                    ...        ...       ...  ...   \n6066cc7417b43c749d551e123d00f0c8        18         11         7  ...   \ndefd0caeed6ea83d7d5fbdec013fe7d1        32         32        52  ...   \ne2ca68ac1a6847f4a37f6c9c8ee8695b        20          3        26  ...   \n47ad6454ede66c1c78fdaa9391dfc556        40         53        37  ...   \n9928dfde50efcbdb2055da23dcdbc101        20         48        36  ...   \n\n                                  d_deaths  d_assists  d_denies  d_gold  d_lh  \\\nmatch_id_hash                                                                   \nb9c57c450ce74a2af79c9ce96fac144d        16          3        16   13144    96   \nc96d629dc0c39f0c616d1949938a6ba6        10         13        38   20819   165   \ndf50f738c454d430a33b2bf90cb9ef1a         3          8        65   15938   177   \n7469e9440ea3d19b211a484647c7126e        14         25        49   27107   218   \n0aa1c6d7630433a93fe42da5ac810368        22         42        32   55254   510   \n...                                    ...        ...       ...     ...   ...   \n6066cc7417b43c749d551e123d00f0c8         7         27        10   26154   239   \ndefd0caeed6ea83d7d5fbdec013fe7d1        21         55        36   51638   438   \ne2ca68ac1a6847f4a37f6c9c8ee8695b         4         11        42   17506   139   \n47ad6454ede66c1c78fdaa9391dfc556        42         68        51   81561   849   \n9928dfde50efcbdb2055da23dcdbc101        30         33        47   56794   572   \n\n                                    d_xp  d_level  d_teamfight_participation  \\\nmatch_id_hash                                                                  \nb9c57c450ce74a2af79c9ce96fac144d   12925       30                   1.500000   \nc96d629dc0c39f0c616d1949938a6ba6   27341       49                   2.000000   \ndf50f738c454d430a33b2bf90cb9ef1a   16068       33                   2.142857   \n7469e9440ea3d19b211a484647c7126e   25212       46                   3.272727   \n0aa1c6d7630433a93fe42da5ac810368   65908       85                   2.200000   \n...                                  ...      ...                        ...   \n6066cc7417b43c749d551e123d00f0c8   26848       49                   2.500000   \ndefd0caeed6ea83d7d5fbdec013fe7d1   65289       83                   2.718750   \ne2ca68ac1a6847f4a37f6c9c8ee8695b   17487       37                   1.450000   \n47ad6454ede66c1c78fdaa9391dfc556  107064      111                   2.675000   \n9928dfde50efcbdb2055da23dcdbc101   61772       82                   2.650000   \n\n                                  d_towers_killed  d_roshans_killed  \nmatch_id_hash                                                        \nb9c57c450ce74a2af79c9ce96fac144d                0                 0  \nc96d629dc0c39f0c616d1949938a6ba6                0                 0  \ndf50f738c454d430a33b2bf90cb9ef1a                0                 0  \n7469e9440ea3d19b211a484647c7126e                2                 0  \n0aa1c6d7630433a93fe42da5ac810368                3                 0  \n...                                           ...               ...  \n6066cc7417b43c749d551e123d00f0c8                0                 0  \ndefd0caeed6ea83d7d5fbdec013fe7d1                3                 0  \ne2ca68ac1a6847f4a37f6c9c8ee8695b                0                 0  \n47ad6454ede66c1c78fdaa9391dfc556                2                 0  \n9928dfde50efcbdb2055da23dcdbc101                4                 0  \n\n[27664 rows x 28 columns]",
      "text/html": "<div>\n<style scoped>\n    .dataframe tbody tr th:only-of-type {\n        vertical-align: middle;\n    }\n\n    .dataframe tbody tr th {\n        vertical-align: top;\n    }\n\n    .dataframe thead th {\n        text-align: right;\n    }\n</style>\n<table border=\"1\" class=\"dataframe\">\n  <thead>\n    <tr style=\"text-align: right;\">\n      <th></th>\n      <th>game_time</th>\n      <th>game_mode</th>\n      <th>lobby_type</th>\n      <th>objectives_len</th>\n      <th>chat_len</th>\n      <th>afk</th>\n      <th>r_kills</th>\n      <th>r_deaths</th>\n      <th>r_assists</th>\n      <th>r_denies</th>\n      <th>...</th>\n      <th>d_deaths</th>\n      <th>d_assists</th>\n      <th>d_denies</th>\n      <th>d_gold</th>\n      <th>d_lh</th>\n      <th>d_xp</th>\n      <th>d_level</th>\n      <th>d_teamfight_participation</th>\n      <th>d_towers_killed</th>\n      <th>d_roshans_killed</th>\n    </tr>\n    <tr>\n      <th>match_id_hash</th>\n      <th></th>\n      <th></th>\n      <th></th>\n      <th></th>\n      <th></th>\n      <th></th>\n      <th></th>\n      <th></th>\n      <th></th>\n      <th></th>\n      <th></th>\n      <th></th>\n      <th></th>\n      <th></th>\n      <th></th>\n      <th></th>\n      <th></th>\n      <th></th>\n      <th></th>\n      <th></th>\n      <th></th>\n    </tr>\n  </thead>\n  <tbody>\n    <tr>\n      <td>b9c57c450ce74a2af79c9ce96fac144d</td>\n      <td>658</td>\n      <td>4</td>\n      <td>0</td>\n      <td>3</td>\n      <td>10</td>\n      <td>0.0</td>\n      <td>16</td>\n      <td>4</td>\n      <td>14</td>\n      <td>28</td>\n      <td>...</td>\n      <td>16</td>\n      <td>3</td>\n      <td>16</td>\n      <td>13144</td>\n      <td>96</td>\n      <td>12925</td>\n      <td>30</td>\n      <td>1.500000</td>\n      <td>0</td>\n      <td>0</td>\n    </tr>\n    <tr>\n      <td>c96d629dc0c39f0c616d1949938a6ba6</td>\n      <td>1016</td>\n      <td>22</td>\n      <td>0</td>\n      <td>1</td>\n      <td>0</td>\n      <td>0.0</td>\n      <td>9</td>\n      <td>12</td>\n      <td>12</td>\n      <td>33</td>\n      <td>...</td>\n      <td>10</td>\n      <td>13</td>\n      <td>38</td>\n      <td>20819</td>\n      <td>165</td>\n      <td>27341</td>\n      <td>49</td>\n      <td>2.000000</td>\n      <td>0</td>\n      <td>0</td>\n    </tr>\n    <tr>\n      <td>df50f738c454d430a33b2bf90cb9ef1a</td>\n      <td>636</td>\n      <td>22</td>\n      <td>7</td>\n      <td>1</td>\n      <td>5</td>\n      <td>0.0</td>\n      <td>2</td>\n      <td>7</td>\n      <td>6</td>\n      <td>17</td>\n      <td>...</td>\n      <td>3</td>\n      <td>8</td>\n      <td>65</td>\n      <td>15938</td>\n      <td>177</td>\n      <td>16068</td>\n      <td>33</td>\n      <td>2.142857</td>\n      <td>0</td>\n      <td>0</td>\n    </tr>\n    <tr>\n      <td>7469e9440ea3d19b211a484647c7126e</td>\n      <td>1054</td>\n      <td>22</td>\n      <td>0</td>\n      <td>8</td>\n      <td>5</td>\n      <td>0.0</td>\n      <td>14</td>\n      <td>11</td>\n      <td>23</td>\n      <td>30</td>\n      <td>...</td>\n      <td>14</td>\n      <td>25</td>\n      <td>49</td>\n      <td>27107</td>\n      <td>218</td>\n      <td>25212</td>\n      <td>46</td>\n      <td>3.272727</td>\n      <td>2</td>\n      <td>0</td>\n    </tr>\n    <tr>\n      <td>0aa1c6d7630433a93fe42da5ac810368</td>\n      <td>1797</td>\n      <td>22</td>\n      <td>7</td>\n      <td>9</td>\n      <td>2</td>\n      <td>0.0</td>\n      <td>21</td>\n      <td>35</td>\n      <td>31</td>\n      <td>28</td>\n      <td>...</td>\n      <td>22</td>\n      <td>42</td>\n      <td>32</td>\n      <td>55254</td>\n      <td>510</td>\n      <td>65908</td>\n      <td>85</td>\n      <td>2.200000</td>\n      <td>3</td>\n      <td>0</td>\n    </tr>\n    <tr>\n      <td>...</td>\n      <td>...</td>\n      <td>...</td>\n      <td>...</td>\n      <td>...</td>\n      <td>...</td>\n      <td>...</td>\n      <td>...</td>\n      <td>...</td>\n      <td>...</td>\n      <td>...</td>\n      <td>...</td>\n      <td>...</td>\n      <td>...</td>\n      <td>...</td>\n      <td>...</td>\n      <td>...</td>\n      <td>...</td>\n      <td>...</td>\n      <td>...</td>\n      <td>...</td>\n      <td>...</td>\n    </tr>\n    <tr>\n      <td>6066cc7417b43c749d551e123d00f0c8</td>\n      <td>1002</td>\n      <td>4</td>\n      <td>0</td>\n      <td>4</td>\n      <td>0</td>\n      <td>0.0</td>\n      <td>6</td>\n      <td>18</td>\n      <td>11</td>\n      <td>7</td>\n      <td>...</td>\n      <td>7</td>\n      <td>27</td>\n      <td>10</td>\n      <td>26154</td>\n      <td>239</td>\n      <td>26848</td>\n      <td>49</td>\n      <td>2.500000</td>\n      <td>0</td>\n      <td>0</td>\n    </tr>\n    <tr>\n      <td>defd0caeed6ea83d7d5fbdec013fe7d1</td>\n      <td>1783</td>\n      <td>22</td>\n      <td>0</td>\n      <td>8</td>\n      <td>23</td>\n      <td>0.0</td>\n      <td>19</td>\n      <td>32</td>\n      <td>32</td>\n      <td>52</td>\n      <td>...</td>\n      <td>21</td>\n      <td>55</td>\n      <td>36</td>\n      <td>51638</td>\n      <td>438</td>\n      <td>65289</td>\n      <td>83</td>\n      <td>2.718750</td>\n      <td>3</td>\n      <td>0</td>\n    </tr>\n    <tr>\n      <td>e2ca68ac1a6847f4a37f6c9c8ee8695b</td>\n      <td>643</td>\n      <td>22</td>\n      <td>7</td>\n      <td>1</td>\n      <td>23</td>\n      <td>0.0</td>\n      <td>4</td>\n      <td>20</td>\n      <td>3</td>\n      <td>26</td>\n      <td>...</td>\n      <td>4</td>\n      <td>11</td>\n      <td>42</td>\n      <td>17506</td>\n      <td>139</td>\n      <td>17487</td>\n      <td>37</td>\n      <td>1.450000</td>\n      <td>0</td>\n      <td>0</td>\n    </tr>\n    <tr>\n      <td>47ad6454ede66c1c78fdaa9391dfc556</td>\n      <td>2405</td>\n      <td>22</td>\n      <td>7</td>\n      <td>12</td>\n      <td>4</td>\n      <td>0.0</td>\n      <td>42</td>\n      <td>40</td>\n      <td>53</td>\n      <td>37</td>\n      <td>...</td>\n      <td>42</td>\n      <td>68</td>\n      <td>51</td>\n      <td>81561</td>\n      <td>849</td>\n      <td>107064</td>\n      <td>111</td>\n      <td>2.675000</td>\n      <td>2</td>\n      <td>0</td>\n    </tr>\n    <tr>\n      <td>9928dfde50efcbdb2055da23dcdbc101</td>\n      <td>1775</td>\n      <td>22</td>\n      <td>0</td>\n      <td>10</td>\n      <td>13</td>\n      <td>0.0</td>\n      <td>30</td>\n      <td>20</td>\n      <td>48</td>\n      <td>36</td>\n      <td>...</td>\n      <td>30</td>\n      <td>33</td>\n      <td>47</td>\n      <td>56794</td>\n      <td>572</td>\n      <td>61772</td>\n      <td>82</td>\n      <td>2.650000</td>\n      <td>4</td>\n      <td>0</td>\n    </tr>\n  </tbody>\n</table>\n<p>27664 rows × 28 columns</p>\n</div>"
     },
     "metadata": {},
     "output_type": "execute_result",
     "execution_count": 12
    }
   ],
   "source": [
    "X\n",
    "\n"
   ],
   "metadata": {
    "collapsed": false,
    "pycharm": {
     "name": "#%%\n",
     "is_executing": false
    }
   }
  },
  {
   "cell_type": "code",
   "execution_count": null,
   "outputs": [],
   "source": [
    "\n"
   ],
   "metadata": {
    "collapsed": false,
    "pycharm": {
     "name": "#%%\n"
    }
   }
  }
 ],
 "metadata": {
  "kernelspec": {
   "display_name": "Python 3",
   "language": "python",
   "name": "python3"
  },
  "language_info": {
   "codemirror_mode": {
    "name": "ipython",
    "version": 3
   },
   "file_extension": ".py",
   "mimetype": "text/x-python",
   "name": "python",
   "nbconvert_exporter": "python",
   "pygments_lexer": "ipython3",
   "version": "3.7.4"
  },
  "pycharm": {
   "stem_cell": {
    "cell_type": "raw",
    "source": [],
    "metadata": {
     "collapsed": false
    }
   }
  }
 },
 "nbformat": 4,
 "nbformat_minor": 1
}