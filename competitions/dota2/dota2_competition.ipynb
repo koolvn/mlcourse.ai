{
 "cells": [
  {
   "cell_type": "markdown",
   "metadata": {},
   "source": [
    "<center>\n",
    "<img src=\"https://habrastorage.org/files/fd4/502/43d/fd450243dd604b81b9713213a247aa20.jpg\" />\n",
    "</center> \n",
    "     \n",
    "\n",
    "## <center> Kaggle inclass competition from [mlcourse.ai](https://mlcourse.ai/)\n",
    "    \n",
    "# <center> [**Dota 2 Winner Prediction**](https://www.kaggle.com/c/mlcourse-dota2-win-prediction/)\n",
    "\n",
    "### <center> Session: Fall 2019\n",
    "\n",
    "#### <div style=\"text-align: right\"> Author: [Vladimir Kulyashov](https://www.kaggle.com/vovkaperm)\n",
    "\n",
    "\n",
    "<div style=\"text-align: right\"> creation date: 29 October 2019 </div>"
   ]
  },
  {
   "cell_type": "code",
   "execution_count": 1,
   "metadata": {
    "pycharm": {
     "is_executing": false
    }
   },
   "outputs": [],
   "source": [
    "import datetime\n",
    "import numpy as np\n",
    "import pandas as pd\n",
    "import matplotlib.pyplot as plt\n",
    "from os import path\n",
    "from sklearn.model_selection import cross_val_score, StratifiedKFold\n",
    "from sklearn.linear_model import LogisticRegression\n",
    "from sklearn.decomposition import PCA\n",
    "from sklearn.preprocessing import StandardScaler"
   ]
  },
  {
   "cell_type": "code",
   "execution_count": 2,
   "metadata": {},
   "outputs": [],
   "source": [
    "PATH_TO_DATA = './data/'\n",
    "PATH_TO_PREDS = './predictions/'\n",
    "SEED = 17\n",
    "\n",
    "skf = StratifiedKFold(n_splits=10, random_state=SEED)\n",
    "logit = LogisticRegression(random_state=SEED, solver='lbfgs', max_iter=500)\n",
    "pca_1 = PCA(n_components=1)\n",
    "pca_2 = PCA(n_components=2)\n",
    "scaler = StandardScaler()"
   ]
  },
  {
   "cell_type": "code",
   "execution_count": 3,
   "metadata": {},
   "outputs": [],
   "source": [
    "# Useful def's\n",
    "\n",
    "def diff_of_quat(a1, a2):\n",
    "    if a1 + a2 == 0: return 0\n",
    "    else: return (a1-a2) / (a1 + a2)\n",
    "\n",
    "\n",
    "def create_team_feature(feature):\n",
    "    r_tmp = full_df[[f'r{i}_{feature}' for i in range(1,6)]]\n",
    "    d_tmp = full_df[[f'd{i}_{feature}' for i in range(1,6)]]\n",
    "    new_df[feature] = pd.concat([r_tmp.sum(axis=1), d_tmp.sum(axis=1)], axis=1).apply(lambda x: diff_of_quat(*x), axis=1)\n",
    "    \n",
    "def write_submission_file(predictions, filename):\n",
    "    sub = pd.read_csv(path.join(PATH_TO_DATA,'sample_submission.csv'))\n",
    "    sub['radiant_win_prob'] = predictions\n",
    "    sub.to_csv(filename, index=False)\n",
    "    print(f'Saved as {filename}')"
   ]
  },
  {
   "cell_type": "markdown",
   "metadata": {
    "pycharm": {
     "is_executing": false,
     "name": "#%% md\n"
    }
   },
   "source": [
    "### Loading DATA"
   ]
  },
  {
   "cell_type": "code",
   "execution_count": 4,
   "metadata": {},
   "outputs": [
    {
     "name": "stdout",
     "output_type": "stream",
     "text": [
      "Wall time: 1.82 s\n"
     ]
    },
    {
     "data": {
      "text/html": [
       "<div>\n",
       "<style scoped>\n",
       "    .dataframe tbody tr th:only-of-type {\n",
       "        vertical-align: middle;\n",
       "    }\n",
       "\n",
       "    .dataframe tbody tr th {\n",
       "        vertical-align: top;\n",
       "    }\n",
       "\n",
       "    .dataframe thead th {\n",
       "        text-align: right;\n",
       "    }\n",
       "</style>\n",
       "<table border=\"1\" class=\"dataframe\">\n",
       "  <thead>\n",
       "    <tr style=\"text-align: right;\">\n",
       "      <th></th>\n",
       "      <th>game_time</th>\n",
       "      <th>game_mode</th>\n",
       "      <th>lobby_type</th>\n",
       "      <th>objectives_len</th>\n",
       "      <th>chat_len</th>\n",
       "      <th>r1_hero_id</th>\n",
       "      <th>r1_kills</th>\n",
       "      <th>r1_deaths</th>\n",
       "      <th>r1_assists</th>\n",
       "      <th>r1_denies</th>\n",
       "      <th>...</th>\n",
       "      <th>d5_stuns</th>\n",
       "      <th>d5_creeps_stacked</th>\n",
       "      <th>d5_camps_stacked</th>\n",
       "      <th>d5_rune_pickups</th>\n",
       "      <th>d5_firstblood_claimed</th>\n",
       "      <th>d5_teamfight_participation</th>\n",
       "      <th>d5_towers_killed</th>\n",
       "      <th>d5_roshans_killed</th>\n",
       "      <th>d5_obs_placed</th>\n",
       "      <th>d5_sen_placed</th>\n",
       "    </tr>\n",
       "  </thead>\n",
       "  <tbody>\n",
       "    <tr>\n",
       "      <td>0</td>\n",
       "      <td>155</td>\n",
       "      <td>22</td>\n",
       "      <td>7</td>\n",
       "      <td>1</td>\n",
       "      <td>11</td>\n",
       "      <td>11</td>\n",
       "      <td>0</td>\n",
       "      <td>0</td>\n",
       "      <td>0</td>\n",
       "      <td>0</td>\n",
       "      <td>...</td>\n",
       "      <td>0.0</td>\n",
       "      <td>0</td>\n",
       "      <td>0</td>\n",
       "      <td>0</td>\n",
       "      <td>0</td>\n",
       "      <td>0.0</td>\n",
       "      <td>0</td>\n",
       "      <td>0</td>\n",
       "      <td>0</td>\n",
       "      <td>0</td>\n",
       "    </tr>\n",
       "    <tr>\n",
       "      <td>1</td>\n",
       "      <td>658</td>\n",
       "      <td>4</td>\n",
       "      <td>0</td>\n",
       "      <td>3</td>\n",
       "      <td>10</td>\n",
       "      <td>15</td>\n",
       "      <td>7</td>\n",
       "      <td>2</td>\n",
       "      <td>0</td>\n",
       "      <td>7</td>\n",
       "      <td>...</td>\n",
       "      <td>0.0</td>\n",
       "      <td>0</td>\n",
       "      <td>0</td>\n",
       "      <td>0</td>\n",
       "      <td>0</td>\n",
       "      <td>0.0</td>\n",
       "      <td>0</td>\n",
       "      <td>0</td>\n",
       "      <td>0</td>\n",
       "      <td>0</td>\n",
       "    </tr>\n",
       "    <tr>\n",
       "      <td>2</td>\n",
       "      <td>21</td>\n",
       "      <td>23</td>\n",
       "      <td>0</td>\n",
       "      <td>0</td>\n",
       "      <td>0</td>\n",
       "      <td>101</td>\n",
       "      <td>0</td>\n",
       "      <td>0</td>\n",
       "      <td>0</td>\n",
       "      <td>0</td>\n",
       "      <td>...</td>\n",
       "      <td>0.0</td>\n",
       "      <td>0</td>\n",
       "      <td>0</td>\n",
       "      <td>0</td>\n",
       "      <td>0</td>\n",
       "      <td>0.0</td>\n",
       "      <td>0</td>\n",
       "      <td>0</td>\n",
       "      <td>0</td>\n",
       "      <td>0</td>\n",
       "    </tr>\n",
       "  </tbody>\n",
       "</table>\n",
       "<p>3 rows × 245 columns</p>\n",
       "</div>"
      ],
      "text/plain": [
       "   game_time  game_mode  lobby_type  objectives_len  chat_len  r1_hero_id  \\\n",
       "0        155         22           7               1        11          11   \n",
       "1        658          4           0               3        10          15   \n",
       "2         21         23           0               0         0         101   \n",
       "\n",
       "   r1_kills  r1_deaths  r1_assists  r1_denies  ...  d5_stuns  \\\n",
       "0         0          0           0          0  ...       0.0   \n",
       "1         7          2           0          7  ...       0.0   \n",
       "2         0          0           0          0  ...       0.0   \n",
       "\n",
       "   d5_creeps_stacked  d5_camps_stacked  d5_rune_pickups  \\\n",
       "0                  0                 0                0   \n",
       "1                  0                 0                0   \n",
       "2                  0                 0                0   \n",
       "\n",
       "   d5_firstblood_claimed  d5_teamfight_participation  d5_towers_killed  \\\n",
       "0                      0                         0.0                 0   \n",
       "1                      0                         0.0                 0   \n",
       "2                      0                         0.0                 0   \n",
       "\n",
       "   d5_roshans_killed  d5_obs_placed  d5_sen_placed  \n",
       "0                  0              0              0  \n",
       "1                  0              0              0  \n",
       "2                  0              0              0  \n",
       "\n",
       "[3 rows x 245 columns]"
      ]
     },
     "execution_count": 4,
     "metadata": {},
     "output_type": "execute_result"
    }
   ],
   "source": [
    "%%time\n",
    "cols = pd.read_csv(path.join(PATH_TO_DATA, 'train_features.csv'), sep=',', nrows=1).columns\n",
    "cols = list(set(cols) - {'match_id_hash'})\n",
    "\n",
    "train_df = pd.read_csv(path.join(PATH_TO_DATA, 'train_features.csv'), sep=',', header=0, usecols=cols)\n",
    "train_targets = pd.read_csv(path.join(PATH_TO_DATA, 'train_targets.csv'), \n",
    "                            header=0, usecols=['radiant_win'], squeeze=True).astype('int')\n",
    "\n",
    "test_df = pd.read_csv(path.join(PATH_TO_DATA, 'test_features.csv'), sep=',', header=0, usecols=cols)\n",
    "\n",
    "\n",
    "full_df = pd.concat([train_df, test_df])\n",
    "idx = train_df.shape[0]\n",
    "full_df.head(3)"
   ]
  },
  {
   "cell_type": "markdown",
   "metadata": {},
   "source": [
    "### Adding features"
   ]
  },
  {
   "cell_type": "code",
   "execution_count": 10,
   "metadata": {},
   "outputs": [
    {
     "name": "stdout",
     "output_type": "stream",
     "text": [
      "Wall time: 21 s\n"
     ]
    },
    {
     "data": {
      "text/html": [
       "<div>\n",
       "<style scoped>\n",
       "    .dataframe tbody tr th:only-of-type {\n",
       "        vertical-align: middle;\n",
       "    }\n",
       "\n",
       "    .dataframe tbody tr th {\n",
       "        vertical-align: top;\n",
       "    }\n",
       "\n",
       "    .dataframe thead th {\n",
       "        text-align: right;\n",
       "    }\n",
       "</style>\n",
       "<table border=\"1\" class=\"dataframe\">\n",
       "  <thead>\n",
       "    <tr style=\"text-align: right;\">\n",
       "      <th></th>\n",
       "      <th>kills</th>\n",
       "      <th>deaths</th>\n",
       "      <th>assists</th>\n",
       "      <th>gold</th>\n",
       "      <th>xp</th>\n",
       "      <th>denies</th>\n",
       "      <th>lh</th>\n",
       "      <th>level</th>\n",
       "      <th>max_health</th>\n",
       "      <th>max_mana</th>\n",
       "      <th>firstblood_claimed</th>\n",
       "      <th>teamfight_participation</th>\n",
       "      <th>towers_killed</th>\n",
       "      <th>obs_placed</th>\n",
       "      <th>rune_pickups</th>\n",
       "      <th>roshans_killed</th>\n",
       "      <th>chat_len</th>\n",
       "    </tr>\n",
       "  </thead>\n",
       "  <tbody>\n",
       "    <tr>\n",
       "      <td>0</td>\n",
       "      <td>-1.000000</td>\n",
       "      <td>1.0</td>\n",
       "      <td>-1.000000</td>\n",
       "      <td>-0.319298</td>\n",
       "      <td>-0.215369</td>\n",
       "      <td>-0.666667</td>\n",
       "      <td>-0.122807</td>\n",
       "      <td>-0.181818</td>\n",
       "      <td>0.000000</td>\n",
       "      <td>-0.132659</td>\n",
       "      <td>-1.0</td>\n",
       "      <td>-1.000000</td>\n",
       "      <td>0.0</td>\n",
       "      <td>-1.000000</td>\n",
       "      <td>-0.555556</td>\n",
       "      <td>0.0</td>\n",
       "      <td>0.273281</td>\n",
       "    </tr>\n",
       "    <tr>\n",
       "      <td>1</td>\n",
       "      <td>0.684211</td>\n",
       "      <td>-0.6</td>\n",
       "      <td>0.647059</td>\n",
       "      <td>0.160557</td>\n",
       "      <td>0.152209</td>\n",
       "      <td>0.272727</td>\n",
       "      <td>0.139013</td>\n",
       "      <td>0.104478</td>\n",
       "      <td>0.070248</td>\n",
       "      <td>0.041403</td>\n",
       "      <td>-1.0</td>\n",
       "      <td>0.111111</td>\n",
       "      <td>1.0</td>\n",
       "      <td>-0.111111</td>\n",
       "      <td>-0.037037</td>\n",
       "      <td>0.0</td>\n",
       "      <td>0.198803</td>\n",
       "    </tr>\n",
       "    <tr>\n",
       "      <td>2</td>\n",
       "      <td>0.000000</td>\n",
       "      <td>0.0</td>\n",
       "      <td>0.000000</td>\n",
       "      <td>0.294118</td>\n",
       "      <td>0.000000</td>\n",
       "      <td>0.000000</td>\n",
       "      <td>0.000000</td>\n",
       "      <td>0.000000</td>\n",
       "      <td>-0.003155</td>\n",
       "      <td>0.025788</td>\n",
       "      <td>0.0</td>\n",
       "      <td>0.000000</td>\n",
       "      <td>0.0</td>\n",
       "      <td>0.000000</td>\n",
       "      <td>0.500000</td>\n",
       "      <td>0.0</td>\n",
       "      <td>-0.545975</td>\n",
       "    </tr>\n",
       "  </tbody>\n",
       "</table>\n",
       "</div>"
      ],
      "text/plain": [
       "      kills  deaths   assists      gold        xp    denies        lh  \\\n",
       "0 -1.000000     1.0 -1.000000 -0.319298 -0.215369 -0.666667 -0.122807   \n",
       "1  0.684211    -0.6  0.647059  0.160557  0.152209  0.272727  0.139013   \n",
       "2  0.000000     0.0  0.000000  0.294118  0.000000  0.000000  0.000000   \n",
       "\n",
       "      level  max_health  max_mana  firstblood_claimed  \\\n",
       "0 -0.181818    0.000000 -0.132659                -1.0   \n",
       "1  0.104478    0.070248  0.041403                -1.0   \n",
       "2  0.000000   -0.003155  0.025788                 0.0   \n",
       "\n",
       "   teamfight_participation  towers_killed  obs_placed  rune_pickups  \\\n",
       "0                -1.000000            0.0   -1.000000     -0.555556   \n",
       "1                 0.111111            1.0   -0.111111     -0.037037   \n",
       "2                 0.000000            0.0    0.000000      0.500000   \n",
       "\n",
       "   roshans_killed  chat_len  \n",
       "0             0.0  0.273281  \n",
       "1             0.0  0.198803  \n",
       "2             0.0 -0.545975  "
      ]
     },
     "execution_count": 10,
     "metadata": {},
     "output_type": "execute_result"
    }
   ],
   "source": [
    "%%time\n",
    "team_features = ['kills',\n",
    "                 'deaths',\n",
    "                 'assists',\n",
    "                 'gold',\n",
    "                 'xp',\n",
    "                 'denies',\n",
    "                 'lh',\n",
    "                 'level',\n",
    "                 'max_health',\n",
    "                 'max_mana',\n",
    "                 'firstblood_claimed',\n",
    "                 'teamfight_participation',\n",
    "                 'towers_killed',\n",
    "                 'obs_placed',\n",
    "                 'rune_pickups',\n",
    "                 'roshans_killed',\n",
    "#                  'stuns',\n",
    "#                  'camps_stacked',\n",
    "#                  'sen_placed',\n",
    "                ]\n",
    "\n",
    "new_df = pd.DataFrame(index=full_df.index)\n",
    "\n",
    "for feature in team_features:\n",
    "    create_team_feature(feature)\n",
    "    \n",
    "new_df['chat_len'] = scaler.fit_transform(full_df['chat_len'].values.reshape(-1, 1))\n",
    "team_features.append('chat_len')\n",
    "# new_df['objectives_len'] = scaler.fit_transform(full_df['objectives_len'].values.reshape(-1, 1))\n",
    "# team_features.append('objectives_len')\n",
    "# new_df['game_time'] = scaler.fit_transform(full_df['game_time'].values.reshape(-1,1))\n",
    "# team_features.append('game_time')\n",
    "\n",
    "new_df.head(3)"
   ]
  },
  {
   "cell_type": "code",
   "execution_count": 11,
   "metadata": {},
   "outputs": [
    {
     "name": "stdout",
     "output_type": "stream",
     "text": [
      "[0.80000637 0.81388606 0.79401699 0.80535317 0.81226119 0.8013409\n",
      " 0.7971309  0.7969403  0.80448966 0.81042593]\n",
      "CV mean:  0.803585\n",
      "CV max:  0.813886\n"
     ]
    },
    {
     "data": {
      "text/html": [
       "<div>\n",
       "<style scoped>\n",
       "    .dataframe tbody tr th:only-of-type {\n",
       "        vertical-align: middle;\n",
       "    }\n",
       "\n",
       "    .dataframe tbody tr th {\n",
       "        vertical-align: top;\n",
       "    }\n",
       "\n",
       "    .dataframe thead th {\n",
       "        text-align: right;\n",
       "    }\n",
       "</style>\n",
       "<table border=\"1\" class=\"dataframe\">\n",
       "  <thead>\n",
       "    <tr style=\"text-align: right;\">\n",
       "      <th></th>\n",
       "      <th>features</th>\n",
       "      <th>coefs</th>\n",
       "    </tr>\n",
       "  </thead>\n",
       "  <tbody>\n",
       "    <tr>\n",
       "      <td>7</td>\n",
       "      <td>level</td>\n",
       "      <td>7.126874</td>\n",
       "    </tr>\n",
       "    <tr>\n",
       "      <td>3</td>\n",
       "      <td>gold</td>\n",
       "      <td>4.079251</td>\n",
       "    </tr>\n",
       "    <tr>\n",
       "      <td>8</td>\n",
       "      <td>max_health</td>\n",
       "      <td>3.090431</td>\n",
       "    </tr>\n",
       "    <tr>\n",
       "      <td>9</td>\n",
       "      <td>max_mana</td>\n",
       "      <td>0.967883</td>\n",
       "    </tr>\n",
       "    <tr>\n",
       "      <td>0</td>\n",
       "      <td>kills</td>\n",
       "      <td>0.766942</td>\n",
       "    </tr>\n",
       "    <tr>\n",
       "      <td>6</td>\n",
       "      <td>lh</td>\n",
       "      <td>0.524323</td>\n",
       "    </tr>\n",
       "    <tr>\n",
       "      <td>2</td>\n",
       "      <td>assists</td>\n",
       "      <td>0.513879</td>\n",
       "    </tr>\n",
       "    <tr>\n",
       "      <td>1</td>\n",
       "      <td>deaths</td>\n",
       "      <td>0.451196</td>\n",
       "    </tr>\n",
       "    <tr>\n",
       "      <td>12</td>\n",
       "      <td>towers_killed</td>\n",
       "      <td>0.451042</td>\n",
       "    </tr>\n",
       "    <tr>\n",
       "      <td>14</td>\n",
       "      <td>rune_pickups</td>\n",
       "      <td>0.397391</td>\n",
       "    </tr>\n",
       "    <tr>\n",
       "      <td>4</td>\n",
       "      <td>xp</td>\n",
       "      <td>0.353917</td>\n",
       "    </tr>\n",
       "    <tr>\n",
       "      <td>15</td>\n",
       "      <td>roshans_killed</td>\n",
       "      <td>0.323819</td>\n",
       "    </tr>\n",
       "    <tr>\n",
       "      <td>13</td>\n",
       "      <td>obs_placed</td>\n",
       "      <td>0.135946</td>\n",
       "    </tr>\n",
       "    <tr>\n",
       "      <td>5</td>\n",
       "      <td>denies</td>\n",
       "      <td>0.121073</td>\n",
       "    </tr>\n",
       "    <tr>\n",
       "      <td>16</td>\n",
       "      <td>chat_len</td>\n",
       "      <td>-0.025315</td>\n",
       "    </tr>\n",
       "    <tr>\n",
       "      <td>10</td>\n",
       "      <td>firstblood_claimed</td>\n",
       "      <td>-0.041821</td>\n",
       "    </tr>\n",
       "    <tr>\n",
       "      <td>11</td>\n",
       "      <td>teamfight_participation</td>\n",
       "      <td>-0.766910</td>\n",
       "    </tr>\n",
       "  </tbody>\n",
       "</table>\n",
       "</div>"
      ],
      "text/plain": [
       "                   features     coefs\n",
       "7                     level  7.126874\n",
       "3                      gold  4.079251\n",
       "8                max_health  3.090431\n",
       "9                  max_mana  0.967883\n",
       "0                     kills  0.766942\n",
       "6                        lh  0.524323\n",
       "2                   assists  0.513879\n",
       "1                    deaths  0.451196\n",
       "12            towers_killed  0.451042\n",
       "14             rune_pickups  0.397391\n",
       "4                        xp  0.353917\n",
       "15           roshans_killed  0.323819\n",
       "13               obs_placed  0.135946\n",
       "5                    denies  0.121073\n",
       "16                 chat_len -0.025315\n",
       "10       firstblood_claimed -0.041821\n",
       "11  teamfight_participation -0.766910"
      ]
     },
     "execution_count": 11,
     "metadata": {},
     "output_type": "execute_result"
    }
   ],
   "source": [
    "team_features_cv = cross_val_score(logit, new_df[:idx].values, train_targets.values,\n",
    "                                   scoring='roc_auc', cv=skf)\n",
    "print(team_features_cv)\n",
    "print(f'CV mean: {team_features_cv.mean(): 4f}')\n",
    "print(f'CV max: {team_features_cv.max(): 4f}')\n",
    "logit.fit(new_df[:idx].values, train_targets.values)\n",
    "preds = logit.predict_proba(new_df[idx:].values)\n",
    "feature_importance = pd.DataFrame()\n",
    "feature_importance['features'] = team_features\n",
    "feature_importance['coefs'] = logit.coef_[0]\n",
    "feature_importance.sort_values(by='coefs', ascending=False)"
   ]
  },
  {
   "cell_type": "code",
   "execution_count": 7,
   "metadata": {},
   "outputs": [
    {
     "data": {
      "text/plain": [
       "['kills',\n",
       " 'deaths',\n",
       " 'assists',\n",
       " 'gold',\n",
       " 'xp',\n",
       " 'denies',\n",
       " 'lh',\n",
       " 'level',\n",
       " 'max_health',\n",
       " 'max_mana',\n",
       " 'firstblood_claimed',\n",
       " 'teamfight_participation',\n",
       " 'towers_killed',\n",
       " 'obs_placed',\n",
       " 'chat_len']"
      ]
     },
     "execution_count": 7,
     "metadata": {},
     "output_type": "execute_result"
    }
   ],
   "source": [
    "team_features"
   ]
  },
  {
   "cell_type": "code",
   "execution_count": 53,
   "metadata": {},
   "outputs": [
    {
     "name": "stdout",
     "output_type": "stream",
     "text": [
      "Saved as ./predictions/sub_1.csv\n"
     ]
    }
   ],
   "source": [
    "filename = f'sub_1.csv'\n",
    "write_submission_file(preds, path.join(PATH_TO_PREDS, filename))"
   ]
  },
  {
   "cell_type": "markdown",
   "metadata": {},
   "source": [
    "Initial submit gave **0.81678** on LB with the folowing features.\n",
    "\n",
    "team_features = ['kills',\n",
    "                 'deaths',\n",
    "                 'assists',\n",
    "                 'gold',\n",
    "                 'xp',\n",
    "                 'denies',\n",
    "                 'lh',\n",
    "                 'level',\n",
    "                 'max_health',\n",
    "                 'firstblood_claimed',\n",
    "                 'teamfight_participation',\n",
    "                 'towers_killed',\n",
    "                 'obs_placed']"
   ]
  },
  {
   "cell_type": "markdown",
   "metadata": {},
   "source": [
    "### Let's dive into JSON and find/make some awsome features :))"
   ]
  },
  {
   "cell_type": "code",
   "execution_count": 44,
   "metadata": {
    "pycharm": {
     "is_executing": false,
     "name": "#%%\n"
    }
   },
   "outputs": [],
   "source": [
    "import json\n",
    "matches = []\n",
    "with open(path.join(PATH_TO_DATA, 'train_matches.jsonl')) as f:\n",
    "    for i in range(500):\n",
    "        line = f.readline()\n",
    "        matches.append(json.loads(line))\n",
    "    "
   ]
  },
  {
   "cell_type": "code",
   "execution_count": null,
   "metadata": {
    "pycharm": {
     "is_executing": false,
     "name": "#%%\n"
    }
   },
   "outputs": [],
   "source": [
    "matches[0]['players'][i]['hero_inventory']"
   ]
  },
  {
   "cell_type": "code",
   "execution_count": null,
   "metadata": {
    "pycharm": {
     "is_executing": false,
     "name": "#%%\n"
    }
   },
   "outputs": [],
   "source": [
    "afk_players = pd.DataFrame()\n",
    "for match in matches:\n",
    "    for i, game in enumerate(match):\n",
    "        if len(match['players'][i]['actions']) < 3:\n",
    "            afk_players = afk_players.append(pd.DataFrame(data={'match_id_hash': match['match_id_hash'], 'afk': 1}, index=[i]))\n",
    "        # else:\n",
    "        #     afk_players = afk_players.append(pd.DataFrame(data={'afk_true': 0}, index=[match['match_id_hash']]))\n",
    "            # print(f\"player_slot {match['players'][i]['player_slot']} in match {match['match_id_hash']} was AFK\")\n",
    "afk_players"
   ]
  },
  {
   "cell_type": "code",
   "execution_count": null,
   "metadata": {
    "pycharm": {
     "is_executing": false,
     "name": "#%%\n"
    }
   },
   "outputs": [],
   "source": [
    "afk_players = afk_players.groupby('match_id_hash').sum()\n",
    "afk_players"
   ]
  },
  {
   "cell_type": "code",
   "execution_count": null,
   "metadata": {
    "pycharm": {
     "is_executing": false,
     "name": "#%%\n"
    }
   },
   "outputs": [],
   "source": [
    "%time\n",
    "import os\n",
    "\n",
    "try:\n",
    "    import ujson as json\n",
    "except ModuleNotFoundError:\n",
    "    import json\n",
    "    print ('Please install ujson to read JSON oblects faster')\n",
    "    \n",
    "try:\n",
    "    from tqdm import tqdm_notebook\n",
    "except ModuleNotFoundError:\n",
    "    tqdm_notebook = lambda x: x\n",
    "    print ('Please install tqdm to track progress with Python loops')\n",
    "\n",
    "def read_matches(matches_file):\n",
    "    \n",
    "    MATCHES_COUNT = {\n",
    "        'test_matches.jsonl': 10000,\n",
    "        'train_matches.jsonl': 39675,\n",
    "    }\n",
    "    _, filename = os.path.split(matches_file)\n",
    "    total_matches = MATCHES_COUNT.get(filename)\n",
    "    \n",
    "    with open(matches_file) as fin:\n",
    "        for line in tqdm_notebook(fin, total=total_matches):\n",
    "            yield json.loads(line)\n",
    "            \n",
    "afk_players = pd.DataFrame()   \n",
    "# processing each game\n",
    "for match in read_matches('../data/train_matches.jsonl'):\n",
    "    \n",
    "   # processing each player\n",
    "    for i, player in enumerate(match['players']):\n",
    "        if len(match['players'][i]['actions']) < 5:\n",
    "            afk_players = afk_players.append(pd.DataFrame(data={'match_id_hash': match['match_id_hash'], 'afk': 1}, index=[i]))"
   ]
  },
  {
   "cell_type": "code",
   "execution_count": null,
   "metadata": {
    "pycharm": {
     "is_executing": false,
     "name": "#%%"
    }
   },
   "outputs": [],
   "source": [
    "afk_players = afk_players.groupby('match_id_hash').sum().reset_index()\n",
    "print(afk_players.info())\n",
    "afk_players.head()"
   ]
  },
  {
   "cell_type": "code",
   "execution_count": null,
   "metadata": {
    "pycharm": {
     "is_executing": false,
     "name": "#%%\n"
    }
   },
   "outputs": [],
   "source": []
  }
 ],
 "metadata": {
  "kernelspec": {
   "display_name": "Python 3",
   "language": "python",
   "name": "python3"
  },
  "language_info": {
   "codemirror_mode": {
    "name": "ipython",
    "version": 3
   },
   "file_extension": ".py",
   "mimetype": "text/x-python",
   "name": "python",
   "nbconvert_exporter": "python",
   "pygments_lexer": "ipython3",
   "version": "3.7.3"
  },
  "pycharm": {
   "stem_cell": {
    "cell_type": "raw",
    "metadata": {
     "collapsed": false
    },
    "source": []
   }
  }
 },
 "nbformat": 4,
 "nbformat_minor": 1
}
